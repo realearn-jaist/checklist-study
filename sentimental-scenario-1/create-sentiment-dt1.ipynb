{
 "cells": [
  {
   "cell_type": "markdown",
   "metadata": {},
   "source": [
    "# Sentimental dataset 1\n",
    "This notebook is responsible for creating test cases for sentiment analysis. After processing all test suites, it will save the test cases to sentimental_suite_dt1.pkl. This scenario had changed some word from the author to approprate with the amazon dataset for example, `This was a well aircraft` to `This was a well silent movie.`. This scenario nlp task also used on the following capabilities: \n",
    "    - Capability: Vocabulary\n",
    "    - Capability: Temporal Awareness\n",
    "    - Capability: Negation\n",
    "    - Capability: SRL"
   ]
  },
  {
   "cell_type": "markdown",
   "metadata": {},
   "source": [
    "Note:\n",
    "- MFT(Minimum Functionality Test): focuses on evaluating whether a model has the basic functionality \n",
    "- DIR(Directional Expectation test). determine whether a model’s predictions are consistent with a prior expectation or hypothesis \n",
    "- INV (Invariance testing) is a type of testing in ML that checks whether a model is invariant to certain transformations or changes in the input data. \n",
    "\n",
    "\n",
    "\n",
    "ref:\n",
    "- https://www.godeltech.com/how-to-automate-the-testing-process-for-machine-learning-systems/\n",
    "\n",
    "To test each test case fail or not, depends on the `Label` that provide in line like this\n",
    "```test = MFT(**t, labels=0, name=name, capability = 'Vocabulary',description=desc)```\n",
    "ps. it can be changed depends on the type(MFT, DIR, or INV) that select to test \n",
    "\n",
    "For the sentimental scenario\n",
    "- 'Negative': 0\n",
    "- 'Positive': 2\n",
    "- 'Neutral': 1"
   ]
  },
  {
   "cell_type": "code",
   "execution_count": 1,
   "metadata": {},
   "outputs": [],
   "source": [
    "%load_ext autoreload\n",
    "%autoreload 2\n",
    "\n",
    "import checklist\n",
    "import spacy\n",
    "import itertools\n",
    "\n",
    "import checklist.editor\n",
    "import checklist.text_generation\n",
    "from checklist.test_types import MFT, INV, DIR\n",
    "from checklist.expect import Expect\n",
    "import numpy as np\n",
    "import spacy\n",
    "from checklist.test_suite import TestSuite\n",
    "from checklist.perturb import Perturb\n",
    "from transformers import pipeline"
   ]
  },
  {
   "cell_type": "code",
   "execution_count": 2,
   "metadata": {},
   "outputs": [
    {
     "data": {
      "text/plain": [
       "<checklist.text_generation.TextGenerator at 0x1fa08a7e510>"
      ]
     },
     "execution_count": 2,
     "metadata": {},
     "output_type": "execute_result"
    }
   ],
   "source": [
    "editor = checklist.editor.Editor()\n",
    "editor.tg"
   ]
  },
  {
   "cell_type": "code",
   "execution_count": 4,
   "metadata": {},
   "outputs": [],
   "source": [
    "import csv\n",
    "r = csv.DictReader(open('amazon_review.csv')) # read file amazon review...... \n",
    "\n",
    "# Initialize array to store the data\n",
    "labels = []\n",
    "scores = []\n",
    "titles = []\n",
    "tdata = []\n",
    "# reasons = []\n",
    "\n",
    "# Append data from csv file into the array\n",
    "for row in r:\n",
    "    sentiment, score, title, text = row['sentiment'], row['score'], row['title'], row['text']\n",
    "    labels.append(sentiment)  #append sentiment label\n",
    "    scores.append(score) #append the score of sentiment\n",
    "    titles.append(title) #append the title\n",
    "    tdata.append(text) #append the text\n",
    "    # reasons.append(row['negativereason'])\n",
    "\n",
    "mapping = {'Negative': 0, 'Positive': 2, 'Neutral': 1} # define to map the label data into number\n",
    "labels = np.array([mapping[x] for x in labels]).astype(int)"
   ]
  },
  {
   "cell_type": "code",
   "execution_count": 5,
   "metadata": {},
   "outputs": [],
   "source": [
    "# This is the model from Spacy library used for the NLP task below in the parsed_question. to parse data into the pipeline\n",
    "nlp = spacy.load('en_core_web_sm')"
   ]
  },
  {
   "cell_type": "code",
   "execution_count": 6,
   "metadata": {},
   "outputs": [],
   "source": [
    "# turn data into pipeline then convert to list, and saved the result in `parsed_data`\n",
    "sentences = tdata\n",
    "parsed_data = list(nlp.pipe(sentences))"
   ]
  },
  {
   "cell_type": "code",
   "execution_count": 7,
   "metadata": {},
   "outputs": [],
   "source": [
    "# Test suite is container for the unit test. used for the test case.\n",
    "suite = TestSuite()"
   ]
  },
  {
   "cell_type": "markdown",
   "metadata": {},
   "source": [
    "## Capability: Vocabulary"
   ]
  },
  {
   "cell_type": "markdown",
   "metadata": {},
   "source": [
    "### MFTs"
   ]
  },
  {
   "cell_type": "code",
   "execution_count": 8,
   "metadata": {},
   "outputs": [],
   "source": [
    "# define noun in amazon review\n",
    "amazon_noun = ['western movie', 'action movie', 'action movie', 'adventure movie', 'animation', 'cartoon', 'comedy', 'coming of age movie', 'crime movie', 'documentary',\n",
    "              'drama', 'entertainment', 'family', 'fantasy', 'horror movie', 'musical', 'mystery', 'realistic', 'remale', 'romance', 'sci-fi',\n",
    "              'short film', 'silent movie', 'thriller movie', 'war', 'genre', 'book', 'single', 'headphone', 'gift', 'series', 'product', 'track', 'shoes',\n",
    "              'novel', 'E-book', 'tablet', 'smartphone', 'laptop', 'computer', 'smartwatch', 'CD' ]\n",
    "\n",
    "# add the noun array in to lexicon which can use like mask. On this line, it will be used in {amazon_noun} which can be changed when testing.\n",
    "editor.add_lexicon('amazon_noun', amazon_noun, overwrite=True)"
   ]
  },
  {
   "cell_type": "code",
   "execution_count": 10,
   "metadata": {},
   "outputs": [],
   "source": [
    "# define positive, negative, and neutral adjective\n",
    "pos_adj = ['greatest','well','good', 'great', 'excellent', 'amazing', 'extraordinary', 'beautiful', 'fantastic', 'nice', 'incredible', 'exceptional', 'awesome', 'perfect', 'fun', 'happy', 'adorable', 'brilliant', 'exciting', 'sweet', 'wonderful']\n",
    "neg_adj = ['awful', 'bad', 'horrible', 'weird', 'rough', 'lousy', 'unhappy', 'average', 'difficult', 'poor', 'sad', 'frustrating', 'hard', 'lame', 'nasty', 'annoying', 'boring', 'creepy', 'dreadful', 'ridiculous', 'terrible', 'ugly', 'unpleasant']\n",
    "neutral_adj = ['American', 'international',  'commercial', 'British', 'private', 'Italian', 'Indian', 'Australian', 'Israeli', ]\n",
    "\n",
    "# add dictionary of word into object \n",
    "editor.add_lexicon('pos_adj', pos_adj, overwrite=True)\n",
    "editor.add_lexicon('neg_adj', neg_adj, overwrite=True )\n",
    "editor.add_lexicon('neutral_adj', neutral_adj, overwrite=True)"
   ]
  },
  {
   "cell_type": "code",
   "execution_count": 11,
   "metadata": {},
   "outputs": [
    {
     "name": "stdout",
     "output_type": "stream",
     "text": [
      "enjoyed, liked, like, enjoy, loved, love, appreciate, appreciated, missed, dig, miss, wanted, got, prefer, hate, want, needed, dislike, admire, admired, dug, respect, found, understand, saw, recommend, get, felt, see, did, remember, preferred, understood, likes, think, feel, disliked, mean, believe, hated, bought, need, adore, do, followed, hope, follow, noticed, read, took, considered, LOVE, watched, enjoying, thought, played, trust, tried, enjoys, was, chose, lost, welcome, supported, favor, made, Love, watch, heard, picked, underestimated, caught, had, LIKE, used, heart, loving, fancy, finished, liking, treasure, support, have, respected, value, experienced, meant, believed, mind, received, cherish, recommended, embraced, remembered, cherished, anticipated, ordered, praised, welcomed, play, buy, Like, minded, valued, helped, use, expected, find, studied, sold, just, skipped, choose, started, hit, embrace, know, crave, left, consider, wrote, brought, applaud, inspired, leave, joined, directed, discovered, regret, favored, drew, own, wish, desired, won, edited, blame, am, commend, adopted, question, recognize, digging, applauded, expect, produced, compliment, developed, grew, adapted, attended, emphasize, accepted, gave, resent, rate, desire, inherited, created, grabbed, despise, recall, forgot, beat, requested, into, imagined, met, help, solved, envy, bring, thank, added, meet, grasped, owe, provided, forgive, researched, trusted, visit, lacked, kept, reviewed, represent, pursued, explore, care, honor, explored, provide, questioned, married, broke, hear, hug, absorbed, blessed, credit\n"
     ]
    }
   ],
   "source": [
    "print(', '.join(editor.suggest('I really {mask} the {amazon_noun}.')[:200]))"
   ]
  },
  {
   "cell_type": "code",
   "execution_count": 12,
   "metadata": {},
   "outputs": [],
   "source": [
    "# define positive, negative, and neutral verb\n",
    "pos_verb_present = ['like', 'enjoy', 'appreciate', 'love',  'recommend', 'admire', 'value', 'welcome']\n",
    "neg_verb_present = ['hate', 'dislike', 'regret',  'abhor', 'dread', 'despise' ]\n",
    "neutral_verb_present = ['see', 'find']\n",
    "\n",
    "# define past participle verb\n",
    "pos_verb_past = ['liked', 'enjoyed', 'appreciated', 'loved', 'admired', 'valued', 'welcomed']\n",
    "neg_verb_past = ['hated', 'disliked', 'regretted',  'abhorred', 'dreaded', 'despised']\n",
    "neutral_verb_past = ['saw', 'found']\n",
    "\n",
    "# add dictionary of word into object \n",
    "editor.add_lexicon('pos_verb_present', pos_verb_present, overwrite=True)\n",
    "editor.add_lexicon('neg_verb_present', neg_verb_present, overwrite=True)\n",
    "editor.add_lexicon('neutral_verb_present', neutral_verb_present, overwrite=True)\n",
    "editor.add_lexicon('pos_verb_past', pos_verb_past, overwrite=True)\n",
    "editor.add_lexicon('neg_verb_past', neg_verb_past, overwrite=True)\n",
    "editor.add_lexicon('neutral_verb_past', neutral_verb_past, overwrite=True)\n",
    "\n",
    "# also add into `pos_verb`, `neg_verb`, `neutral_verb` object\n",
    "editor.add_lexicon('pos_verb', pos_verb_present+ pos_verb_past, overwrite=True)\n",
    "editor.add_lexicon('neg_verb', neg_verb_present + neg_verb_past, overwrite=True)\n",
    "editor.add_lexicon('neutral_verb', neutral_verb_present + neutral_verb_past, overwrite=True)"
   ]
  },
  {
   "cell_type": "markdown",
   "metadata": {},
   "source": [
    "Individual words"
   ]
  },
  {
   "cell_type": "code",
   "execution_count": 13,
   "metadata": {},
   "outputs": [],
   "source": [
    "# Add individual word test: positive verb\n",
    "test = MFT(pos_adj + pos_verb_present + pos_verb_past, labels=2)\n",
    "suite.add(test, 'single positive words', 'Vocabulary', '')"
   ]
  },
  {
   "cell_type": "code",
   "execution_count": 14,
   "metadata": {},
   "outputs": [],
   "source": [
    "# Add individual word test: negative verb\n",
    "test = MFT(neg_adj + neg_verb_present + neg_verb_past, labels=0)\n",
    "suite.add(test, 'single negative words', 'Vocabulary', '')"
   ]
  },
  {
   "cell_type": "code",
   "execution_count": 15,
   "metadata": {},
   "outputs": [],
   "source": [
    "# Add individual word test: neutral verb\n",
    "test = MFT(neutral_adj + neutral_verb_present + neutral_verb_past, labels=1)\n",
    "suite.add(test, 'single neutral words', 'Vocabulary', 'TODO_DESCRIPTION')"
   ]
  },
  {
   "cell_type": "markdown",
   "metadata": {},
   "source": [
    "Words in context"
   ]
  },
  {
   "cell_type": "code",
   "execution_count": 16,
   "metadata": {},
   "outputs": [],
   "source": [
    "# Add the test. On each line provided different context with the mask provided\n",
    "t = editor.template('{it} {amazon_noun} {be} {pos_adj}.', it=['The', 'This', 'That'], be=['is', 'was'], labels=2, save=True) #label 2 refers to positive\n",
    "t += editor.template('{it} {be} {a:pos_adj} {amazon_noun}.', it=['It', 'This', 'That'], be=['is', 'was'], labels=2, save=True)\n",
    "t += editor.template('{i} {pos_verb} {the} {amazon_noun}.', i=['I', 'We'], the=['this', 'that', 'the'], labels=2, save=True) #label 0 refer to negative\n",
    "t += editor.template('{it} {amazon_noun} {be} {neg_adj}.', it=['That', 'This', 'The'], be=['is', 'was'], labels=0, save=True)\n",
    "t += editor.template('{it} {be} {a:neg_adj} {amazon_noun}.', it=['It', 'This', 'That'], be=['is', 'was'], labels=0, save=True)\n",
    "t += editor.template('{i} {neg_verb} {the} {amazon_noun}.', i=['I', 'We'], the=['this', 'that', 'the'], labels=0, save=True)\n",
    "\n",
    "# **t means unpacking the dictionary into keyword argument\n",
    "test = MFT(**t)\n",
    "suite.add(test, 'Sentiment-laden words in context', 'Vocabulary', 'Use positive and negative verbs and adjectives with amazon nouns such as silent movie, thriller movie, genre, book, single, headphone, gift, series, etc. E.g. \"This was a fantastic movie\"')\n"
   ]
  },
  {
   "cell_type": "code",
   "execution_count": 17,
   "metadata": {},
   "outputs": [
    {
     "data": {
      "text/plain": [
       "['see', 'find', 'saw', 'found']"
      ]
     },
     "execution_count": 17,
     "metadata": {},
     "output_type": "execute_result"
    }
   ],
   "source": [
    "editor.lexicons['neutral_verb']"
   ]
  },
  {
   "cell_type": "code",
   "execution_count": 18,
   "metadata": {},
   "outputs": [],
   "source": [
    "# Firstly, need to define\n",
    "# needed to use += to append test on the list\n",
    "t = editor.template('{it} {amazon_noun} {be} {neutral_adj}.', it=['That', 'This', 'The'], be=['is', 'was'], save=True)\n",
    "t += editor.template('{it} {be} {a:neutral_adj} {amazon_noun}.', it=['It', 'This', 'That'], be=['is', 'was'], save=True)\n",
    "t += editor.template('{i} {neutral_verb} {the} {amazon_noun}.', i=['I', 'We'], the=['this', 'that', 'the'], save=True)\n",
    "test = MFT(t.data, labels=1, templates=t.templates)\n",
    "suite.add(test, 'neutral words in context', 'Vocabulary', 'Use neutral verbs and adjectives with airline nouns such as silent movie, thriller movie, genre, book, single, headphone, gift, series, etc. E.g. \"The thriller movie is American\"')"
   ]
  },
  {
   "cell_type": "markdown",
   "metadata": {},
   "source": [
    "### Intensifiers and reducers"
   ]
  },
  {
   "cell_type": "code",
   "execution_count": 19,
   "metadata": {},
   "outputs": [
    {
     "name": "stdout",
     "output_type": "stream",
     "text": [
      "really , truly , absolutely , very , quite , most , pretty , just , simply , historically , genuinely , totally , incredibly , completely , fucking , extremely , utterly , seriously , an , visually , unbelievably , absolute , amazingly , actually , frankly , especially , damn , rather , particularly , equally , exceptionally , insanely , extraordinarily , obviously , overall , undeniably , almost , always , freaking , unexpectedly , amazing , real , entirely , tremendously , altogether , enormously , incredible , otherwise , overwhelmingly , honestly\n"
     ]
    }
   ],
   "source": [
    "# suggest the mask from the context. In this context mask provided the adverb\n",
    "print(' , '.join(editor.suggest('{it} {be} {a:mask} {pos_adj} {amazon_noun}.', it=['It', 'This', 'That'], be=['is', 'was'])[:50]))"
   ]
  },
  {
   "cell_type": "code",
   "execution_count": 20,
   "metadata": {},
   "outputs": [],
   "source": [
    "# define adverb\n",
    "intens_adj = ['very', 'really', 'absolutely', 'truly', 'extremely', 'quite', 'incredibly', 'amazingly', 'especially', 'exceptionally', 'unbelievably', 'utterly', 'exceedingly', 'rather', 'totally', 'particularly']"
   ]
  },
  {
   "cell_type": "code",
   "execution_count": 21,
   "metadata": {},
   "outputs": [
    {
     "name": "stdout",
     "output_type": "stream",
     "text": [
      "really, always, also, just, definitely, greatly, actually, absolutely, truly, certainly, especially, still, particularly, both, thoroughly, so, highly, quite, personally, totally, all, never, simply, rather, obviously, very, strongly, much, generally, most, even, too, honestly, deeply, clearly, genuinely, completely, already, have, only, sure, usually, seriously, immediately, sincerely, mostly, do, often, did, REALLY, probably, ultimately, dearly, had, specifically, naturally, fully, kinda, secretly, initially, desperately, we, almost, immensely, hugely, tremendously, first, surely, ever, again, quickly, ALL, extremely, finally, therefore, then, originally, instantly, normally, would, each, once, mainly, heavily, basically, vastly, equally, frankly, largely, long, guys, profoundly, fucking, forever, can, literally, should, constantly, will, collectively\n"
     ]
    }
   ],
   "source": [
    "print(', '.join(editor.suggest('{i} {mask} {pos_verb} {the} {amazon_noun}.', i=['I', 'We'], the=['this', 'that', 'the'])[:100]))"
   ]
  },
  {
   "cell_type": "code",
   "execution_count": 23,
   "metadata": {},
   "outputs": [],
   "source": [
    "# define adverb\n",
    "intens_verb = [ 'really', 'absolutely', 'truly', 'extremely',  'especially',  'utterly',  'totally', 'particularly', 'highly', 'definitely', 'certainly', 'genuinely', 'honestly', 'strongly', 'sure', 'sincerely']"
   ]
  },
  {
   "cell_type": "code",
   "execution_count": 24,
   "metadata": {},
   "outputs": [],
   "source": [
    "monotonic_label = Expect.monotonic(increasing=True, tolerance=0.1) #label the model: prediction is increasing like pattern and tolerance=0.1. \n",
    "non_neutral_pred = lambda pred, *args, **kwargs: pred != 1 #to check that the neutral is not equal 1, used to filter the neutral out\n",
    "monotonic_label = Expect.slice_pairwise(monotonic_label, non_neutral_pred) #combine label"
   ]
  },
  {
   "cell_type": "code",
   "execution_count": 25,
   "metadata": {},
   "outputs": [
    {
     "data": {
      "text/plain": [
       "[['This was a well silent movie.',\n",
       "  'This was a particularly well silent movie.'],\n",
       " ['This was a greatest musical.', 'This was a quite greatest musical.'],\n",
       " ['That is a brilliant coming of age movie.',\n",
       "  'That is a really brilliant coming of age movie.'],\n",
       " ['It was a fantastic headphone.', 'It was a very fantastic headphone.'],\n",
       " ['It was a perfect romance.', 'It was a quite perfect romance.']]"
      ]
     },
     "execution_count": 25,
     "metadata": {},
     "output_type": "execute_result"
    }
   ],
   "source": [
    "# add dictionary of word into object \n",
    "# need to define first then, use `+=` to add. for protecting duplicating problem\n",
    "t = editor.template(['{it} {be} {a:pos_adj} {amazon_noun}.', '{it} {be} {a:intens} {pos_adj} {amazon_noun}.'] , intens=intens_adj, it=['It', 'This', 'That'], be=['is', 'was'], nsamples=500, save=True)\n",
    "t += editor.template(['{i} {pos_verb} {the} {amazon_noun}.', '{i} {intens} {pos_verb} {the} {amazon_noun}.'], intens=intens_verb, i=['I', 'We'], the=['this', 'that', 'the'], nsamples=500, save=True)\n",
    "t += editor.template(['{it} {be} {a:neg_adj} {amazon_noun}.', '{it} {be} {a:intens} {neg_adj} {amazon_noun}.'] , intens=intens_adj, it=['It', 'This', 'That'], be=['is', 'was'], nsamples=500, save=True)\n",
    "t += editor.template(['{i} {neg_verb} {the} {amazon_noun}.', '{i} {intens} {neg_verb} {the} {amazon_noun}.'], intens=intens_verb, i=['I', 'We'], the=['this', 'that', 'the'], nsamples=500, save=True)\n",
    "t.data[:5] #show array in 5 list\n"
   ]
  },
  {
   "cell_type": "code",
   "execution_count": null,
   "metadata": {},
   "outputs": [],
   "source": []
  },
  {
   "cell_type": "code",
   "execution_count": 26,
   "metadata": {},
   "outputs": [],
   "source": [
    "# add dictionary of word into object \n",
    "# need to define first then, use `+=` to add. for protecting duplicating problem\n",
    "t = editor.template(['{it} {be} {a:pos_adj} {amazon_noun}.', '{it} {be} {a:intens} {pos_adj} {amazon_noun}.'] , intens=intens_adj, it=['It', 'This', 'That'], be=['is', 'was'], nsamples=500, save=True)\n",
    "t += editor.template(['{i} {pos_verb} {the} {amazon_noun}.', '{i} {intens} {pos_verb} {the} {amazon_noun}.'], intens=intens_verb, i=['I', 'We'], the=['this', 'that', 'the'], nsamples=500, save=True)\n",
    "t += editor.template(['{it} {be} {a:neg_adj} {amazon_noun}.', '{it} {be} {a:intens} {neg_adj} {amazon_noun}.'] , intens=intens_adj, it=['It', 'This', 'That'], be=['is', 'was'], nsamples=500, save=True)\n",
    "t += editor.template(['{i} {neg_verb} {the} {amazon_noun}.', '{i} {intens} {neg_verb} {the} {amazon_noun}.'], intens=intens_verb, i=['I', 'We'], the=['this', 'that', 'the'], nsamples=500, save=True)\n",
    "test = DIR(t.data, monotonic_label, templates=t.templates)\n",
    "description = '''Test is composed of pairs of sentences (x1, x2), where we add an intensifier\n",
    "such as \"really\",or \"very\" to x2 and expect the confidence to NOT go down (with tolerance=0.1). e.g.:\n",
    "x1 = \"That was a good movie\"\n",
    "x2 = \"That was a very good novel\"\n",
    "We disregard cases where the prediction of x1 is neutral.\n",
    "'''\n",
    "\n",
    "#add the test into suite\n",
    "suite.add(test, 'intensifiers', 'Vocabulary', description)\n"
   ]
  },
  {
   "cell_type": "code",
   "execution_count": 27,
   "metadata": {},
   "outputs": [],
   "source": [
    "# define reducer adjective to reduce the meaning.\n",
    "reducer_adj = ['somewhat', 'kinda', 'mostly', 'probably', 'generally', 'reasonably', 'a little', 'a bit', 'slightly']"
   ]
  },
  {
   "cell_type": "code",
   "execution_count": 28,
   "metadata": {},
   "outputs": [],
   "source": [
    "monotonic_label_down = Expect.monotonic(increasing=False, tolerance=0.1) #label the model: prediction is increasing like pattern and tolerance=0.1. \n",
    "monotonic_label_down = Expect.slice_pairwise(monotonic_label_down, non_neutral_pred) #combine label"
   ]
  },
  {
   "cell_type": "code",
   "execution_count": 29,
   "metadata": {},
   "outputs": [
    {
     "data": {
      "text/plain": [
       "[['This novel was excellent.', 'This novel was reasonably excellent.'],\n",
       " ['This drama was nice.', 'This drama was slightly nice.'],\n",
       " ['That animation was fantastic.', 'That animation was mostly fantastic.'],\n",
       " ['The musical is perfect.', 'The musical is generally perfect.'],\n",
       " ['This adventure movie was awesome.',\n",
       "  'This adventure movie was slightly awesome.'],\n",
       " ['That war was great.', 'That war was reasonably great.'],\n",
       " ['This product is great.', 'This product is generally great.'],\n",
       " ['The shoes is fantastic.', 'The shoes is generally fantastic.'],\n",
       " ['The thriller movie was perfect.',\n",
       "  'The thriller movie was somewhat perfect.'],\n",
       " ['This thriller movie is extraordinary.',\n",
       "  'This thriller movie is mostly extraordinary.'],\n",
       " ['This entertainment is brilliant.',\n",
       "  'This entertainment is probably brilliant.'],\n",
       " ['The shoes was incredible.', 'The shoes was mostly incredible.'],\n",
       " ['The horror movie is happy.', 'The horror movie is probably happy.'],\n",
       " ['The short film was well.', 'The short film was slightly well.'],\n",
       " ['The smartwatch was brilliant.', 'The smartwatch was a bit brilliant.'],\n",
       " ['This family is adorable.', 'This family is slightly adorable.'],\n",
       " ['This romance is exciting.', 'This romance is a bit exciting.'],\n",
       " ['That computer was beautiful.', 'That computer was a little beautiful.'],\n",
       " ['The western movie is excellent.', 'The western movie is a bit excellent.'],\n",
       " ['This animation was perfect.', 'This animation was a little perfect.'],\n",
       " ['That coming of age movie is awesome.',\n",
       "  'That coming of age movie is generally awesome.'],\n",
       " ['That tablet is well.', 'That tablet is mostly well.'],\n",
       " ['This laptop is good.', 'This laptop is probably good.'],\n",
       " ['That adventure movie was happy.',\n",
       "  'That adventure movie was probably happy.'],\n",
       " ['That tablet was good.', 'That tablet was a bit good.'],\n",
       " ['The gift was beautiful.', 'The gift was probably beautiful.'],\n",
       " ['That track was sweet.', 'That track was kinda sweet.'],\n",
       " ['That CD was fantastic.', 'That CD was slightly fantastic.'],\n",
       " ['That mystery is good.', 'That mystery is probably good.'],\n",
       " ['That musical is wonderful.', 'That musical is mostly wonderful.'],\n",
       " ['This musical was excellent.', 'This musical was probably excellent.'],\n",
       " ['This computer is fantastic.', 'This computer is probably fantastic.'],\n",
       " ['This crime movie is awesome.', 'This crime movie is generally awesome.'],\n",
       " ['This track is awesome.', 'This track is generally awesome.'],\n",
       " ['The genre was extraordinary.', 'The genre was probably extraordinary.'],\n",
       " ['The track was fun.', 'The track was mostly fun.'],\n",
       " ['The adventure movie is beautiful.',\n",
       "  'The adventure movie is somewhat beautiful.'],\n",
       " ['The action movie is excellent.', 'The action movie is a little excellent.'],\n",
       " ['The tablet is perfect.', 'The tablet is kinda perfect.'],\n",
       " ['The western movie was exceptional.',\n",
       "  'The western movie was probably exceptional.'],\n",
       " ['This short film is amazing.', 'This short film is a bit amazing.'],\n",
       " ['The mystery is wonderful.', 'The mystery is a bit wonderful.'],\n",
       " ['The musical is greatest.', 'The musical is a bit greatest.'],\n",
       " ['That smartwatch is awesome.', 'That smartwatch is mostly awesome.'],\n",
       " ['That track was sweet.', 'That track was a bit sweet.'],\n",
       " ['That fantasy was well.', 'That fantasy was mostly well.'],\n",
       " ['This crime movie is extraordinary.',\n",
       "  'This crime movie is mostly extraordinary.'],\n",
       " ['This romance is exceptional.', 'This romance is a little exceptional.'],\n",
       " ['That laptop is perfect.', 'That laptop is kinda perfect.'],\n",
       " ['This western movie is brilliant.',\n",
       "  'This western movie is mostly brilliant.']]"
      ]
     },
     "execution_count": 29,
     "metadata": {},
     "output_type": "execute_result"
    }
   ],
   "source": [
    "# add dictionary of word into object \n",
    "t = editor.template(['{it} {amazon_noun} {be} {pos_adj}.', '{it} {amazon_noun} {be} {red} {pos_adj}.'] , red=reducer_adj, it=['The', 'This', 'That'], be=['is', 'was'], nsamples=1000, save=True)\n",
    "t += editor.template(['{it} {amazon_noun} {be} {neg_adj}.', '{it} {amazon_noun} {be} {red} {neg_adj}.'] , red=reducer_adj, it=['The', 'This', 'That'], be=['is', 'was'], nsamples=1000, save=True)\n",
    "t.data[:50]"
   ]
  },
  {
   "cell_type": "code",
   "execution_count": 30,
   "metadata": {},
   "outputs": [],
   "source": [
    "# add dictionary of word into object \n",
    "# need to define first then, use `+=` to add. for protecting duplicating problem\n",
    "t = editor.template(['{it} {amazon_noun} {be} {pos_adj}.', '{it} {amazon_noun} {be} {red} {pos_adj}.'] , red=reducer_adj, it=['The', 'This', 'That'], be=['is', 'was'], nsamples=1000, save=True)\n",
    "t += editor.template(['{it} {amazon_noun} {be} {neg_adj}.', '{it} {amazon_noun} {be} {red} {neg_adj}.'] , red=reducer_adj, it=['The', 'This', 'That'], be=['is', 'was'], nsamples=1000, save=True)\n",
    "test = DIR(t.data, monotonic_label_down, templates=t.templates)\n",
    "description = '''Test is composed of pairs of sentences (x1, x2), where we add a reducer\n",
    "such as \"somewhat\", or \"kinda\" to x2 and expect the confidence to NOT go up (with tolerance=0.1). e.g.:\n",
    "x1 = \"The smartphone was good.\"\n",
    "x2 = \"The smartphone was somewhat good.\"\n",
    "We disregard cases where the prediction of x1 is neutral.\n",
    "'''\n",
    "\n",
    "#add the test into suite. This test case is about reducer adjective to ne more neutral\n",
    "suite.add(test, 'reducers', 'Vocabulary', description)\n"
   ]
  },
  {
   "cell_type": "markdown",
   "metadata": {},
   "source": [
    "### INVariance: change neutral words"
   ]
  },
  {
   "cell_type": "code",
   "execution_count": 31,
   "metadata": {},
   "outputs": [],
   "source": [
    "#define set of neutral word\n",
    "neutral_words = set(\n",
    "    ['.', 'the', 'The', ',', 'a', 'A', 'and', 'of', 'to', 'it', 'that', 'in',\n",
    "     'this', 'for',  'you', 'there', 'or', 'an', 'by', 'about', 'flight', 'my',\n",
    "     'in', 'of', 'have', 'with', 'was', 'at', 'it', 'get', 'from', 'this', 'Flight', 'plane'\n",
    "    ])\n",
    "forbidden = set(['No', 'no', 'Not', 'not', 'Nothing', 'nothing', 'without', 'but'] + pos_adj + neg_adj + pos_verb_present + pos_verb_past + neg_verb_present + neg_verb_past)\n",
    "\n",
    "# function to change the set of neutral word to other context.\n",
    "def change_neutral(d):\n",
    "    examples = []\n",
    "    subs = []\n",
    "    words_in = [x for x in d.capitalize().split() if x in neutral_words]\n",
    "    if not words_in:\n",
    "        return None\n",
    "    for w in words_in:\n",
    "        suggestions = [x for x in editor.suggest_replace(d, w, beam_size=5, words_and_sentences=True) if x[0] not in forbidden]\n",
    "        examples.extend([x[1] for x in suggestions])\n",
    "        subs.extend(['%s -> %s' % (w, x[0]) for x in suggestions])\n",
    "    if examples:\n",
    "        idxs = np.random.choice(len(examples), min(len(examples), 10), replace=False)\n",
    "        return [examples[i] for i in idxs]#, [subs[i] for i in idxs])\n",
    "# Perturb.perturb(parsed_data[:5], perturb)"
   ]
  },
  {
   "cell_type": "code",
   "execution_count": 32,
   "metadata": {},
   "outputs": [],
   "source": [
    "t = Perturb.perturb(sentences, change_neutral, nsamples=20)\n",
    "test = INV(t.data) #test type is Invariance\n",
    "\n",
    "# BERT means using `Perturb.perturb(...)`\n",
    "description = 'Change a set of neutral words with other context-appropriate neutral words (using BERT).'\n",
    "suite.add(test, 'change neutral words with BERT', 'Vocabulary', description)"
   ]
  },
  {
   "cell_type": "markdown",
   "metadata": {},
   "source": [
    "### Add negative phrases"
   ]
  },
  {
   "cell_type": "code",
   "execution_count": 35,
   "metadata": {},
   "outputs": [],
   "source": [
    "#edit !!\n",
    "# define and add context into positive variable\n",
    "positive = editor.template('I {pos_verb_present} product.').data\n",
    "positive += editor.template('Product are {pos_adj}.').data\n",
    "positive += ['I would purchase product again.']\n",
    "\n",
    "# define and add context into negative variable\n",
    "negative = editor.template('I {neg_verb_present} product.').data\n",
    "negative += editor.template('Products are {neg_adj}.').data\n",
    "negative += ['Never purchasing this product again.']\n",
    "\n",
    "# function to add phrase\n",
    "def add_phrase_function(phrases):\n",
    "    def pert(d):\n",
    "        while d[-1].pos_ == 'PUNCT':\n",
    "            d = d[:-1]\n",
    "        d = d.text\n",
    "        ret = [d + '. ' + x for x in phrases]\n",
    "        idx = np.random.choice(len(ret), 10, replace=False)\n",
    "        ret = [ret[i] for i in idx]\n",
    "        return ret\n",
    "    return pert\n"
   ]
  },
  {
   "cell_type": "code",
   "execution_count": 36,
   "metadata": {},
   "outputs": [],
   "source": [
    "# function to change positive sentiment probability after perturbation\n",
    "def positive_change(orig_conf, conf):\n",
    "    softmax = type(orig_conf) in [np.array, np.ndarray]\n",
    "    if not softmax or orig_conf.shape[0] != 3:\n",
    "        raise(Exception('Need prediction function to be softmax with 3 labels (negative, neutral, positive)'))\n",
    "    return orig_conf[0] - conf[0] + conf[2] - orig_conf[2]\n",
    "\n",
    "# If the change in positive sentiment probability is within 0.1, then the result will return True if the total change is equal to or greater than 0, \n",
    "# indicating an increase or no change in positive sentiment. Otherwise, it will return the sum of the calculated change and the tolerance.\n",
    "def diff_up(orig_pred, pred, orig_conf, conf, labels=None, meta=None):\n",
    "    tolerance = 0.1\n",
    "    change = positive_change(orig_conf, conf)\n",
    "    if change + tolerance >= 0:\n",
    "        return True\n",
    "    else:\n",
    "        return change + tolerance\n",
    "    \n",
    "# checks whether the positive sentiment probability has changed by 0.1 or more. If the change is zero or negative, it returns True, \n",
    "# meaning the positive sentiment probability has decreased or stayed the same. Otherwise, it returns the negative value of the change.\n",
    "def diff_down(orig_pred, pred, orig_conf, conf, labels=None, meta=None):\n",
    "    tolerance = 0.1\n",
    "    change = positive_change(orig_conf, conf)\n",
    "    if change - tolerance <= 0:\n",
    "        return True\n",
    "    else:\n",
    "        return -(change - tolerance)\n",
    "goes_up = Expect.pairwise(diff_up) #for adding positive phrase\n",
    "goes_down = Expect.pairwise(diff_down) #for adding negative phrase\n",
    "    "
   ]
  },
  {
   "cell_type": "code",
   "execution_count": 37,
   "metadata": {},
   "outputs": [],
   "source": [
    "# This test case provided the adding very positive test. When adding the very positive phrase, the probabilily of positive will not go down\n",
    "t = Perturb.perturb(parsed_data, add_phrase_function(positive), nsamples=500)\n",
    "test = DIR(t.data, goes_up)\n",
    "description = 'Add very positive phrases (e.g. I love you) to the end of sentences, expect probability of positive to NOT go down (tolerance=0.1)'\n",
    "suite.add(test, 'add positive phrases', 'Vocabulary', description)\n"
   ]
  },
  {
   "cell_type": "code",
   "execution_count": 38,
   "metadata": {},
   "outputs": [],
   "source": [
    "# This test case provided the adding very negative test. When adding the very negative phrase, the probabilily of positive will not go up\n",
    "t = Perturb.perturb(parsed_data, add_phrase_function(negative), nsamples=500)\n",
    "test = DIR(t.data, goes_down)\n",
    "description = 'Add very negative phrases (e.g. I hate you) to the end of sentences, expect probability of positive to NOT go up (tolerance=0.1)'\n",
    "suite.add(test, 'add negative phrases', 'Vocabulary', description)\n"
   ]
  },
  {
   "cell_type": "markdown",
   "metadata": {},
   "source": [
    "### punctuation, contractions, typos"
   ]
  },
  {
   "cell_type": "code",
   "execution_count": 39,
   "metadata": {},
   "outputs": [],
   "source": [
    "# This test case provided the punctuation \n",
    "t = Perturb.perturb(parsed_data, Perturb.punctuation, nsamples=500)\n",
    "test = INV(t.data)\n",
    "suite.add(test, 'punctuation', 'Robustness', 'strip punctuation and / or add \".\"')\n"
   ]
  },
  {
   "cell_type": "code",
   "execution_count": 40,
   "metadata": {},
   "outputs": [],
   "source": [
    "# This test case provided the typos test. e.g., `;` `?`\n",
    "t = Perturb.perturb(sentences, Perturb.add_typos, nsamples=500, typos=1)\n",
    "test = INV(t.data)\n",
    "suite.add(test, 'typos', 'Robustness', 'Add one typo to input by swapping two adjacent characters')\n"
   ]
  },
  {
   "cell_type": "code",
   "execution_count": 41,
   "metadata": {},
   "outputs": [],
   "source": [
    "# This test case provided the 2 typos in test. e.g., `;` `?`\n",
    "t = Perturb.perturb(sentences, Perturb.add_typos, nsamples=500, typos=2)\n",
    "test = INV(t.data)\n",
    "suite.add(test, '2 typos', 'Robustness', 'Add two typos to input by swapping two adjacent characters twice')\n"
   ]
  },
  {
   "cell_type": "code",
   "execution_count": 42,
   "metadata": {},
   "outputs": [],
   "source": [
    "# this test case about expanding the contraction. For example; do not -> don't\n",
    "t = Perturb.perturb(sentences, Perturb.contractions, nsamples=1000)\n",
    "test = INV(t.data)\n",
    "suite.add(test, 'contractions', 'Robustness', 'Contract or expand contractions, e.g. What is -> What\\'s')"
   ]
  },
  {
   "cell_type": "markdown",
   "metadata": {},
   "source": [
    "## Capability: temporal awareness"
   ]
  },
  {
   "cell_type": "code",
   "execution_count": 43,
   "metadata": {},
   "outputs": [
    {
     "data": {
      "text/plain": [
       "['hate', 'dislike', 'regret', 'abhor', 'dread', 'despise']"
      ]
     },
     "execution_count": 43,
     "metadata": {},
     "output_type": "execute_result"
    }
   ],
   "source": [
    "# check whats include in object `neg_verb_present`\n",
    "editor.template('{neg_verb_present}').data"
   ]
  },
  {
   "cell_type": "code",
   "execution_count": 44,
   "metadata": {},
   "outputs": [],
   "source": [
    "# add dictionary of word into object \n",
    "change = ['but', 'even though', 'although', '']\n",
    "\n",
    "# need to define first then, use `+=` to add. for protecting duplicating problem\n",
    "t = editor.template(['I used to think this movie was {neg_adj}, {change} now I think it is {pos_adj}.',\n",
    "                                 'I think this movie is {pos_adj}, {change} I used to think it was {neg_adj}.',\n",
    "                                 'In the past I thought this movie was {neg_adj}, {change} now I think it is {pos_adj}.',\n",
    "                                 'I think this movie is {pos_adj}, {change} in the past I thought it was {neg_adj}.',\n",
    "                                ] ,\n",
    "                                 change=change, unroll=True, nsamples=500, save=True, labels=2)\n",
    "t += editor.template(['I used to {neg_verb_present} this movie, {change} now I {pos_verb_present} it.',\n",
    "                                 'I {pos_verb_present} this movie, {change} I used to {neg_verb_present} it.',\n",
    "                                 'In the past I would {neg_verb_present} this movie, {change} now I {pos_verb} it.',\n",
    "                                 'I {pos_verb_present} this movie, {change} in the past I would {neg_verb_present} it.',\n",
    "                                ] ,\n",
    "                                change=change, unroll=True, nsamples=500, save=True, labels=2)\n",
    "\n",
    "t += editor.template(['I used to think this movie was {pos_adj}, {change} now I think it is {neg_adj}.',\n",
    "                                 'I think this movie is {neg_adj}, {change} I used to think it was {pos_adj}.',\n",
    "                                 'In the past I thought this movie was {pos_adj}, {change} now I think it is {neg_adj}.',\n",
    "                                 'I think this movie is {neg_adj}, {change} in the past I thought it was {pos_adj}.',\n",
    "                                ] ,\n",
    "                                 change=change, unroll=True, nsamples=500, save=True, labels=0)\n",
    "t += editor.template(['I used to {pos_verb_present} this movie, {change} now I {neg_verb_present} it.',\n",
    "                                 'I {neg_verb_present} this movie, {change} I used to {pos_verb_present} it.',\n",
    "                                 'In the past I would {pos_verb_present} this movie, {change} now I {neg_verb_present} it.',\n",
    "                                 'I {neg_verb_present} this movie, {change} in the past I would {pos_verb_present} it.',\n",
    "                                ] ,\n",
    "                                change=change, unroll=True, nsamples=500, save=True, labels=0)\n",
    "test = MFT(**t) # basic function test\n",
    "description = '''Have two conflicing statements, one about the past and one about the present.\n",
    "Expect the present to carry the sentiment. Examples:\n",
    "I used to love this movie, now I hate it -> should be negative\n",
    "I love this movie, although I used to hate it -> should be positive\n",
    "'''\n",
    "suite.add(test, 'used to, but now', 'Temporal', description)\n",
    "\n"
   ]
  },
  {
   "cell_type": "markdown",
   "metadata": {},
   "source": [
    "used to should reduce"
   ]
  },
  {
   "cell_type": "code",
   "execution_count": 45,
   "metadata": {},
   "outputs": [
    {
     "data": {
      "text/plain": [
       "[['it is a greatest western movie.',\n",
       "  'I used to think it is a greatest western movie.'],\n",
       " ['this is a greatest western movie.',\n",
       "  'I used to think this is a greatest western movie.'],\n",
       " ['that is a greatest western movie.',\n",
       "  'I used to think that is a greatest western movie.'],\n",
       " ['it is a well western movie.',\n",
       "  'I used to think it is a well western movie.'],\n",
       " ['this is a well western movie.',\n",
       "  'I used to think this is a well western movie.']]"
      ]
     },
     "execution_count": 45,
     "metadata": {},
     "output_type": "execute_result"
    }
   ],
   "source": [
    "# Append the data, add more context. To reduce the meaning feeling to become less strong meaning.\n",
    "t = editor.template(['{it} {be} {a:adj} {amazon_noun}.', 'I used to think {it} {be} {a:adj} {amazon_noun}.'], it=['it', 'this', 'that'], be=['is', 'was'], adj=editor.lexicons['pos_adj'] + editor.lexicons['neg_adj'], save=True)\n",
    "t += editor.template(['{i} {verb} {the} {amazon_noun}.', '{i} used to {verb} {the} {amazon_noun}.'], i=['I', 'We'], the=['this', 'that', 'the'], verb=editor.lexicons['pos_verb_present'] + editor.lexicons['neg_verb_present'], save=True)\n",
    "t.data[:5]\n"
   ]
  },
  {
   "cell_type": "code",
   "execution_count": 46,
   "metadata": {},
   "outputs": [],
   "source": [
    "# Add the test case: add used to reduce confidence\n",
    "t = editor.template(['{it} {be} {a:adj} {amazon_noun}.', 'I used to think {it} {be} {a:adj} {amazon_noun}.'], it=['it', 'this', 'that'], be=['is', 'was'], adj=editor.lexicons['pos_adj'] + editor.lexicons['neg_adj'], save=True)\n",
    "t += editor.template(['{i} {verb} {the} {amazon_noun}.', '{i} used to {verb} {the} {amazon_noun}.'], i=['I', 'We'], the=['this', 'that', 'the'], verb=editor.lexicons['pos_verb_present'] + editor.lexicons['neg_verb_present'], save=True)\n",
    "test = DIR(t.data, monotonic_label_down, templates=t.templates)\n",
    "suite.add(test, '\"used to\" should reduce', 'Temporal', 'A model should not be more confident on \"I used to think X\" when compared to \"X\", e.g. \"I used to love this product\" should have less confidence than \"I love this product\"')\n"
   ]
  },
  {
   "cell_type": "markdown",
   "metadata": {},
   "source": [
    "\n",
    "## Capability: Negation"
   ]
  },
  {
   "cell_type": "markdown",
   "metadata": {},
   "source": [
    "Simple templates:"
   ]
  },
  {
   "cell_type": "code",
   "execution_count": 57,
   "metadata": {},
   "outputs": [],
   "source": [
    "# add the simple negation test case\n",
    "t = editor.template('{it} {amazon_noun} {nt} {pos_adj}.', it=['This', 'That', 'The'], nt=['is not', 'isn\\'t'], save=True)\n",
    "t += editor.template('{it} {benot} {a:pos_adj} {amazon_noun}.', it=['It', 'This', 'That'], benot=['is not',  'isn\\'t', 'was not', 'wasn\\'t'], save=True)\n",
    "neg = ['I can\\'t say I', 'I don\\'t', 'I would never say I', 'I don\\'t think I', 'I didn\\'t' ]\n",
    "t += editor.template('{neg} {pos_verb_present} {the} {amazon_noun}.', neg=neg, the=['this', 'that', 'the'], save=True)\n",
    "t += editor.template('No one {pos_verb_present}s {the} {amazon_noun}.', neg=neg, the=['this', 'that', 'the'], save=True)\n",
    "test = MFT(t.data, labels=0, templates=t.templates)\n",
    "suite.add(test, 'simple negations: negative', 'Negation', 'Very simple negations of positive statements')\n"
   ]
  },
  {
   "cell_type": "code",
   "execution_count": 58,
   "metadata": {},
   "outputs": [],
   "source": [
    "# add the simple negation test case.\n",
    "t = editor.template('{it} {amazon_noun} {nt} {neg_adj}.', it=['This', 'That', 'The'], nt=['is not', 'isn\\'t'], save=True)\n",
    "t += editor.template('{it} {benot} {a:neg_adj} {amazon_noun}.', it=['It', 'This', 'That'], benot=['is not',  'isn\\'t', 'was not', 'wasn\\'t'], save=True)\n",
    "neg = ['I can\\'t say I', 'I don\\'t', 'I would never say I', 'I don\\'t think I', 'I didn\\'t' ]\n",
    "t += editor.template('{neg} {neg_verb_present} {the} {amazon_noun}.', neg=neg, the=['this', 'that', 'the'], save=True)\n",
    "t += editor.template('No one {neg_verb_present}s {the} {amazon_noun}.', neg=neg, the=['this', 'that', 'the'], save=True)\n",
    "# expectation: prediction is not 0\n",
    "is_not_0 = lambda x, pred, *args: pred != 0\n",
    "test = MFT(t.data, Expect.single(is_not_0), templates=t.templates)\n",
    "suite.add(test, 'simple negations: not negative', 'Negation', 'Very simple negations of negative statements. Expectation requires prediction to NOT be negative (i.e. neutral or positive)')\n"
   ]
  },
  {
   "cell_type": "code",
   "execution_count": 59,
   "metadata": {},
   "outputs": [],
   "source": [
    "# add not neutral is still neutral test case\n",
    "# e.g., I thought the airline would be Italian, but it wasn't. \n",
    "t = editor.template('{it} {amazon_noun} {nt} {neutral_adj}.', it=['This', 'That', 'The'], nt=['is not', 'isn\\'t'], save=True)\n",
    "t += editor.template('{it} {benot} {a:neutral_adj} {amazon_noun}.', it=['It', 'This', 'That'], benot=['is not',  'isn\\'t', 'was not', 'wasn\\'t'], save=True)\n",
    "neg = ['I can\\'t say I', 'I don\\'t', 'I would never say I', 'I don\\'t think I', 'I didn\\'t' ]\n",
    "t += editor.template('{neg} {neutral_verb_present} {the} {amazon_noun}.', neg=neg, the=['this', 'that', 'the'], save=True)\n",
    "test = MFT(t.data, labels=1, templates=t.templates)\n",
    "suite.add(test, 'simple negations: not neutral is still neutral', 'Negation', 'Negating neutral statements should still result in neutral predictions')\n"
   ]
  },
  {
   "cell_type": "markdown",
   "metadata": {},
   "source": [
    "Different templates:"
   ]
  },
  {
   "cell_type": "code",
   "execution_count": 60,
   "metadata": {},
   "outputs": [],
   "source": [
    "amazon_noun_it = [x for x in editor.lexicons['amazon_noun'] if x != 'book'] # without using `book`` assume that not used one word\n",
    "t = editor.template('I thought {it} {amazon_noun} would be {pos_adj}, but it {neg}.', amazon_noun=amazon_noun_it, neg=['was not', 'wasn\\'t'], it=['this', 'that', 'the'], nt=['is not', 'isn\\'t'], save=True)\n",
    "t += editor.template('I thought I would {pos_verb_present} {the} {amazon_noun}, but I {neg}.', neg=['did not', 'didn\\'t'], the=['this', 'that', 'the'], save=True)\n",
    "test = MFT(t.data, labels=0, templates=t.templates) # expect to be negative\n",
    "suite.add(test, 'simple negations: I thought x was positive, but it was not (should be negative)', 'Negation', '', overwrite=True)\n"
   ]
  },
  {
   "cell_type": "code",
   "execution_count": 61,
   "metadata": {},
   "outputs": [],
   "source": [
    "t = editor.template('I thought {it} {amazon_noun} would be {neg_adj}, but it {neg}.', amazon_noun=amazon_noun_it, neg=['was not', 'wasn\\'t'], it=['this', 'that', 'the'], nt=['is not', 'isn\\'t'], save=True)\n",
    "t += editor.template('I thought I would {neg_verb_present} {the} {amazon_noun}, but I {neg}.', neg=['did not', 'didn\\'t'], the=['this', 'that', 'the'], save=True)\n",
    "# expectation: prediction is not 0 (negative)\n",
    "test = MFT(t.data, Expect.single(is_not_0), templates=t.templates)\n",
    "suite.add(test, 'simple negations: I thought x was negative, but it was not (should be neutral or positive)', 'Negation', '')\n"
   ]
  },
  {
   "cell_type": "code",
   "execution_count": 62,
   "metadata": {},
   "outputs": [],
   "source": [
    "t = editor.template('I thought {it} {amazon_noun} would be {neutral_adj}, but it {neg}.', amazon_noun=amazon_noun_it, neg=['was not', 'wasn\\'t'], it=['this', 'that', 'the'], nt=['is not', 'isn\\'t'], save=True)\n",
    "t += editor.template('I thought I would {neutral_verb_present} {the} {amazon_noun}, but I {neg}.', neg=['did not', 'didn\\'t'], the=['this', 'that', 'the'], save=True)\n",
    "# expectation: prediction is not 0 (negative)\n",
    "test = MFT(t.data, labels=1, templates=t.templates)\n",
    "suite.add(test, 'simple negations: but it was not (neutral) should still be neutral', 'Negation', '')\n"
   ]
  },
  {
   "cell_type": "markdown",
   "metadata": {},
   "source": [
    "Harder: negation with neutral in the middle"
   ]
  },
  {
   "cell_type": "code",
   "execution_count": 63,
   "metadata": {},
   "outputs": [],
   "source": [
    "# add the test case: negation with neutral in the middle.\n",
    "# expect to be negative\n",
    "# e.g., I don't think, given Its better then a normal bed, that the remale is awesome.\n",
    "#change the use case\n",
    "neutral =['Its better then a normal bed', 'I just moved out of my moms house', ' Its been 2 months since I moved out', 'I\\'m still sleeping on it.', ' its like sleeping on a cloud.']\n",
    "t = editor.template('{neg}, given {neutral}, that {it} {amazon_noun} {be} {pos_adj}.', neutral=neutral, neg=['I don\\'t think', 'I can\\'t say', 'I wouldn\\'t say'], it=['this', 'that', 'the'], be=['is', 'was'], save=True)\n",
    "t += editor.template('{neg}, given {neutral}, that {it} {be} {a:pos_adj} {amazon_noun}.',neutral=neutral,  neg=['I don\\'t think', 'I can\\'t say', 'I wouldn\\'t say'], it=['this', 'that', 'the'], be=['is', 'was'], save=True)\n",
    "t += editor.template('{neg}, given {neutral}, that {i} {pos_verb_present} {the} {amazon_noun}.',neutral=neutral,  neg=['I don\\'t think', 'I can\\'t say', 'I wouldn\\'t say'], i=['I', 'we'], the=['this', 'that', 'the'], save=True)\n",
    "t.data = list(np.random.choice(t.data, 1000, replace=False))\n",
    "test = MFT(t.data, labels=0, templates=t.templates)\n",
    "suite.add(test, 'Hard: Negation of positive with neutral stuff in the middle (should be negative)', 'Negation', '')\n"
   ]
  },
  {
   "cell_type": "code",
   "execution_count": 64,
   "metadata": {},
   "outputs": [],
   "source": [
    "# add the test case: negation with neutral in the middle.\n",
    "# e.g., I can't say, given I just moved out of my moms house, that the fantasy is weird.\n",
    "# expect to be positive or neutral\n",
    "neutral =['Its better then a normal bed', 'I just moved out of my moms house', ' Its been 2 months since I moved out', 'I\\'m still sleeping on it.', ' its like sleeping on a cloud.']\n",
    "t = editor.template('{neg}, given {neutral}, that {it} {amazon_noun} {be} {neg_adj}.', neutral=neutral, neg=['I don\\'t think', 'I can\\'t say', 'I wouldn\\'t say'], it=['this', 'that', 'the'], be=['is', 'was'], save=True)\n",
    "t += editor.template('{neg}, given {neutral}, that {it} {be} {a:neg_adj} {amazon_noun}.',neutral=neutral,  neg=['i don\\'t think', 'i can\\'t say', 'i wouldn\\'t say'], it=['this', 'that', 'the'], be=['is', 'was'], save=True)\n",
    "t += editor.template('{neg}, given {neutral}, that {i} {neg_verb_present} {the} {amazon_noun}.',neutral=neutral,  neg=['i don\\'t think', 'i can\\'t say', 'i wouldn\\'t say'], i=['I', 'we'], the=['this', 'that', 'the'], save=True)\n",
    "t.data = list(np.random.choice(t.data, 1000, replace=False))\n",
    "test = MFT(t.data, Expect.single(is_not_0), templates=t.templates)\n",
    "suite.add(test, 'Hard: Negation of negative with neutral stuff in the middle (should be positive or neutral)', 'Negation', '')\n"
   ]
  },
  {
   "cell_type": "code",
   "execution_count": 65,
   "metadata": {},
   "outputs": [],
   "source": [
    "# add the test case: negation with neutral in the middle.\n",
    "# e.g.,I can't say, given  Its been 2 months since I moved out, that this is a private E-book.\n",
    "# expect to be neutral\n",
    "neutral =['Its better then a normal bed', 'I just moved out of my moms house', ' Its been 2 months since I moved out', 'I\\'m still sleeping on it.', ' its like sleeping on a cloud.']\n",
    "t = editor.template('{neg}, given {neutral}, that {it} {amazon_noun} {be} {neutral_adj}.', neutral=neutral, neg=['I don\\'t think', 'I can\\'t say', 'I wouldn\\'t say'], it=['this', 'that', 'the'], be=['is', 'was'], save=True)\n",
    "t += editor.template('{neg}, given {neutral}, that {it} {be} {a:neutral_adj} {amazon_noun}.',neutral=neutral,  neg=['I don\\'t think', 'I can\\'t say', 'I wouldn\\'t say'], it=['this', 'that', 'the'], be=['is', 'was'], save=True)\n",
    "t += editor.template('{neg}, given {neutral}, that {i} {neutral_verb_present} {the} {amazon_noun}.',neutral=neutral,  neg=['I don\\'t think', 'I can\\'t say', 'I wouldn\\'t say'], i=['I', 'we'], the=['this', 'that', 'the'], save=True)\n",
    "t.data = list(np.random.choice(t.data, 1000, replace=False))\n",
    "test = MFT(t.data, labels=1, templates=t.templates)\n",
    "suite.add(test, 'negation of neutral with neutral in the middle, should still neutral', 'Negation', '')\n"
   ]
  },
  {
   "cell_type": "markdown",
   "metadata": {},
   "source": [
    "\n",
    "## Capability: SRL"
   ]
  },
  {
   "cell_type": "markdown",
   "metadata": {},
   "source": [
    "my opinion (change to product) is more important than others"
   ]
  },
  {
   "cell_type": "code",
   "execution_count": 66,
   "metadata": {},
   "outputs": [],
   "source": [
    "# add the test case about my opinion is important than others\n",
    "change = [' but', '']\n",
    "templates = ['Some people think product are {neg_adj},{change} I think product are {pos_adj}.',\n",
    "             'I think product are {pos_adj},{change} some people think product are {neg_adj}.',\n",
    "             'I had heard product were {neg_adj},{change} I think product are {pos_adj}.',\n",
    "             'I think product are {pos_adj},{change} I had heard product were {neg_adj}.',\n",
    "             ]\n",
    "t = editor.template(templates, change=change, unroll=True, labels=2, save=True)\n",
    "templates = ['{others} {neg_verb_present} product,{change} I {pos_verb_present} product.',\n",
    "             'I {pos_verb_present} product,{change} {others} {neg_verb_present} product.',\n",
    "            ]\n",
    "others = ['some people', 'my parents', 'my friends', 'people']\n",
    "t += editor.template(templates, others=others, change=change, unroll=True, labels=2, save=True)\n",
    "\n",
    "change = [' but', '']\n",
    "templates = ['Some people think product are {pos_adj},{change} I think product are {neg_adj}.',\n",
    "             'I think product are {neg_adj},{change} some people think product are {pos_adj}.',\n",
    "             'I had heard product were {pos_adj},{change} I think product are {neg_adj}.',\n",
    "             'I think product are {neg_adj},{change} I had heard product were {pos_adj}.',\n",
    "             ]\n",
    "t += editor.template(templates, change=change, unroll=True, labels=0, save=True)\n",
    "templates = ['{others} {pos_verb_present} product,{change} I {neg_verb_present} product.',\n",
    "             'I {neg_verb_present} product,{change} {others} {pos_verb_present} product.',\n",
    "            ]\n",
    "others = ['some people', 'my parents', 'my friends', 'people']\n",
    "t += editor.template(templates, others=others, change=change, unroll=True, labels=0, save=True)\n",
    "test = MFT(**t)\n",
    "description = '''Have conflicting statements where the author has an opinion and a third party has a contrary opinion.\n",
    "Expect sentiment to be the authors'. Example:\n",
    "\"Some people think product are great, but I think product are terrible\" -> should be negative\n",
    "'''\n",
    "suite.add(test, 'my opinion is what matters', 'SRL', description)\n"
   ]
  },
  {
   "cell_type": "markdown",
   "metadata": {},
   "source": [
    "q & a form: yes"
   ]
  },
  {
   "cell_type": "code",
   "execution_count": 68,
   "metadata": {},
   "outputs": [],
   "source": [
    "# add the q and a test case\n",
    "# e.g., Do I think that was a commercial animation? Yes\n",
    "\n",
    "# label positive\n",
    "t = editor.template('Do I think {it} {amazon_noun} {be} {pos_adj}? Yes', it=['that', 'this', 'the'], be=['is', 'was'], save=True, labels=2)\n",
    "t += editor.template('Do I think {it} {be} {a:pos_adj} {amazon_noun}? Yes', it=['it', 'this', 'that'], be=['is', 'was'], save=True, labels=2)\n",
    "t += editor.template('Did {i} {pos_verb_present} {the} {amazon_noun}? Yes', i=['I', 'we'], the=['this', 'that', 'the'], save=True, labels=2)\n",
    "\n",
    "# label negative\n",
    "t += editor.template('Do I think {it} {amazon_noun} {be} {neg_adj}? Yes', it=['that', 'this', 'the'], be=['is', 'was'], save=True, labels=0)\n",
    "t += editor.template('Do I think {it} {be} {a:neg_adj} {amazon_noun}? Yes', it=['it', 'this', 'that'], be=['is', 'was'], save=True, labels=0)\n",
    "t += editor.template('Did {i} {neg_verb_present} {the} {amazon_noun}? Yes', i=['I', 'we'], the=['this', 'that', 'the'], save=True, labels=0)\n",
    "test = MFT(**t)\n",
    "suite.add(test, 'Q & A: yes', 'SRL', 'TODO_DESCRIPTION')\n"
   ]
  },
  {
   "cell_type": "code",
   "execution_count": 69,
   "metadata": {},
   "outputs": [],
   "source": [
    "# add more test case about qna expect to be neutral\n",
    "t = editor.template('Do I think {it} {amazon_noun} {be} {neutral_adj}? Yes', it=['that', 'this', 'the'], be=['is', 'was'], save=True)\n",
    "t += editor.template('Do I think {it} {be} {a:neutral_adj} {amazon_noun}? Yes', it=['it', 'this', 'that'], be=['is', 'was'], save=True)\n",
    "t += editor.template('Did {i} {neutral_verb_present} {the} {amazon_noun}? Yes', i=['I', 'we'], the=['this', 'that', 'the'], save=True)\n",
    "test = MFT(t.data, labels=1, templates=t.templates)\n",
    "suite.add(test, 'Q & A: yes (neutral)', 'SRL', 'TODO_DESCRIPTION')\n"
   ]
  },
  {
   "cell_type": "code",
   "execution_count": 72,
   "metadata": {},
   "outputs": [],
   "source": [
    "# label negative\n",
    "t = editor.template('Do I think {it} {amazon_noun} {be} {pos_adj}? No', it=['that', 'this', 'the'], be=['is', 'was'], save=True, labels=0)\n",
    "t += editor.template('Do I think {it} {be} {a:pos_adj} {amazon_noun}? No', it=['it', 'this', 'that'], be=['is', 'was'], save=True, labels=0)\n",
    "t += editor.template('Did {i} {pos_verb_present} {the} {amazon_noun}? No', i=['I', 'we'], the=['this', 'that', 'the'], save=True, labels=0)\n",
    "\n",
    "# label to be neutral\n",
    "t += editor.template('Do I think {it} {amazon_noun} {be} {neg_adj}? No', it=['that', 'this', 'the'], be=['is', 'was'], save=True, labels=1)\n",
    "t += editor.template('Do I think {it} {be} {a:neg_adj} {amazon_noun}? No', it=['it', 'this', 'that'], be=['is', 'was'], save=True, labels=1)\n",
    "t += editor.template('Did {i} {neg_verb_present} {the} {amazon_noun}? No', i=['I', 'we'], the=['this', 'that', 'the'], save=True, labels=1)\n",
    "\n",
    "# firstly, if label=1 (neutral),then check that is not negative. otherwise, pred label equal to label\n",
    "allow_for_neutral = lambda x, pred, _, label, _2 : pred != 0 if label == 1 else pred == label\n",
    "test = MFT(t.data, Expect.single(allow_for_neutral), labels=t.labels, templates=t.templates)\n",
    "suite.add(test, 'Q & A: no', 'SRL', 'TODO_DESCRIPTION', overwrite=True)\n"
   ]
  },
  {
   "cell_type": "code",
   "execution_count": 73,
   "metadata": {},
   "outputs": [],
   "source": [
    "# test case that have `no` answer. \n",
    "t = editor.template('Do I think {it} {amazon_noun} {be} {neutral_adj}? No', it=['that', 'this', 'the'], be=['is', 'was'], save=True)\n",
    "t += editor.template('Do I think {it} {be} {a:neutral_adj} {amazon_noun}? No', it=['it', 'this', 'that'], be=['is', 'was'], save=True)\n",
    "t += editor.template('Did {i} {neutral_verb_present} {the} {amazon_noun}? No', i=['I', 'we'], the=['this', 'that', 'the'], save=True)\n",
    "\n",
    "# expect to be neutral\n",
    "test = MFT(t.data, labels=1, templates=t.templates)\n",
    "suite.add(test, 'Q & A: no (neutral)', 'SRL', 'TODO_DESCRIPTION')\n"
   ]
  },
  {
   "cell_type": "code",
   "execution_count": 74,
   "metadata": {},
   "outputs": [],
   "source": [
    "# update parameter name\n",
    "for test in suite.tests:\n",
    "    suite.tests[test].name = test\n",
    "    suite.tests[test].description = suite.info[test]['description]']\n",
    "    suite.tests[test].capability = suite.info[test]['capability']"
   ]
  },
  {
   "cell_type": "code",
   "execution_count": 75,
   "metadata": {},
   "outputs": [],
   "source": [
    "path = 'sentiment_suite_dt1.pkl' # define path\n",
    "suite.save(path) # save suite (test case) to the path"
   ]
  },
  {
   "cell_type": "code",
   "execution_count": null,
   "metadata": {},
   "outputs": [],
   "source": []
  }
 ],
 "metadata": {
  "kernelspec": {
   "display_name": "Python 3 (ipykernel)",
   "language": "python",
   "name": "python3"
  },
  "language_info": {
   "codemirror_mode": {
    "name": "ipython",
    "version": 3
   },
   "file_extension": ".py",
   "mimetype": "text/x-python",
   "name": "python",
   "nbconvert_exporter": "python",
   "pygments_lexer": "ipython3",
   "version": "3.11.7"
  }
 },
 "nbformat": 4,
 "nbformat_minor": 2
}
