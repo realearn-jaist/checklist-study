{
 "cells": [
  {
   "cell_type": "markdown",
   "metadata": {},
   "source": [
    "\n",
    "# Sentimental Dataset 2\n",
    "This notebook is responsible for creating test cases for sentiment analysis. After processing all test suites, it will save the test cases to sentimental_suite_dt2.pkl, and this notebook is used to create and preprocess a second specific sentiment analysis dataset espescialy from climate-related tweets. Test on following capabilities\n",
    "    - Capability: Vocabulary\n",
    "        - MFTs\n",
    "        - Intensifiers and reducers\n",
    "        - Add positive phrases\n",
    "    - Capability: Robustness\n",
    "        - punctuation, contractions, typos\n",
    "    - Capability: Temporal Awareness\n",
    "    - Capability: Negation\n",
    "    - Capability: SRL"
   ]
  },
  {
   "cell_type": "markdown",
   "metadata": {},
   "source": [
    "Note:\n",
    "- MFT(Minimum Functionality Test): focuses on evaluating whether a model has the basic functionality \n",
    "- DIR(Directional Expectation test). determine whether a model’s predictions are consistent with a prior expectation or hypothesis \n",
    "- INV (Invariance testing) is a type of testing in ML that checks whether a model is invariant to certain transformations or changes in the input data. \n",
    "\n",
    "\n",
    "\n",
    "ref:\n",
    "- https://www.godeltech.com/how-to-automate-the-testing-process-for-machine-learning-systems/\n",
    "\n",
    "To test each test case fail or not, depends on the `Label` that provide in line like this\n",
    "```test = MFT(**t, labels=0, name=name, capability = 'Vocabulary',description=desc)```\n",
    "ps. it can be changed depends on the type(MFT, DIR, or INV) that select to test \n",
    "\n",
    "For the sentimental scenario 2\n",
    "- ' Risk': 0\n",
    "- ' Opportunity': 2\n",
    "- ' Neutral': 1\n",
    "\n",
    "#ps. i find the word in the google. For some word array, i didn't use the suggest mask because I think word is not appropriate that much\n"
   ]
  },
  {
   "cell_type": "code",
   "execution_count": 1,
   "metadata": {},
   "outputs": [],
   "source": [
    "%load_ext autoreload\n",
    "%autoreload 2\n",
    "\n",
    "import checklist\n",
    "import spacy\n",
    "import itertools\n",
    "\n",
    "import checklist.editor\n",
    "import checklist.text_generation\n",
    "from checklist.test_types import MFT, INV, DIR\n",
    "from checklist.expect import Expect\n",
    "import numpy as np\n",
    "import spacy\n",
    "from checklist.test_suite import TestSuite\n",
    "from checklist.perturb import Perturb\n",
    "from transformers import pipeline"
   ]
  },
  {
   "cell_type": "code",
   "execution_count": 2,
   "metadata": {},
   "outputs": [
    {
     "data": {
      "text/plain": [
       "<checklist.text_generation.TextGenerator at 0x260a00c3350>"
      ]
     },
     "execution_count": 2,
     "metadata": {},
     "output_type": "execute_result"
    }
   ],
   "source": [
    "editor = checklist.editor.Editor() # creates an instance of the Editor class \n",
    "editor.tg # generate the new text data of the Checklist library fro the testing model and suggest the word"
   ]
  },
  {
   "cell_type": "code",
   "execution_count": 4,
   "metadata": {},
   "outputs": [],
   "source": [
    "import csv\n",
    "r = csv.DictReader(open('climate.csv')) # read file climate dataset\n",
    "\n",
    "# This dataset has only 2 column\n",
    "labels = []\n",
    "# confs = []\n",
    "# airlines = []\n",
    "tdata = []\n",
    "# reasons = []\n",
    "\n",
    "# Append data from csv file into the array\n",
    "for row in r:\n",
    "    sentiment, text = row['label'], row['text']\n",
    "    labels.append(sentiment)\n",
    "    # confs.append(conf)\n",
    "    # airlines.append(airline)\n",
    "    tdata.append(text)\n",
    "    # reasons.append(row['negativereason'])\n",
    "\n",
    "mapping = {' Risk': 0, ' Opportunity': 2, ' Neutral': 1} # define to map the label data into number\n",
    "labels = np.array([mapping[x] for x in labels]).astype(int)"
   ]
  },
  {
   "cell_type": "code",
   "execution_count": 5,
   "metadata": {},
   "outputs": [],
   "source": [
    "# This is the model from Spacy library used for the NLP task below in the parsed_question. to parse data into the pipeline\n",
    "nlp = spacy.load('en_core_web_sm')"
   ]
  },
  {
   "cell_type": "code",
   "execution_count": 6,
   "metadata": {},
   "outputs": [],
   "source": [
    "# turn data into pipeline then convert to list, and saved the result in `parsed_data`\n",
    "sentences = tdata\n",
    "parsed_data = list(nlp.pipe(sentences))"
   ]
  },
  {
   "cell_type": "code",
   "execution_count": 7,
   "metadata": {},
   "outputs": [],
   "source": [
    "# Test suite is container for the unit test. used for the test case.\n",
    "suite = TestSuite()"
   ]
  },
  {
   "cell_type": "markdown",
   "metadata": {},
   "source": [
    "## Capability: Vocabulary"
   ]
  },
  {
   "cell_type": "markdown",
   "metadata": {},
   "source": [
    "### MFTs"
   ]
  },
  {
   "cell_type": "code",
   "execution_count": 8,
   "metadata": {},
   "outputs": [],
   "source": [
    "# define the noun in the array\n",
    "climate_noun = ['climate zone', 'pollution', 'environment', 'global warming', 'atmosphere', 'temperature', 'conditions', 'weather', 'seasonality', 'precipitation', \n",
    "            'humidity', 'ecosystem', 'environment']\n",
    "\n",
    "# add the noun array in to lexicon which can use like mask. On this line, it will be used in {climate_noun} which can be changed when testing.\n",
    "editor.add_lexicon('climate_noun', climate_noun)"
   ]
  },
  {
   "cell_type": "code",
   "execution_count": 10,
   "metadata": {},
   "outputs": [],
   "source": [
    "# define positive, negative, and neutral adjective. \n",
    "#ps. i find the word in the google, and i didn't use the suggest mask the word. i think word is not appropriate that much\n",
    "pos_adj = ['delightful', 'stunning', 'brilliant', 'joyful', 'refreshing', 'invigorating', 'pleasant', 'lovely', 'beautiful', 'serene']\n",
    "neg_adj = ['dreadful', 'harsh', 'gloomy', 'bleak', 'miserable', 'severe', 'oppressive', 'stormy', 'chilling', 'unpleasant']\n",
    "neutral_adj = ['moderate', 'mild', 'variable', 'seasonal', 'typical', 'average', 'standard', 'usual', 'regular', 'current']\n",
    "\n",
    "# add dictionary of word into object \n",
    "editor.add_lexicon('pos_adj', pos_adj, overwrite=True)\n",
    "editor.add_lexicon('neg_adj', neg_adj, overwrite=True )\n",
    "editor.add_lexicon('neutral_adj', neutral_adj, overwrite=True)"
   ]
  },
  {
   "cell_type": "code",
   "execution_count": 12,
   "metadata": {},
   "outputs": [],
   "source": [
    "# define positive, negative, and neutral verb\n",
    "pos_verb_present = ['shine', 'warm', 'refresh', 'calm', 'invigorate']\n",
    "neg_verb_present = ['bluster', 'chills', 'floods',  'ravages', 'threatens']\n",
    "neutral_verb_present = ['change', 'fall', 'happen', 'persist', 'continue']\n",
    "\n",
    "# define past participle verb\n",
    "pos_verb_past = [ 'shone', 'warmed', 'refreshed', 'calmed', 'Invigorated']\n",
    "neg_verb_past = ['blustered', 'chilled', 'flooded',  'ravaged', 'threatened']\n",
    "neutral_verb_past = ['changed', 'fell', 'happened', 'persisted', 'continued']\n",
    "\n",
    "# add dictionary of word into object \n",
    "editor.add_lexicon('pos_verb_present', pos_verb_present, overwrite=True)\n",
    "editor.add_lexicon('neg_verb_present', neg_verb_present, overwrite=True)\n",
    "editor.add_lexicon('neutral_verb_present', neutral_verb_present, overwrite=True)\n",
    "editor.add_lexicon('pos_verb_past', pos_verb_past, overwrite=True)\n",
    "editor.add_lexicon('neg_verb_past', neg_verb_past, overwrite=True)\n",
    "editor.add_lexicon('neutral_verb_past', neutral_verb_past, overwrite=True)\n",
    "editor.add_lexicon('pos_verb', pos_verb_present+ pos_verb_past, overwrite=True)\n",
    "editor.add_lexicon('neg_verb', neg_verb_present + neg_verb_past, overwrite=True)\n",
    "editor.add_lexicon('neutral_verb', neutral_verb_present + neutral_verb_past, overwrite=True)"
   ]
  },
  {
   "cell_type": "markdown",
   "metadata": {},
   "source": [
    "Individual words"
   ]
  },
  {
   "cell_type": "code",
   "execution_count": 13,
   "metadata": {},
   "outputs": [],
   "source": [
    "# Add individual word test: positive verb\n",
    "test = MFT(pos_adj + pos_verb_present + pos_verb_past, labels=2)\n",
    "suite.add(test, 'single positive words', 'Vocabulary', '')"
   ]
  },
  {
   "cell_type": "code",
   "execution_count": 14,
   "metadata": {},
   "outputs": [],
   "source": [
    "# Add individual word test: negative verb\n",
    "test = MFT(neg_adj + neg_verb_present + neg_verb_past, labels=0)\n",
    "suite.add(test, 'single negative words', 'Vocabulary', '')"
   ]
  },
  {
   "cell_type": "code",
   "execution_count": 15,
   "metadata": {},
   "outputs": [],
   "source": [
    "# Add individual word test: neutral verb\n",
    "test = MFT(neutral_adj + neutral_verb_present + neutral_verb_past, labels=1)\n",
    "suite.add(test, 'single neutral words', 'Vocabulary', 'TODO_DESCRIPTION')"
   ]
  },
  {
   "cell_type": "markdown",
   "metadata": {},
   "source": [
    "Words in context"
   ]
  },
  {
   "cell_type": "code",
   "execution_count": 16,
   "metadata": {},
   "outputs": [],
   "source": [
    "# Add the test. On each line provided different context with the mask provided\n",
    "t = editor.template('{it} {climate_noun} {be} {pos_adj}.', it=['The', 'This', 'That'], be=['is', 'was'], labels=2, save=True)\n",
    "t += editor.template('{it} {be} {a:pos_adj} {climate_noun}.', it=['It', 'This', 'That'], be=['is', 'was'], labels=2, save=True)\n",
    "t += editor.template('{i} {pos_verb} {the} {climate_noun}.', i=['I', 'We'], the=['this', 'that', 'the'], labels=2, save=True)\n",
    "t += editor.template('{it} {climate_noun} {be} {neg_adj}.', it=['That', 'This', 'The'], be=['is', 'was'], labels=0, save=True)\n",
    "t += editor.template('{it} {be} {a:neg_adj} {climate_noun}.', it=['It', 'This', 'That'], be=['is', 'was'], labels=0, save=True)\n",
    "t += editor.template('{i} {neg_verb} {the} {climate_noun}.', i=['I', 'We'], the=['this', 'that', 'the'], labels=0, save=True)\n",
    "\n",
    "# **t means unpacking the dictionary into keyword argument\n",
    "test = MFT(**t)\n",
    "suite.add(test, 'Sentiment-laden words in context', 'Vocabulary', 'Use positive and negative verbs and adjectives with climate nouns such as climate zone, pollution, environment, global warming, atmosphere, etc. E.g. \"This was a worsr pollution\"',overwrite=True)\n"
   ]
  },
  {
   "cell_type": "code",
   "execution_count": 17,
   "metadata": {},
   "outputs": [
    {
     "data": {
      "text/plain": [
       "['change',\n",
       " 'fall',\n",
       " 'happen',\n",
       " 'persist',\n",
       " 'continue',\n",
       " 'changed',\n",
       " 'fell',\n",
       " 'happened',\n",
       " 'persisted',\n",
       " 'continued']"
      ]
     },
     "execution_count": 17,
     "metadata": {},
     "output_type": "execute_result"
    }
   ],
   "source": [
    "# add dictionary of word into object \n",
    "editor.lexicons['neutral_verb']"
   ]
  },
  {
   "cell_type": "code",
   "execution_count": 18,
   "metadata": {},
   "outputs": [],
   "source": [
    "# Firstly, need to define.\n",
    "# Next, needed to use += to append test on the list \n",
    "t = editor.template('{it} {climate_noun} {be} {neutral_adj}.', it=['That', 'This', 'The'], be=['is', 'was'], save=True)\n",
    "t += editor.template('{it} {be} {a:neutral_adj} {climate_noun}.', it=['It', 'This', 'That'], be=['is', 'was'], save=True)\n",
    "t += editor.template('{i} {neutral_verb} {the} {climate_noun}.', i=['I', 'We'], the=['this', 'that', 'the'], save=True)\n",
    "test = MFT(t.data, labels=1, templates=t.templates)\n",
    "suite.add(test, 'neutral words in context', 'Vocabulary', 'Use neutral verbs and adjectives with climate nouns such as climate zone, pollution, environment, global warming, atmosphere, etc. E.g. \"The atmosphere is stable\"')"
   ]
  },
  {
   "cell_type": "markdown",
   "metadata": {},
   "source": [
    "### Intensifiers and reducers"
   ]
  },
  {
   "cell_type": "code",
   "execution_count": 19,
   "metadata": {},
   "outputs": [
    {
     "name": "stdout",
     "output_type": "stream",
     "text": [
      "very , really , absolutely , extremely , rather , surprisingly , quite , incredibly , truly , amazingly , utterly , exceptionally , extraordinarily , most , unusually , especially , overall , entirely , almost , unbelievably , otherwise , absolute , exceedingly , intensely , immensely , generally , amazing , altogether , overwhelmingly , obviously , pretty , unusual , equally , oddly , extraordinary , unexpectedly , simply , a , particularly , actual , appropriately , actually , apparently , ideal , wonderfully , excellent , fairly , enormous , remarkably , increasingly\n"
     ]
    }
   ],
   "source": [
    "# suggest the mask from the context. In this context mask provided the adverb\n",
    "print(' , '.join(editor.suggest('{it} {be} {a:mask} {pos_adj} {climate_noun}.', it=['It', 'This', 'That'], be=['is', 'was'])[:50]))"
   ]
  },
  {
   "cell_type": "code",
   "execution_count": 20,
   "metadata": {},
   "outputs": [],
   "source": [
    "# define adverb\n",
    "intens_adj = ['very', 'really', 'absolutely', 'truly', 'extremely', 'quite', 'incredibly', 'amazingly', 'especially', 'exceptionally', 'unbelievably', 'utterly', 'exceedingly', 'rather', 'totally', 'particularly']"
   ]
  },
  {
   "cell_type": "code",
   "execution_count": 21,
   "metadata": {},
   "outputs": [
    {
     "name": "stdout",
     "output_type": "stream",
     "text": [
      "have, just, also, really, never, had, actually, always, simply, almost, still, finally, definitely, absolutely, only, certainly, totally, even, literally, completely, already, truly, intentionally, mean, got, successfully, nearly, would, rather, basically, deliberately, probably, think, greatly, merely, immediately, then, want, like, first, need, quickly, could, further, did, will, wanted, feel, can, kinda, often, effectively, must, cannot, hope, should, all, strongly, was, fully, hardly, barely, essentially, get, slowly, actively, now, felt, were, mostly, so, constantly, shall, generally, may, love, obviously, fundamentally, seriously, accidentally, say, might, recently, both, again, do, sure, gently, see, thoroughly, specifically, helped, temporarily, saw, are, personally, said, somehow, purposely, eventually\n"
     ]
    }
   ],
   "source": [
    "# suggest the mask from the context. In this context mask provided the adverb\n",
    "print(', '.join(editor.suggest('{i} {mask} {pos_verb} {the} {climate_noun}.', i=['I', 'We'], the=['this', 'that', 'the'])[:100]))"
   ]
  },
  {
   "cell_type": "code",
   "execution_count": 23,
   "metadata": {},
   "outputs": [],
   "source": [
    "# define adverb\n",
    "intens_verb = [ 'really', 'absolutely', 'truly', 'extremely',  'especially',  'utterly',  'totally', 'particularly', 'highly', 'definitely', 'certainly', 'genuinely', 'honestly', 'strongly', 'sure', 'sincerely']"
   ]
  },
  {
   "cell_type": "code",
   "execution_count": 24,
   "metadata": {},
   "outputs": [],
   "source": [
    "monotonic_label = Expect.monotonic(increasing=True, tolerance=0.1) #label the model: prediction is increasing like pattern and tolerance=0.1. \n",
    "non_neutral_pred = lambda pred, *args, **kwargs: pred != 1 #to check that the neutral is not equal 1, used to filter the neutral out\n",
    "monotonic_label = Expect.slice_pairwise(monotonic_label, non_neutral_pred) #combine label"
   ]
  },
  {
   "cell_type": "code",
   "execution_count": 25,
   "metadata": {},
   "outputs": [
    {
     "data": {
      "text/plain": [
       "[['It is a delightful temperature.',\n",
       "  'It is a particularly delightful temperature.'],\n",
       " ['This is a serene precipitation.', 'This is a truly serene precipitation.'],\n",
       " ['That was an invigorating seasonality.',\n",
       "  'That was an especially invigorating seasonality.'],\n",
       " ['It is a stunning humidity.', 'It is an exceedingly stunning humidity.'],\n",
       " ['It is a stunning ecosystem.', 'It is an incredibly stunning ecosystem.']]"
      ]
     },
     "execution_count": 25,
     "metadata": {},
     "output_type": "execute_result"
    }
   ],
   "source": [
    "# add dictionary of word into object \n",
    "# need to define first then, use `+=` to add. for protecting duplicating problem\n",
    "t = editor.template(['{it} {be} {a:pos_adj} {climate_noun}.', '{it} {be} {a:intens} {pos_adj} {climate_noun}.'] , intens=intens_adj, it=['It', 'This', 'That'], be=['is', 'was'], nsamples=500, save=True)\n",
    "t += editor.template(['{i} {pos_verb} {the} {climate_noun}.', '{i} {intens} {pos_verb} {the} {climate_noun}.'], intens=intens_verb, i=['I', 'We'], the=['this', 'that', 'the'], nsamples=500, save=True)\n",
    "t += editor.template(['{it} {be} {a:neg_adj} {climate_noun}.', '{it} {be} {a:intens} {neg_adj} {climate_noun}.'] , intens=intens_adj, it=['It', 'This', 'That'], be=['is', 'was'], nsamples=500, save=True)\n",
    "t += editor.template(['{i} {neg_verb} {the} {climate_noun}.', '{i} {intens} {neg_verb} {the} {climate_noun}.'], intens=intens_verb, i=['I', 'We'], the=['this', 'that', 'the'], nsamples=500, save=True)\n",
    "t.data[:5]\n"
   ]
  },
  {
   "cell_type": "code",
   "execution_count": 26,
   "metadata": {},
   "outputs": [],
   "source": [
    "# add dictionary of word into object \n",
    "# need to define first then, use `+=` to add. for protecting duplicating problem\n",
    "t = editor.template(['{it} {be} {a:pos_adj} {climate_noun}.', '{it} {be} {a:intens} {pos_adj} {climate_noun}.'] , intens=intens_adj, it=['It', 'This', 'That'], be=['is', 'was'], nsamples=500, save=True)\n",
    "t += editor.template(['{i} {pos_verb} {the} {climate_noun}.', '{i} {intens} {pos_verb} {the} {climate_noun}.'], intens=intens_verb, i=['I', 'We'], the=['this', 'that', 'the'], nsamples=500, save=True)\n",
    "t += editor.template(['{it} {be} {a:neg_adj} {climate_noun}.', '{it} {be} {a:intens} {neg_adj} {climate_noun}.'] , intens=intens_adj, it=['It', 'This', 'That'], be=['is', 'was'], nsamples=500, save=True)\n",
    "t += editor.template(['{i} {neg_verb} {the} {climate_noun}.', '{i} {intens} {neg_verb} {the} {climate_noun}.'], intens=intens_verb, i=['I', 'We'], the=['this', 'that', 'the'], nsamples=500, save=True)\n",
    "test = DIR(t.data, monotonic_label, templates=t.templates)\n",
    "description = '''Test is composed of pairs of sentences (x1, x2), where we add an intensifier\n",
    "such as \"really\",or \"very\" to x2 and expect the confidence to NOT go down (with tolerance=0.1). e.g.:\n",
    "x1 = \"That was a nice weather\"\n",
    "x2 = \"That was a very good atmostphere\"\n",
    "We disregard cases where the prediction of x1 is neutral.\n",
    "'''\n",
    "\n",
    "#add the test into suite\n",
    "suite.add(test, 'intensifiers', 'Vocabulary', description)\n"
   ]
  },
  {
   "cell_type": "code",
   "execution_count": 27,
   "metadata": {},
   "outputs": [],
   "source": [
    "# define reducer adjective to reduce the meaning.\n",
    "reducer_adj = ['somewhat', 'kinda', 'mostly', 'probably', 'generally', 'reasonably', 'a little', 'a bit', 'slightly']"
   ]
  },
  {
   "cell_type": "code",
   "execution_count": 28,
   "metadata": {},
   "outputs": [],
   "source": [
    "monotonic_label_down = Expect.monotonic(increasing=False, tolerance=0.1) #label the model: prediction is increasing like pattern and tolerance=0.1. \n",
    "monotonic_label_down = Expect.slice_pairwise(monotonic_label_down, non_neutral_pred) #combine label"
   ]
  },
  {
   "cell_type": "code",
   "execution_count": 29,
   "metadata": {},
   "outputs": [
    {
     "data": {
      "text/plain": [
       "[['This humidity was serene.', 'This humidity was somewhat serene.'],\n",
       " ['That humidity was delightful.', 'That humidity was mostly delightful.'],\n",
       " ['The climate zone is invigorating.',\n",
       "  'The climate zone is slightly invigorating.'],\n",
       " ['That conditions is brilliant.', 'That conditions is somewhat brilliant.'],\n",
       " ['That atmosphere is serene.', 'That atmosphere is kinda serene.'],\n",
       " ['That precipitation was pleasant.',\n",
       "  'That precipitation was reasonably pleasant.'],\n",
       " ['The precipitation was serene.', 'The precipitation was generally serene.'],\n",
       " ['The environment is beautiful.', 'The environment is a bit beautiful.'],\n",
       " ['The precipitation was invigorating.',\n",
       "  'The precipitation was kinda invigorating.'],\n",
       " ['That atmosphere is invigorating.',\n",
       "  'That atmosphere is a little invigorating.'],\n",
       " ['This pollution is delightful.', 'This pollution is reasonably delightful.'],\n",
       " ['The environment is lovely.', 'The environment is generally lovely.'],\n",
       " ['This climate zone is refreshing.',\n",
       "  'This climate zone is reasonably refreshing.'],\n",
       " ['That global warming is lovely.', 'That global warming is kinda lovely.'],\n",
       " ['This environment was serene.', 'This environment was slightly serene.'],\n",
       " ['That ecosystem was beautiful.', 'That ecosystem was a little beautiful.'],\n",
       " ['This pollution is delightful.', 'This pollution is kinda delightful.'],\n",
       " ['The humidity was pleasant.', 'The humidity was reasonably pleasant.'],\n",
       " ['That humidity was serene.', 'That humidity was kinda serene.'],\n",
       " ['That environment was beautiful.',\n",
       "  'That environment was generally beautiful.'],\n",
       " ['That temperature was brilliant.', 'That temperature was kinda brilliant.'],\n",
       " ['That temperature was brilliant.',\n",
       "  'That temperature was generally brilliant.'],\n",
       " ['This temperature was stunning.', 'This temperature was probably stunning.'],\n",
       " ['The ecosystem was beautiful.', 'The ecosystem was generally beautiful.'],\n",
       " ['The ecosystem is delightful.', 'The ecosystem is reasonably delightful.'],\n",
       " ['This conditions is pleasant.', 'This conditions is mostly pleasant.'],\n",
       " ['That ecosystem was serene.', 'That ecosystem was probably serene.'],\n",
       " ['This conditions was brilliant.', 'This conditions was somewhat brilliant.'],\n",
       " ['That atmosphere was serene.', 'That atmosphere was reasonably serene.'],\n",
       " ['This environment is brilliant.', 'This environment is probably brilliant.'],\n",
       " ['The global warming was brilliant.',\n",
       "  'The global warming was kinda brilliant.'],\n",
       " ['That weather is pleasant.', 'That weather is mostly pleasant.'],\n",
       " ['That global warming was serene.',\n",
       "  'That global warming was reasonably serene.'],\n",
       " ['That temperature is joyful.', 'That temperature is mostly joyful.'],\n",
       " ['This environment is joyful.', 'This environment is probably joyful.'],\n",
       " ['That seasonality is stunning.', 'That seasonality is mostly stunning.'],\n",
       " ['This atmosphere was delightful.',\n",
       "  'This atmosphere was reasonably delightful.'],\n",
       " ['The environment is brilliant.', 'The environment is probably brilliant.'],\n",
       " ['The climate zone is delightful.',\n",
       "  'The climate zone is slightly delightful.'],\n",
       " ['The weather was delightful.', 'The weather was generally delightful.'],\n",
       " ['This environment is lovely.', 'This environment is a bit lovely.'],\n",
       " ['That climate zone is brilliant.',\n",
       "  'That climate zone is a little brilliant.'],\n",
       " ['The environment was lovely.', 'The environment was somewhat lovely.'],\n",
       " ['That environment was beautiful.', 'That environment was kinda beautiful.'],\n",
       " ['This environment is serene.', 'This environment is generally serene.'],\n",
       " ['That global warming was pleasant.',\n",
       "  'That global warming was probably pleasant.'],\n",
       " ['The environment was refreshing.',\n",
       "  'The environment was slightly refreshing.'],\n",
       " ['This pollution is stunning.', 'This pollution is somewhat stunning.'],\n",
       " ['The seasonality is refreshing.', 'The seasonality is a bit refreshing.'],\n",
       " ['This atmosphere is refreshing.', 'This atmosphere is mostly refreshing.']]"
      ]
     },
     "execution_count": 29,
     "metadata": {},
     "output_type": "execute_result"
    }
   ],
   "source": [
    "# add dictionary of word into object \n",
    "# need to define first then, use `+=` to add. for protecting duplicating problem\n",
    "t = editor.template(['{it} {climate_noun} {be} {pos_adj}.', '{it} {climate_noun} {be} {red} {pos_adj}.'] , red=reducer_adj, it=['The', 'This', 'That'], be=['is', 'was'], nsamples=1000, save=True)\n",
    "t += editor.template(['{it} {climate_noun} {be} {neg_adj}.', '{it} {climate_noun} {be} {red} {neg_adj}.'] , red=reducer_adj, it=['The', 'This', 'That'], be=['is', 'was'], nsamples=1000, save=True)\n",
    "t.data[:50]"
   ]
  },
  {
   "cell_type": "code",
   "execution_count": 30,
   "metadata": {},
   "outputs": [],
   "source": [
    "# add dictionary of word into object \n",
    "# need to define first then, use `+=` to add. for protecting duplicating problem\n",
    "t = editor.template(['{it} {climate_noun} {be} {pos_adj}.', '{it} {climate_noun} {be} {red} {pos_adj}.'] , red=reducer_adj, it=['The', 'This', 'That'], be=['is', 'was'], nsamples=1000, save=True)\n",
    "t += editor.template(['{it} {climate_noun} {be} {neg_adj}.', '{it} {climate_noun} {be} {red} {neg_adj}.'] , red=reducer_adj, it=['The', 'This', 'That'], be=['is', 'was'], nsamples=1000, save=True)\n",
    "test = DIR(t.data, monotonic_label_down, templates=t.templates)\n",
    "description = '''Test is composed of pairs of sentences (x1, x2), where we add a reducer\n",
    "such as \"somewhat\", or \"kinda\" to x2 and expect the confidence to NOT go up (with tolerance=0.1). e.g.:\n",
    "x1 = \"The temperature crew was good.\"\n",
    "x2 = \"The temperature was somewhat good.\"\n",
    "We disregard cases where the prediction of x1 is neutral.\n",
    "'''\n",
    "suite.add(test, 'reducers', 'Vocabulary', description)\n"
   ]
  },
  {
   "cell_type": "markdown",
   "metadata": {},
   "source": [
    "### Add positive phrases"
   ]
  },
  {
   "cell_type": "code",
   "execution_count": 31,
   "metadata": {},
   "outputs": [],
   "source": [
    "# define and add context into positive variable\n",
    "positive = editor.template('I {pos_verb_present} weather.').data\n",
    "positive += editor.template('Weather is {pos_adj}.').data\n",
    "\n",
    "# define and add context into negative variable\n",
    "negative = editor.template('I {neg_verb_present} weather.').data\n",
    "negative += editor.template('Weather are {neg_adj}.').data\n",
    "negative += ['Never has the atmosphere been so polluted and unsafe for future generations.']\n",
    "\n",
    "# function to add phrase\n",
    "def add_phrase_function(phrases):\n",
    "    def pert(d):\n",
    "        while d[-1].pos_ == 'PUNCT':\n",
    "            d = d[:-1]\n",
    "        d = d.text\n",
    "        ret = [d + '. ' + x for x in phrases]\n",
    "        idx = np.random.choice(len(ret), 10, replace=False)\n",
    "        ret = [ret[i] for i in idx]\n",
    "        return ret\n",
    "    return pert\n"
   ]
  },
  {
   "cell_type": "code",
   "execution_count": 32,
   "metadata": {},
   "outputs": [],
   "source": [
    "# function to change positive sentiment probability after perturbation\n",
    "def positive_change(orig_conf, conf):\n",
    "    softmax = type(orig_conf) in [np.array, np.ndarray]\n",
    "    if not softmax or orig_conf.shape[0] != 3:\n",
    "        raise(Exception('Need prediction function to be softmax with 3 labels (negative, neutral, positive)'))\n",
    "    return orig_conf[0] - conf[0] + conf[2] - orig_conf[2]\n",
    "\n",
    "# If the change in positive sentiment probability is within 0.1, then the result will return True if the total change is equal to or greater than 0, \n",
    "# indicating an increase or no change in positive sentiment. Otherwise, it will return the sum of the calculated change and the tolerance.\n",
    "def diff_up(orig_pred, pred, orig_conf, conf, labels=None, meta=None):\n",
    "    tolerance = 0.1\n",
    "    change = positive_change(orig_conf, conf)\n",
    "    if change + tolerance >= 0:\n",
    "        return True\n",
    "    else:\n",
    "        return change + tolerance\n",
    "    \n",
    "# checks whether the positive sentiment probability has changed by 0.1 or more. If the change is zero or negative, it returns True, \n",
    "# meaning the positive sentiment probability has decreased or stayed the same. Otherwise, it returns the negative value of the change.\n",
    "def diff_down(orig_pred, pred, orig_conf, conf, labels=None, meta=None):\n",
    "    tolerance = 0.1\n",
    "    change = positive_change(orig_conf, conf)\n",
    "    if change - tolerance <= 0:\n",
    "        return True\n",
    "    else:\n",
    "        return -(change - tolerance)\n",
    "goes_up = Expect.pairwise(diff_up) #for adding positive phrase\n",
    "goes_down = Expect.pairwise(diff_down) #for adding negative phrase\n",
    "    "
   ]
  },
  {
   "cell_type": "code",
   "execution_count": 33,
   "metadata": {},
   "outputs": [],
   "source": [
    "# This test case provided the adding very positive test. When adding the very positive phrase, the probabilily of positive will not go down\n",
    "t = Perturb.perturb(parsed_data, add_phrase_function(positive), nsamples=500)\n",
    "test = DIR(t.data, goes_up)\n",
    "description = 'Add very positive phrases (e.g. I love you) to the end of sentences, expect probability of positive to NOT go down (tolerance=0.1)'\n",
    "suite.add(test, 'add positive phrases', 'Vocabulary', description)\n"
   ]
  },
  {
   "cell_type": "code",
   "execution_count": 34,
   "metadata": {},
   "outputs": [],
   "source": [
    "# have a problem, so i deleted this test case\n",
    "# t = Perturb.perturb(parsed_data, add_phrase_function(negative), nsamples=500)\n",
    "# test = DIR(t.data, goes_down)\n",
    "# description = 'Add very negative phrases (e.g. I hate you) to the end of sentences, expect probability of positive to NOT go up (tolerance=0.1)'\n",
    "# suite.add(test, 'add negative phrases', 'Vocabulary', description)"
   ]
  },
  {
   "cell_type": "markdown",
   "metadata": {},
   "source": [
    "## Capability: robustness\n"
   ]
  },
  {
   "cell_type": "markdown",
   "metadata": {},
   "source": [
    "### punctuation, contractions, typos"
   ]
  },
  {
   "cell_type": "code",
   "execution_count": 35,
   "metadata": {},
   "outputs": [],
   "source": [
    "# This test case provided the punctuation \n",
    "t = Perturb.perturb(parsed_data, Perturb.punctuation, nsamples=500)\n",
    "test = INV(t.data)\n",
    "suite.add(test, 'punctuation', 'Robustness', 'strip punctuation and / or add \".\"')\n"
   ]
  },
  {
   "cell_type": "code",
   "execution_count": 36,
   "metadata": {},
   "outputs": [],
   "source": [
    "# This test case provided the typos test. e.g., `;` `?`\n",
    "t = Perturb.perturb(sentences, Perturb.add_typos, nsamples=500, typos=1)\n",
    "test = INV(t.data)\n",
    "suite.add(test, 'typos', 'Robustness', 'Add one typo to input by swapping two adjacent characters')\n"
   ]
  },
  {
   "cell_type": "code",
   "execution_count": 37,
   "metadata": {},
   "outputs": [],
   "source": [
    "# This test case provided the 2 typos in test. e.g., `;` `?`\n",
    "t = Perturb.perturb(sentences, Perturb.add_typos, nsamples=500, typos=2)\n",
    "test = INV(t.data)\n",
    "suite.add(test, '2 typos', 'Robustness', 'Add two typos to input by swapping two adjacent characters twice')\n"
   ]
  },
  {
   "cell_type": "markdown",
   "metadata": {},
   "source": [
    "## Capability: temporal awareness"
   ]
  },
  {
   "cell_type": "code",
   "execution_count": 38,
   "metadata": {},
   "outputs": [
    {
     "data": {
      "text/plain": [
       "['bluster', 'chills', 'floods', 'ravages', 'threatens']"
      ]
     },
     "execution_count": 38,
     "metadata": {},
     "output_type": "execute_result"
    }
   ],
   "source": [
    "editor.template('{neg_verb_present}').data # check whats include in object `neg_verb_present`"
   ]
  },
  {
   "cell_type": "code",
   "execution_count": 39,
   "metadata": {},
   "outputs": [],
   "source": [
    "# add dictionary of word into object \n",
    "change = ['but', 'even though', 'although', '']\n",
    "\n",
    "# need to define first then, use `+=` to add. for protecting duplicating problem\n",
    "t = editor.template(['I used to think this weather was {neg_adj}, {change} now I think it is {pos_adj}.',\n",
    "                                 'I think this weather is {pos_adj}, {change} I used to think it was {neg_adj}.',\n",
    "                                 'In the past I thought this weather was {neg_adj}, {change} now I think it is {pos_adj}.',\n",
    "                                 'I think this weather is {pos_adj}, {change} in the past I thought it was {neg_adj}.',\n",
    "                                ] ,\n",
    "                                 change=change, unroll=True, nsamples=500, save=True, labels=2)\n",
    "t += editor.template(['I used to {neg_verb_present} this weather, {change} now I {pos_verb_present} it.',\n",
    "                                 'I {pos_verb_present} this weather, {change} I used to {neg_verb_present} it.',\n",
    "                                 'In the past I would {neg_verb_present} this weather, {change} now I {pos_verb} it.',\n",
    "                                 'I {pos_verb_present} this weather, {change} in the past I would {neg_verb_present} it.',\n",
    "                                ] ,\n",
    "                                change=change, unroll=True, nsamples=500, save=True, labels=2)\n",
    "\n",
    "t += editor.template(['I used to think this weather was {pos_adj}, {change} now I think it is {neg_adj}.',\n",
    "                                 'I think this weather is {neg_adj}, {change} I used to think it was {pos_adj}.',\n",
    "                                 'In the past I thought this weather was {pos_adj}, {change} now I think it is {neg_adj}.',\n",
    "                                 'I think this weather is {neg_adj}, {change} in the past I thought it was {pos_adj}.',\n",
    "                                ] ,\n",
    "                                 change=change, unroll=True, nsamples=500, save=True, labels=0)\n",
    "t += editor.template(['I used to {pos_verb_present} this weather, {change} now I {neg_verb_present} it.',\n",
    "                                 'I {neg_verb_present} this weather, {change} I used to {pos_verb_present} it.',\n",
    "                                 'In the past I would {pos_verb_present} this weather, {change} now I {neg_verb_present} it.',\n",
    "                                 'I {neg_verb_present} this weather, {change} in the past I would {pos_verb_present} it.',\n",
    "                                ] ,\n",
    "                                change=change, unroll=True, nsamples=500, save=True, labels=0)\n",
    "test = MFT(**t) # basic function test\n",
    "description = '''Have two conflicing statements, one about the past and one about the present.\n",
    "Expect the present to carry the sentiment. Examples:\n",
    "I used to love this weather, now I hate it -> should be negative\n",
    "I love this weather, although I used to hate it -> should be positive\n",
    "'''\n",
    "suite.add(test, 'used to, but now', 'Temporal', description)\n",
    "\n"
   ]
  },
  {
   "cell_type": "markdown",
   "metadata": {},
   "source": [
    "used to should reduce"
   ]
  },
  {
   "cell_type": "code",
   "execution_count": 40,
   "metadata": {},
   "outputs": [
    {
     "data": {
      "text/plain": [
       "[['it is a delightful climate zone.',\n",
       "  'I used to think it is a delightful climate zone.'],\n",
       " ['it was a delightful climate zone.',\n",
       "  'I used to think it was a delightful climate zone.'],\n",
       " ['this is a delightful climate zone.',\n",
       "  'I used to think this is a delightful climate zone.'],\n",
       " ['this was a delightful climate zone.',\n",
       "  'I used to think this was a delightful climate zone.'],\n",
       " ['that is a delightful climate zone.',\n",
       "  'I used to think that is a delightful climate zone.']]"
      ]
     },
     "execution_count": 40,
     "metadata": {},
     "output_type": "execute_result"
    }
   ],
   "source": [
    "# Append the data, add more context. To reduce the meaning feeling to become less strong meaning.\n",
    "t = editor.template(['{it} {be} {a:adj} {climate_noun}.', 'I used to think {it} {be} {a:adj} {climate_noun}.'], it=['it', 'this', 'that'], be=['is', 'was'], adj=editor.lexicons['pos_adj'] + editor.lexicons['neg_adj'], save=True)\n",
    "t += editor.template(['{i} {verb} {the} {climate_noun}.', '{i} used to {verb} {the} {climate_noun}.'], i=['I', 'We'], the=['this', 'that', 'the'], verb=editor.lexicons['pos_verb_present'] + editor.lexicons['neg_verb_present'], save=True)\n",
    "t.data[:5]\n"
   ]
  },
  {
   "cell_type": "code",
   "execution_count": 41,
   "metadata": {},
   "outputs": [],
   "source": [
    "# Add the test case: add used to reduce confidence\n",
    "t = editor.template(['{it} {be} {a:adj} {climate_noun}.', 'I used to think {it} {be} {a:adj} {climate_noun}.'], it=['it', 'this', 'that'], be=['is', 'was'], adj=editor.lexicons['pos_adj'] + editor.lexicons['neg_adj'], save=True)\n",
    "t += editor.template(['{i} {verb} {the} {climate_noun}.', '{i} used to {verb} {the} {climate_noun}.'], i=['I', 'We'], the=['this', 'that', 'the'], verb=editor.lexicons['pos_verb_present'] + editor.lexicons['neg_verb_present'], save=True)\n",
    "test = DIR(t.data, monotonic_label_down, templates=t.templates)\n",
    "suite.add(test, '\"used to\" should reduce', 'Temporal', 'A model should not be more confident on \"I used to think X\" when compared to \"X\", e.g. \"I used to love this airline\" should have less confidence than \"I love this airline\"')\n"
   ]
  },
  {
   "cell_type": "markdown",
   "metadata": {},
   "source": [
    "\n",
    "## Capability: Negation"
   ]
  },
  {
   "cell_type": "markdown",
   "metadata": {},
   "source": [
    "Simple templates:"
   ]
  },
  {
   "cell_type": "code",
   "execution_count": 42,
   "metadata": {},
   "outputs": [],
   "source": [
    "# add the simple negation test case\n",
    "t = editor.template('{it} {climate_noun} {nt} {pos_adj}.', it=['This', 'That', 'The'], nt=['is not', 'isn\\'t'], save=True)\n",
    "t += editor.template('{it} {benot} {a:pos_adj} {climate_noun}.', it=['It', 'This', 'That'], benot=['is not',  'isn\\'t', 'was not', 'wasn\\'t'], save=True)\n",
    "neg = ['I can\\'t say I', 'I don\\'t', 'I would never say I', 'I don\\'t think I', 'I didn\\'t' ]\n",
    "t += editor.template('{neg} {pos_verb_present} {the} {climate_noun}.', neg=neg, the=['this', 'that', 'the'], save=True)\n",
    "t += editor.template('No one {pos_verb_present}s {the} {climate_noun}.', neg=neg, the=['this', 'that', 'the'], save=True)\n",
    "test = MFT(t.data, labels=0, templates=t.templates)\n",
    "suite.add(test, 'simple negations: negative', 'Negation', 'Very simple negations of positive statements')\n"
   ]
  },
  {
   "cell_type": "code",
   "execution_count": 43,
   "metadata": {},
   "outputs": [],
   "source": [
    "# add the simple negation test case.\n",
    "t = editor.template('{it} {climate_noun} {nt} {neg_adj}.', it=['This', 'That', 'The'], nt=['is not', 'isn\\'t'], save=True)\n",
    "t += editor.template('{it} {benot} {a:neg_adj} {climate_noun}.', it=['It', 'This', 'That'], benot=['is not',  'isn\\'t', 'was not', 'wasn\\'t'], save=True)\n",
    "neg = ['I can\\'t say I', 'I don\\'t', 'I would never say I', 'I don\\'t think I', 'I didn\\'t' ]\n",
    "t += editor.template('{neg} {neg_verb_present} {the} {climate_noun}.', neg=neg, the=['this', 'that', 'the'], save=True)\n",
    "t += editor.template('No one {neg_verb_present}s {the} {climate_noun}.', neg=neg, the=['this', 'that', 'the'], save=True)\n",
    "# expectation: prediction is not 0 (Risk)\n",
    "is_not_0 = lambda x, pred, *args: pred != 0\n",
    "test = MFT(t.data, Expect.single(is_not_0), templates=t.templates)\n",
    "suite.add(test, 'simple negations: not negative', 'Negation', 'Very simple negations of negative statements. Expectation requires prediction to NOT be negative (i.e. neutral or positive)')\n"
   ]
  },
  {
   "cell_type": "code",
   "execution_count": 44,
   "metadata": {},
   "outputs": [],
   "source": [
    "# add not neutral is still neutral test case\n",
    "t = editor.template('{it} {climate_noun} {nt} {neutral_adj}.', it=['This', 'That', 'The'], nt=['is not', 'isn\\'t'], save=True)\n",
    "t += editor.template('{it} {benot} {a:neutral_adj} {climate_noun}.', it=['It', 'This', 'That'], benot=['is not',  'isn\\'t', 'was not', 'wasn\\'t'], save=True)\n",
    "neg = ['I can\\'t say I', 'I don\\'t', 'I would never say I', 'I don\\'t think I', 'I didn\\'t' ]\n",
    "t += editor.template('{neg} {neutral_verb_present} {the} {climate_noun}.', neg=neg, the=['this', 'that', 'the'], save=True)\n",
    "test = MFT(t.data, labels=1, templates=t.templates) #Expect the Neutral\n",
    "suite.add(test, 'simple negations: not neutral is still neutral', 'Negation', 'Negating neutral statements should still result in neutral predictions')\n"
   ]
  },
  {
   "cell_type": "markdown",
   "metadata": {},
   "source": [
    "Different templates:"
   ]
  },
  {
   "cell_type": "code",
   "execution_count": 45,
   "metadata": {},
   "outputs": [],
   "source": [
    "climate_noun_it = [x for x in editor.lexicons['climate_noun']]\n",
    "t = editor.template('I thought {it} {climate_noun} would be {pos_adj}, but it {neg}.', climate_noun=climate_noun_it, neg=['was not', 'wasn\\'t'], it=['this', 'that', 'the'], nt=['is not', 'isn\\'t'], save=True)\n",
    "t += editor.template('I thought I would {pos_verb_present} {the} {climate_noun}, but I {neg}.', neg=['did not', 'didn\\'t'], the=['this', 'that', 'the'], save=True)\n",
    "test = MFT(t.data, labels=0, templates=t.templates) # Expect to be Risk\n",
    "suite.add(test, 'simple negations: I thought x was positive, but it was not (should be negative)', 'Negation', '', overwrite=True)\n"
   ]
  },
  {
   "cell_type": "code",
   "execution_count": 46,
   "metadata": {},
   "outputs": [],
   "source": [
    "# e.g., I thought this environment would be dreadful, but it wasn't.\n",
    "t = editor.template('I thought {it} {climate_noun} would be {neg_adj}, but it {neg}.', climate_noun=climate_noun_it, neg=['was not', 'wasn\\'t'], it=['this', 'that', 'the'], nt=['is not', 'isn\\'t'], save=True)\n",
    "t += editor.template('I thought I would {neg_verb_present} {the} {climate_noun}, but I {neg}.', neg=['did not', 'didn\\'t'], the=['this', 'that', 'the'], save=True)\n",
    "# expectation: prediction is not 0 (not risk)\n",
    "test = MFT(t.data, Expect.single(is_not_0), templates=t.templates)\n",
    "suite.add(test, 'simple negations: I thought x was negative, but it was not (should be neutral or positive)', 'Negation', '')\n"
   ]
  },
  {
   "cell_type": "code",
   "execution_count": 47,
   "metadata": {},
   "outputs": [],
   "source": [
    "# e.g., I thought this atmosphere would be usual, but it wasn't.\n",
    "t = editor.template('I thought {it} {climate_noun} would be {neutral_adj}, but it {neg}.', climate_noun=climate_noun_it, neg=['was not', 'wasn\\'t'], it=['this', 'that', 'the'], nt=['is not', 'isn\\'t'], save=True)\n",
    "t += editor.template('I thought I would {neutral_verb_present} {the} {climate_noun}, but I {neg}.', neg=['did not', 'didn\\'t'], the=['this', 'that', 'the'], save=True)\n",
    "# expectation: prediction is not 0 (not risk)\n",
    "test = MFT(t.data, labels=1, templates=t.templates) # expect to be Neutral\n",
    "suite.add(test, 'simple negations: but it was not (neutral) should still be neutral', 'Negation', '')\n"
   ]
  },
  {
   "cell_type": "markdown",
   "metadata": {},
   "source": [
    "Harder: negation with neutral in the middle"
   ]
  },
  {
   "cell_type": "code",
   "execution_count": 48,
   "metadata": {},
   "outputs": [],
   "source": [
    "# add the test case: negation with neutral in the middle.\n",
    "# Expect to be Risk\n",
    "neutral =['At Karnataka, we produced and sold 2.2 million tonnes during FY2018,', 'in line with the allocated environmental clearance (EC) limits.', 'The Honourable Supreme Court has increased the cap on production of iron ore for the state from 30 to 35 million tonnes, ', 'and accordingly increase in our allocation for Karnataka from 2.3 to 4.5 million tonnes in May 2018.']\n",
    "t = editor.template('{neg}, given {neutral}, that {it} {climate_noun} {be} {pos_adj}.', neutral=neutral, neg=['I don\\'t think', 'I can\\'t say', 'I wouldn\\'t say'], it=['this', 'that', 'the'], be=['is', 'was'], save=True)\n",
    "t += editor.template('{neg}, given {neutral}, that {it} {be} {a:pos_adj} {climate_noun}.',neutral=neutral,  neg=['I don\\'t think', 'I can\\'t say', 'I wouldn\\'t say'], it=['this', 'that', 'the'], be=['is', 'was'], save=True)\n",
    "t += editor.template('{neg}, given {neutral}, that {i} {pos_verb_present} {the} {climate_noun}.',neutral=neutral,  neg=['I don\\'t think', 'I can\\'t say', 'I wouldn\\'t say'], i=['I', 'we'], the=['this', 'that', 'the'], save=True)\n",
    "t.data = list(np.random.choice(t.data, 1000, replace=False))\n",
    "test = MFT(t.data, labels=0, templates=t.templates)\n",
    "suite.add(test, 'Hard: Negation of positive with neutral stuff in the middle (should be negative)', 'Negation', '')\n"
   ]
  },
  {
   "cell_type": "code",
   "execution_count": 49,
   "metadata": {},
   "outputs": [],
   "source": [
    "# add the test case: negation with neutral in the middle.\n",
    "# Expect to be Neutral or Oppurtunity\n",
    "neutral =['At Karnataka, we produced and sold 2.2 million tonnes during FY2018,', 'in line with the allocated environmental clearance (EC) limits.', 'The Honourable Supreme Court has increased the cap on production of iron ore for the state from 30 to 35 million tonnes, ', 'and accordingly increase in our allocation for Karnataka from 2.3 to 4.5 million tonnes in May 2018.']\n",
    "t = editor.template('{neg}, given {neutral}, that {it} {climate_noun} {be} {neg_adj}.', neutral=neutral, neg=['I don\\'t think', 'I can\\'t say', 'I wouldn\\'t say'], it=['this', 'that', 'the'], be=['is', 'was'], save=True)\n",
    "t += editor.template('{neg}, given {neutral}, that {it} {be} {a:neg_adj} {climate_noun}.',neutral=neutral,  neg=['i don\\'t think', 'i can\\'t say', 'i wouldn\\'t say'], it=['this', 'that', 'the'], be=['is', 'was'], save=True)\n",
    "t += editor.template('{neg}, given {neutral}, that {i} {neg_verb_present} {the} {climate_noun}.',neutral=neutral,  neg=['i don\\'t think', 'i can\\'t say', 'i wouldn\\'t say'], i=['I', 'we'], the=['this', 'that', 'the'], save=True)\n",
    "t.data = list(np.random.choice(t.data, 1000, replace=False))\n",
    "test = MFT(t.data, Expect.single(is_not_0), templates=t.templates)\n",
    "suite.add(test, 'Hard: Negation of negative with neutral stuff in the middle (should be positive or neutral)', 'Negation', '')\n"
   ]
  },
  {
   "cell_type": "code",
   "execution_count": 50,
   "metadata": {},
   "outputs": [],
   "source": [
    "# add the test case: negation with neutral in the middle.\n",
    "# expect to be neutral\n",
    "neutral =['At Karnataka, we produced and sold 2.2 million tonnes during FY2018,', 'in line with the allocated environmental clearance (EC) limits.', 'The Honourable Supreme Court has increased the cap on production of iron ore for the state from 30 to 35 million tonnes, ', 'and accordingly increase in our allocation for Karnataka from 2.3 to 4.5 million tonnes in May 2018.']\n",
    "t = editor.template('{neg}, given {neutral}, that {it} {climate_noun} {be} {neutral_adj}.', neutral=neutral, neg=['I don\\'t think', 'I can\\'t say', 'I wouldn\\'t say'], it=['this', 'that', 'the'], be=['is', 'was'], save=True)\n",
    "t += editor.template('{neg}, given {neutral}, that {it} {be} {a:neutral_adj} {climate_noun}.',neutral=neutral,  neg=['I don\\'t think', 'I can\\'t say', 'I wouldn\\'t say'], it=['this', 'that', 'the'], be=['is', 'was'], save=True)\n",
    "t += editor.template('{neg}, given {neutral}, that {i} {neutral_verb_present} {the} {climate_noun}.',neutral=neutral,  neg=['I don\\'t think', 'I can\\'t say', 'I wouldn\\'t say'], i=['I', 'we'], the=['this', 'that', 'the'], save=True)\n",
    "t.data = list(np.random.choice(t.data, 1000, replace=False))\n",
    "test = MFT(t.data, labels=1, templates=t.templates)\n",
    "suite.add(test, 'negation of neutral with neutral in the middle, should still neutral', 'Negation', '')\n"
   ]
  },
  {
   "cell_type": "markdown",
   "metadata": {},
   "source": [
    "\n",
    "## Capability: SRL"
   ]
  },
  {
   "cell_type": "markdown",
   "metadata": {},
   "source": [
    "my opinion is more important than others"
   ]
  },
  {
   "cell_type": "code",
   "execution_count": 51,
   "metadata": {},
   "outputs": [],
   "source": [
    "# add the test case about my opinion is important than others\n",
    "change = [' but', '']\n",
    "templates = ['Some people think weather are {neg_adj},{change} I think weather are {pos_adj}.',\n",
    "             'I think weather are {pos_adj},{change} some people think weather are {neg_adj}.',\n",
    "             'I had heard weather were {neg_adj},{change} I think weather are {pos_adj}.',\n",
    "             'I think weather are {pos_adj},{change} I had heard weather were {neg_adj}.',\n",
    "             ]\n",
    "t = editor.template(templates, change=change, unroll=True, labels=2, save=True)\n",
    "templates = ['{others} {neg_verb_present} weather,{change} I {pos_verb_present} weather.',\n",
    "             'I {pos_verb_present} weather,{change} {others} {neg_verb_present} weather.',\n",
    "            ]\n",
    "others = ['some people', 'my parents', 'my friends', 'people']\n",
    "t += editor.template(templates, others=others, change=change, unroll=True, labels=2, save=True)\n",
    "\n",
    "change = [' but', '']\n",
    "templates = ['Some people think weather are {pos_adj},{change} I think weather are {neg_adj}.',\n",
    "             'I think weather are {neg_adj},{change} some people think weather are {pos_adj}.',\n",
    "             'I had heard weather were {pos_adj},{change} I think weather are {neg_adj}.',\n",
    "             'I think weather are {neg_adj},{change} I had heard weather were {pos_adj}.',\n",
    "             ]\n",
    "t += editor.template(templates, change=change, unroll=True, labels=0, save=True)\n",
    "templates = ['{others} {pos_verb_present} weather,{change} I {neg_verb_present} weather.',\n",
    "             'I {neg_verb_present} weather,{change} {others} {pos_verb_present} weather.',\n",
    "            ]\n",
    "others = ['some people', 'my parents', 'my friends', 'people']\n",
    "t += editor.template(templates, others=others, change=change, unroll=True, labels=0, save=True)\n",
    "test = MFT(**t)\n",
    "description = '''Have conflicting statements where the author has an opinion and a third party has a contrary opinion.\n",
    "Expect sentiment to be the authors'. Example:\n",
    "\"Some people think weather are great, but I think weather are terrible\" -> should be negative\n",
    "'''\n",
    "suite.add(test, 'my opinion is what matters', 'SRL', description)\n"
   ]
  },
  {
   "cell_type": "markdown",
   "metadata": {},
   "source": [
    "q & a form: yes"
   ]
  },
  {
   "cell_type": "code",
   "execution_count": 52,
   "metadata": {},
   "outputs": [],
   "source": [
    "# add the q and a test case\n",
    "\n",
    "#label: `Oppurtunity`\n",
    "t = editor.template('Do I think {it} {climate_noun} {be} {pos_adj}? Yes', it=['that', 'this', 'the'], be=['is', 'was'], save=True, labels=2)\n",
    "t += editor.template('Do I think {it} {be} {a:pos_adj} {climate_noun}? Yes', it=['it', 'this', 'that'], be=['is', 'was'], save=True, labels=2)\n",
    "t += editor.template('Did {i} {pos_verb_present} {the} {climate_noun}? Yes', i=['I', 'we'], the=['this', 'that', 'the'], save=True, labels=2)\n",
    "\n",
    "#label: `Risk`\n",
    "t += editor.template('Do I think {it} {climate_noun} {be} {neg_adj}? Yes', it=['that', 'this', 'the'], be=['is', 'was'], save=True, labels=0)\n",
    "t += editor.template('Do I think {it} {be} {a:neg_adj} {climate_noun}? Yes', it=['it', 'this', 'that'], be=['is', 'was'], save=True, labels=0)\n",
    "t += editor.template('Did {i} {neg_verb_present} {the} {climate_noun}? Yes', i=['I', 'we'], the=['this', 'that', 'the'], save=True, labels=0)\n",
    "test = MFT(**t)\n",
    "suite.add(test, 'Q & A: yes', 'SRL', 'TODO_DESCRIPTION')\n"
   ]
  },
  {
   "cell_type": "code",
   "execution_count": 53,
   "metadata": {},
   "outputs": [],
   "source": [
    "# add more test case about qna expect to be neutral\n",
    "t = editor.template('Do I think {it} {climate_noun} {be} {neutral_adj}? Yes', it=['that', 'this', 'the'], be=['is', 'was'], save=True)\n",
    "t += editor.template('Do I think {it} {be} {a:neutral_adj} {climate_noun}? Yes', it=['it', 'this', 'that'], be=['is', 'was'], save=True)\n",
    "t += editor.template('Did {i} {neutral_verb_present} {the} {climate_noun}? Yes', i=['I', 'we'], the=['this', 'that', 'the'], save=True)\n",
    "test = MFT(t.data, labels=1, templates=t.templates)\n",
    "suite.add(test, 'Q & A: yes (neutral)', 'SRL', 'TODO_DESCRIPTION')\n"
   ]
  },
  {
   "cell_type": "code",
   "execution_count": 54,
   "metadata": {},
   "outputs": [],
   "source": [
    "# label Risk\n",
    "t = editor.template('Do I think {it} {climate_noun} {be} {pos_adj}? No', it=['that', 'this', 'the'], be=['is', 'was'], save=True, labels=0)\n",
    "t += editor.template('Do I think {it} {be} {a:pos_adj} {climate_noun}? No', it=['it', 'this', 'that'], be=['is', 'was'], save=True, labels=0)\n",
    "t += editor.template('Did {i} {pos_verb_present} {the} {climate_noun}? No', i=['I', 'we'], the=['this', 'that', 'the'], save=True, labels=0)\n",
    "\n",
    "# label to be neutral\n",
    "t += editor.template('Do I think {it} {climate_noun} {be} {neg_adj}? No', it=['that', 'this', 'the'], be=['is', 'was'], save=True, labels=1)\n",
    "t += editor.template('Do I think {it} {be} {a:neg_adj} {climate_noun}? No', it=['it', 'this', 'that'], be=['is', 'was'], save=True, labels=1)\n",
    "t += editor.template('Did {i} {neg_verb_present} {the} {climate_noun}? No', i=['I', 'we'], the=['this', 'that', 'the'], save=True, labels=1)\n",
    "\n",
    "# firstly, if label=1 (neutral),then check that is not risk. otherwise, pred label equal to label\n",
    "allow_for_neutral = lambda x, pred, _, label, _2 : pred != 0 if label == 1 else pred == label\n",
    "test = MFT(t.data, Expect.single(allow_for_neutral), labels=t.labels, templates=t.templates)\n",
    "suite.add(test, 'Q & A: no', 'SRL', 'TODO_DESCRIPTION')\n"
   ]
  },
  {
   "cell_type": "code",
   "execution_count": 55,
   "metadata": {},
   "outputs": [],
   "source": [
    "# test case that have `no` answer. \n",
    "t = editor.template('Do I think {it} {climate_noun} {be} {neutral_adj}? No', it=['that', 'this', 'the'], be=['is', 'was'], save=True)\n",
    "t += editor.template('Do I think {it} {be} {a:neutral_adj} {climate_noun}? No', it=['it', 'this', 'that'], be=['is', 'was'], save=True)\n",
    "t += editor.template('Did {i} {neutral_verb_present} {the} {climate_noun}? No', i=['I', 'we'], the=['this', 'that', 'the'], save=True)\n",
    "\n",
    "# expect to be neutral\n",
    "test = MFT(t.data, labels=1, templates=t.templates)\n",
    "suite.add(test, 'Q & A: no (neutral)', 'SRL', 'TODO_DESCRIPTION')\n"
   ]
  },
  {
   "cell_type": "code",
   "execution_count": 57,
   "metadata": {},
   "outputs": [],
   "source": [
    "# update parameter name\n",
    "for test in suite.tests:\n",
    "    suite.tests[test].name = test\n",
    "    suite.tests[test].description = suite.info[test]['description]']\n",
    "    suite.tests[test].capability = suite.info[test]['capability']"
   ]
  },
  {
   "cell_type": "code",
   "execution_count": 58,
   "metadata": {},
   "outputs": [],
   "source": [
    "path = 'sentiment_dt2.pkl' # define path name to save file\n",
    "suite.save(path) # save suite (test case) to the path"
   ]
  }
 ],
 "metadata": {
  "kernelspec": {
   "display_name": "Python 3 (ipykernel)",
   "language": "python",
   "name": "python3"
  },
  "language_info": {
   "codemirror_mode": {
    "name": "ipython",
    "version": 3
   },
   "file_extension": ".py",
   "mimetype": "text/x-python",
   "name": "python",
   "nbconvert_exporter": "python",
   "pygments_lexer": "ipython3",
   "version": "3.11.7"
  }
 },
 "nbformat": 4,
 "nbformat_minor": 2
}
