{
 "cells": [
  {
   "cell_type": "markdown",
   "metadata": {},
   "source": [
    "# QQP\n",
    "This notebook is used to prepare the Quora Question Pairs (QQP) test.  After processing the test suite, it will save to the `qqp_suite.pkl` file which will be used to run the test case in `test-qqp-bert` and `test-qqp-roberta`. The Quora question pair notebook usually tests the 2 questions to check that both of them are equal or not, author provides different tests, such as a test on vocab of 2 questions, which have the same generate the text question pair with the place holder `first_name` `last_name` `adj` `noun` and the result label expected should be non-duplicate if its results label as 1 it will be the fail test case. The capabilities that were tested on this NLP task are capability, taxonomy, ner (name entity recognition), temporal, negation, core, SRL (Semantic Role Labeling), and logic. Except the fairness.\n",
    "\n"
   ]
  },
  {
   "cell_type": "markdown",
   "metadata": {},
   "source": [
    "Note:\n",
    "- MFT(Minimum Functionality Test): focuses on evaluating whether a model has the basic functionality \n",
    "- DIR(Directional Expectation test). determine whether a model’s predictions are consistent with a prior expectation or hypothesis \n",
    "- INV (Invariance testing) is a type of testing in ML that checks whether a model is invariant to certain transformations or changes in the input data. \n",
    "\n",
    "\n",
    "\n",
    "ref:\n",
    "- https://www.godeltech.com/how-to-automate-the-testing-process-for-machine-learning-systems/\n",
    "\n",
    "To test each test case fail or not, depends on the `Label` that provide in line like this\n",
    "```test = MFT(**t, labels=0, name=name, capability = 'Vocabulary',description=desc)```\n",
    "ps. it can be changed depends on the type(MFT, DIR, or INV) that select to test \n",
    "\n",
    "For the QQP\n",
    "- 1 means duplicate\n",
    "- 0 means not duplicate"
   ]
  },
  {
   "cell_type": "markdown",
   "metadata": {},
   "source": [
    "## Installation"
   ]
  },
  {
   "cell_type": "code",
   "execution_count": null,
   "metadata": {},
   "outputs": [],
   "source": [
    "!pip install  re\n",
    "!pip install itertools\n",
    "!pip install checklist"
   ]
  },
  {
   "cell_type": "code",
   "execution_count": 1,
   "metadata": {},
   "outputs": [],
   "source": [
    "%load_ext autoreload\n",
    "%autoreload 2\n",
    "\n",
    "import checklist\n",
    "import spacy\n",
    "import itertools\n",
    "\n",
    "import checklist.editor\n",
    "import checklist.text_generation\n",
    "from checklist.test_types import MFT, INV, DIR\n",
    "from checklist.expect import Expect\n",
    "from checklist.test_suite import TestSuite\n",
    "import numpy as np\n",
    "import spacy\n",
    "from checklist.perturb import Perturb"
   ]
  },
  {
   "cell_type": "code",
   "execution_count": 2,
   "metadata": {},
   "outputs": [
    {
     "data": {
      "application/vnd.jupyter.widget-view+json": {
       "model_id": "d8a1df763fd442a69a491b070ced424c",
       "version_major": 2,
       "version_minor": 0
      },
      "text/plain": [
       "model.safetensors:   0%|          | 0.00/499M [00:00<?, ?B/s]"
      ]
     },
     "metadata": {},
     "output_type": "display_data"
    },
    {
     "name": "stderr",
     "output_type": "stream",
     "text": [
      "c:\\Users\\chomm\\anaconda3\\Lib\\site-packages\\huggingface_hub\\file_download.py:157: UserWarning: `huggingface_hub` cache-system uses symlinks by default to efficiently store duplicated files but your machine does not support them in C:\\Users\\chomm\\.cache\\huggingface\\hub\\models--roberta-base. Caching files will still work but in a degraded version that might require more space on your disk. This warning can be disabled by setting the `HF_HUB_DISABLE_SYMLINKS_WARNING` environment variable. For more details, see https://huggingface.co/docs/huggingface_hub/how-to-cache#limitations.\n",
      "To support symlinks on Windows, you either need to activate Developer Mode or to run Python as an administrator. In order to see activate developer mode, see this article: https://docs.microsoft.com/en-us/windows/apps/get-started/enable-your-device-for-development\n",
      "  warnings.warn(message)\n"
     ]
    },
    {
     "data": {
      "text/plain": [
       "<checklist.text_generation.TextGenerator at 0x1ce4be9c1d0>"
      ]
     },
     "execution_count": 2,
     "metadata": {},
     "output_type": "execute_result"
    }
   ],
   "source": [
    "editor = checklist.editor.Editor()  # creates an instance of the Editor class \n",
    "editor.tg # generate the new text data of the Checklist library fro the testing model"
   ]
  },
  {
   "cell_type": "code",
   "execution_count": 4,
   "metadata": {},
   "outputs": [],
   "source": [
    "# This is the model from Spacy library used for the NLP task below in the parsed_question. \n",
    "# Explain more below\n",
    "nlp = spacy.load('en_core_web_sm')"
   ]
  },
  {
   "cell_type": "code",
   "execution_count": 5,
   "metadata": {},
   "outputs": [],
   "source": [
    "# initialize the variable of the array that wish to be store the data from the dev.tsv\n",
    "qs = []\n",
    "labels = []\n",
    "all_questions = set()\n",
    "\n",
    "# add the content including q1 and q2 into `all_question` `qs` array\n",
    "for x in open('dev.tsv').readlines()[1:]:\n",
    "    try:\n",
    "        q1, q2, label = x.strip().split('\\t')[3:]\n",
    "    except:\n",
    "        print(x)\n",
    "        continue\n",
    "    all_questions.add(q1)\n",
    "    all_questions.add(q2)\n",
    "    qs.append((q1, q2))\n",
    "    labels.append(label)\n",
    "labels = np.array(labels).astype(int)"
   ]
  },
  {
   "cell_type": "markdown",
   "metadata": {},
   "source": [
    "This section especially on the first line is to convert the array in to the list. Then, processing each question into the pipeline SpaCy's doc stored in the `parsed_questions` variable. Lastly, in the spacy_map is used for creating the dictionary between `all_questions` (original) and `parsed_questions`(processed question) to map the key value question. Mapping for the task that needs to used for the task below.\n",
    "\n",
    "The different between `all_questions` and `parsed_questions` is that \n",
    "- `all_questions` contains the raw file\n",
    "- `parsed_questions` is the processed question using Spacy\n",
    "\n",
    "The parsed_qs variable contains a collection of tuples. Each tuple includes documents processed by spaCy for pairs of questions found in the qs variable. This enables additional processing or analysis utilizing the spaCy representations of the questions. \n",
    "\n",
    "This parsed_qs is used to add the INV test (Invariance). To test that if add the outside, the test case quality will not decrease."
   ]
  },
  {
   "cell_type": "code",
   "execution_count": 6,
   "metadata": {},
   "outputs": [],
   "source": [
    "all_questions = list(all_questions)                \n",
    "parsed_questions = list(nlp.pipe(all_questions))    \n",
    "spacy_map = dict([(x, y) for x, y in zip(all_questions, parsed_questions)])"
   ]
  },
  {
   "cell_type": "code",
   "execution_count": 7,
   "metadata": {},
   "outputs": [],
   "source": [
    "parsed_qs = [(spacy_map[q[0]], spacy_map[q[1]]) for q in qs]"
   ]
  },
  {
   "cell_type": "code",
   "execution_count": 8,
   "metadata": {},
   "outputs": [],
   "source": [
    "# Test suite is container for the unit test. used for the test case.\n",
    "suite = TestSuite()"
   ]
  },
  {
   "cell_type": "markdown",
   "metadata": {},
   "source": [
    "## Vocabulary\n",
    "Add vocabulary to the test suite (test case) such as profession(career)."
   ]
  },
  {
   "cell_type": "markdown",
   "metadata": {},
   "source": [
    "use `editor.suggest(...)` enerate suggestions based on the input string (first_name and profession which on a:mask).\n",
    "- {first_name} represents the suggestion name where a person's first name should be inserted.\n",
    "- {a:mask} represents a job title. `:mask` indicate a special words that provide the suggestion data for this holder.\n",
    "\n",
    "\n",
    "[:30] specifies that only the first 30 items from that list are provided."
   ]
  },
  {
   "cell_type": "code",
   "execution_count": 9,
   "metadata": {},
   "outputs": [
    {
     "name": "stderr",
     "output_type": "stream",
     "text": [
      "C:\\Users\\chomm\\OneDrive - Mahidol University\\behave-NLP\\checklist\\checklist\\text_generation.py:171: UserWarning: Creating a tensor from a list of numpy.ndarrays is extremely slow. Please consider converting the list to a single numpy.ndarray with numpy.array() before converting to a tensor. (Triggered internally at ..\\torch\\csrc\\utils\\tensor_new.cpp:277.)\n",
      "  to_pred = torch.tensor(to_pred, device=self.device).to(torch.int64)\n"
     ]
    },
    {
     "name": "stdout",
     "output_type": "stream",
     "text": [
      "journalist, secretary, nurse, waitress, historian, accountant, engineer, model, attorney, editor, artist, architect, teacher, photographer, interpreter, analyst, escort, actor, assistant, actress, economist, intern, administrator, agent, DJ, organizer, investigator, auditor, author, investor\n"
     ]
    }
   ],
   "source": [
    "professions = editor.suggest('{first_name} works as {a:mask}.')[:30]\n",
    "print(', '.join(professions))"
   ]
  },
  {
   "cell_type": "markdown",
   "metadata": {},
   "source": [
    "\n",
    "`editor.suggest('{first_name} {last_name} works as {a:mask}.')` is similar to the first, but this template also includes {last_name}. The suggestion generates both the first_name and last_name along with the profession. When adding the `last_name ` can createmore specific suggestion compared to the profession that contain only the `first_name`. Append this to the second list stored in prefessions. This is better that combbine into 1 list because it may cause the duplicate value.\n"
   ]
  },
  {
   "cell_type": "code",
   "execution_count": 10,
   "metadata": {},
   "outputs": [
    {
     "name": "stdout",
     "output_type": "stream",
     "text": [
      "['educator', 'photographer', 'nurse', 'escort', 'artist', 'actor', 'economist', 'entrepreneur', 'historian', 'author', 'DJ', 'producer', 'assistant', 'editor', 'attorney', 'investor', 'intern', 'waitress', 'architect', 'activist', 'teacher', 'accountant', 'analyst', 'actress', 'organizer', 'administrator', 'agent', 'reporter', 'engineer', 'journalist', 'interpreter', 'investigator', 'executive', 'secretary', 'model']\n"
     ]
    }
   ],
   "source": [
    "professions = editor.suggest('{first_name} works as {a:mask}.')[:30]\n",
    "professions += editor.suggest('{first_name} {last_name} works as {a:mask}.')[:30]\n",
    "professions = list(set(professions)) # use set to remove duplicate the element, them convert back into list\n",
    "print(professions)"
   ]
  },
  {
   "cell_type": "code",
   "execution_count": 10,
   "metadata": {},
   "outputs": [
    {
     "name": "stdout",
     "output_type": "stream",
     "text": [
      "writer, example, guy, player, read, actor, friend, person, pick, teacher, character, one, choice, kid, poet, artist, name, candidate, fighter, student, singer, judge, shot, comedian, reader, listener, book, story, reporter, bet\n"
     ]
    }
   ],
   "source": [
    "print(', '.join(editor.suggest('{first_name} {last_name} is a good {mask}.')[:30]))"
   ]
  },
  {
   "cell_type": "code",
   "execution_count": 11,
   "metadata": {},
   "outputs": [
    {
     "name": "stdout",
     "output_type": "stream",
     "text": [
      "['intern', 'entrepreneur', 'musician', 'economist', 'editor', 'agent', 'educator', 'player', 'waitress', 'executive', 'actress', 'nurse', 'investor', 'producer', 'candidate', 'DJ', 'investigator', 'organizer', 'secretary', 'administrator', 'friend', 'analyst', 'attorney', 'escort', 'interpreter', 'kid', 'accountant', 'model', 'photographer', 'author', 'reporter', 'architect', 'artist', 'actor', 'historian', 'person', 'assistant', 'engineer', 'activist', 'writer', 'journalist']\n"
     ]
    }
   ],
   "source": [
    "other_nouns = ['player', 'person', 'friend', 'kid', 'candidate'] # add the various noun\n",
    "nouns = list(set(professions + other_nouns)) # append other nouns and profession into nouns variable\n",
    "print(nouns)"
   ]
  },
  {
   "cell_type": "code",
   "execution_count": 12,
   "metadata": {},
   "outputs": [
    {
     "name": "stdout",
     "output_type": "stream",
     "text": [
      "effective, good, important, American, excellent, actual, active, ethical, average, experienced, outstanding, independent, honest, accomplished, elite, bad, established, Australian, interested, influential, ordinary, international, better, unusual, real, outside, great, aggressive, efficient, interesting, new, ideal, underrated, decent, NBA, top, OK, attractive, incompetent, intelligent, evil, exceptional, unethical, amazing, Irish, innovative, equal, successful, impressive, art\n"
     ]
    }
   ],
   "source": [
    "print(', '.join(editor.suggest('Is {first_name} {last_name} {a:mask} {noun}?', noun=nouns)[:50])) "
   ]
  },
  {
   "cell_type": "code",
   "execution_count": 13,
   "metadata": {},
   "outputs": [],
   "source": [
    "adjs = ['effective', 'actual', 'American', 'active', 'honest', 'excellent', 'elite', 'acomplished', 'official', 'outstanding', 'experienced', 'independent', 'international', 'aspiring', 'average', 'good', 'amazing', 'exceptional', 'successful', 'accredited', 'English', 'real', 'bad', 'terrible', 'fake', 'unusual', 'influential', 'incompetent']"
   ]
  },
  {
   "cell_type": "markdown",
   "metadata": {},
   "source": [
    "Add suite test"
   ]
  },
  {
   "cell_type": "code",
   "execution_count": 15,
   "metadata": {},
   "outputs": [],
   "source": [
    "#generate the text question pair with the place holder `first_name` `last_name` `adj` `noun`\n",
    "#the structure removed the duplication and generated 1000 samples.\n",
    "\n",
    "t = editor.template(('Is {first_name} {last_name} {a:noun}?', 'Is {first_name} {last_name} {a:adj} {noun}?'),\n",
    "                noun=nouns,\n",
    "                adj=adjs,\n",
    "                remove_duplicates=True, \n",
    "                nsamples=1000)\n",
    "\n",
    "# Define a test (MFT test) focus on basic functionality\n",
    "test = MFT(**t, labels=0, name='Modifier: adj', capability='Vocabulary', \n",
    "          description = 'Adding an adjective makes questions non-duplicates')\n",
    "\n",
    "#Add test suite\n",
    "suite.add(test)"
   ]
  },
  {
   "cell_type": "markdown",
   "metadata": {},
   "source": [
    "Is person {a1, a2}?"
   ]
  },
  {
   "cell_type": "code",
   "execution_count": 16,
   "metadata": {},
   "outputs": [
    {
     "name": "stdout",
     "output_type": "stream",
     "text": [
      "dead, gay, right, Dead, alive, back, crazy, mad, wrong, real, insane, OK, Jewish, Right, dying, lying, evil, straight, interested, gone, okay, Back, sane, ready, happy, angry, Alone, racist, sick, cheating, bisexual, correct, Wrong, next, resurrected, alone, doomed, shot, pregnant, innocent, finished, DEAD, guilty, cursed, assassinated, returning, safe, ok, joking, related, murdered, immortal, relevant, listening, God, serious, Missing, sincere, missing, alright, fired, free, homosexual, President, King, killed, Crazy, involved, toast, out, Real, famous, here, dreaming, Black, corrupt, coming, delusional, Evil, Mad, special, playing, Muslim, responsible, White, drunk, kidding, suicidal, haunted, retiring, smiling, legit, Satan, done, dangerous, reborn, awake, Batman, forgiven, depressed, radioactive, cool, Coming, single, changed, different, psychic, jealous, human, doping\n",
      "\n",
      "racist, atheist, asshole, idiot, actor, ape, inspiration, outlaw, American, orphan, Christian, anomaly, artist, anarchist, Avenger, icon, homosexual, Alien, influence, alcoholic, android, alien, idol, angel, extremist, ancestor, author, Arab, Assassin, intellectual, Immortal, inventor, assassin, immortal, archetype, Icon, Indian, abuser, Armenian, activist, African, embarrassment, imperialist, adult, murderer, animal, expert, immigrant, Nazi, rapist\n"
     ]
    }
   ],
   "source": [
    "print(', '.join(editor.suggest('Is John Wayne {mask}?'))) #generates suggestions without restriction\n",
    "print()\n",
    "print(', '.join(editor.suggest('Is John Wayne {a:mask}?')[:50])) #generates suggestion a: mask to the word. it is more specific"
   ]
  },
  {
   "cell_type": "code",
   "execution_count": 17,
   "metadata": {},
   "outputs": [],
   "source": [
    "# define adj to protect the overlap\n",
    "adjs_without_overlap = ['dead', 'gay', 'Jewish', 'Christian', 'American', 'mad', 'immortal', 'evil', 'famous', 'racist', 'Muslim', 'white', 'black', 'English', 'autistic', 'Australian', 'trustworthy', 'an atheist', 'an anarchist', 'an inventor', 'Indian', 'Armenian', 'an astronaut', 'an immigrant']"
   ]
  },
  {
   "cell_type": "code",
   "execution_count": 18,
   "metadata": {},
   "outputs": [],
   "source": [
    "# Add the test with different adjective\n",
    "t = editor.template((\n",
    "    'Is {first_name} {last_name} {adj1}?',\n",
    "    'Is {first_name} {last_name} {adj2}?',\n",
    "    ),\n",
    "    adj=adjs_without_overlap,\n",
    "    remove_duplicates=True, \n",
    "    nsamples=1000)\n",
    "test = MFT(**t, labels=0, name='different adjectives', capability = 'Vocabulary',\n",
    "          description='Same first and last name, different adjectives')\n",
    "suite.add(test)"
   ]
  },
  {
   "cell_type": "markdown",
   "metadata": {},
   "source": [
    "different animals (add the animal words to the test)"
   ]
  },
  {
   "cell_type": "code",
   "execution_count": 19,
   "metadata": {},
   "outputs": [
    {
     "name": "stdout",
     "output_type": "stream",
     "text": [
      "cat, rabbit, turtle, dog, spider, rat, now, goat, lizard, squirrel, too, monkey, dragon, pig, owl, tiger, girl, wolf, name, bird, named, bear, snake, duck, friend, lab, python, Shepherd, also, deer, here, boy, …, problem, fish, there, Labrador, elephant, carrier, zoo, mix, called, Shiva, dinosaur, bunny, companion, kitten, farm, cow, lobster, shark, ring, mouse, bug, snail, Persian, owner, killer, project, animal, puppy, chicken, monitor, horse, tree, myself, dish, lover, shop, boxer, seal, gorilla, phone, syndrome, watch, one, fetish, bull, carriage, toy, gun, frog, Einstein, boyfriend, beetle, show, doll, once, sometimes, car, store, brother, piano, today, already, mom, computer, somewhere, door, lion, fan, goose, mosquito, ghost, robot, fox, girlfriend, bass, family, bully\n"
     ]
    }
   ],
   "source": [
    "print(', '.join(editor.suggest('I have a pet {mask}.')))"
   ]
  },
  {
   "cell_type": "code",
   "execution_count": 20,
   "metadata": {},
   "outputs": [],
   "source": [
    "animals = ['cat', 'dog', 'rabbit', 'turtle', 'spider', 'rat', 'goat', 'lizard', 'pig', 'monkey', 'squirrel', 'owl', 'snake', 'fish', 'lobster', 'snail', 'chicken']"
   ]
  },
  {
   "cell_type": "code",
   "execution_count": 21,
   "metadata": {},
   "outputs": [
    {
     "name": "stdout",
     "output_type": "stream",
     "text": [
      "again, food, now, today, eggs, pellets, water, tonight, properly, worms, too, here, dinner, outside, poop, meat, something, back, this, fish, instead, rice, more, steak, directly, live, anything, treats, milk, formula, alive, blood, that, rabbit, nuts, grass, regularly, inside, breakfast, soup, feed, honey, myself, there, correctly, better, some, anymore, enough, bugs, once, poison, larvae, lunch, urine, free, chocolate, home, well, tomorrow, cheese, right, scraps, sugar, salad, juice, yet, greens, shit, yesterday, indoors, online, money, bones, carrots, oil, cookies, peanuts, chicken, liver, cat, candy, seeds, anyway, corn, raw, antibiotics, bird, seed, protein, alone, …, crow, Rice, NOW, toys, babies, yogurt, cereal, tail, feces, Milo, spinach, grain, bacon, cats, hay, bamboo, mix, one, butter, twice, egg, biscuits, pancakes, meal, balls, safely, it, mate, crap, friend, naturally, another, privately, stuff, tails, fly, bananas, tuna, bread, chicks, salmon, saliva, birds, friends, tea, fruit, insulin, snakes, sushi, fries, wings, beans, broccoli, shrimp, pudding, Jack, chips, OK, spaghetti, fat, salt, snake, separately, baby, vegetables, beef, tacos, frogs, organic, traps, love, DNA, box, life, ears, wild, habit, overnight, feathers, sample, ear, shells, shell, snail, chickens, Milk, owl, breasts, mail, kittens, breast, rats, banana, venom, kale, chick, kidney, plants, waste, fingers, paste, yourself, Luna, cake, bites, tomatoes, ok, vitamins, slime, Max, stew, please, first, Cinnamon, bills, trout, trap, bill, healthy, gluten, bait, grapes, GMOs, though, rabbits, pack, lol, python, iron, pork, kidneys, ducks, bug, somehow, grains, rat, legally, son, lab, lettuce, toy, okay, soap, jelly, feet, ass, scratch, dry, feather, locally, weed, illegally, away, pigs, extra, comfortably, less, stock, someday, belly, leaves, cage, green, house, crabs, weight, capsules, pod, teeth, black, soy, pie, also, white, off, snack, turkey, flour, mouth, GMO, dog, samples, pet, what, alcohol, normally, hair, litter, problem, family, snacks, buddy, genes, diet, plant, prints, cutter, butt, boy, mother, mole, allergies, fur\n"
     ]
    }
   ],
   "source": [
    "print(', '.join(editor.suggest('Can I feed my {an} {mask}?', an=animals)))"
   ]
  },
  {
   "cell_type": "code",
   "execution_count": 22,
   "metadata": {},
   "outputs": [],
   "source": [
    "# define animal's food words\n",
    "food = ['eggs', 'water',  'worms', 'meat', 'poop', 'milk', 'rice', 'nuts', 'steak', 'formula',  'soup', 'bugs', 'oil', 'chocolate', 'corn', 'cereal', 'sugar', 'seeds', 'liver', 'cookies', 'carrots', 'yogurt', 'salad', 'greens', 'rice', 'bananas', 'tuna', 'apples', 'salmon', 'butter', 'insulin', 'soy']"
   ]
  },
  {
   "cell_type": "code",
   "execution_count": 23,
   "metadata": {},
   "outputs": [],
   "source": [
    "# add the animal testing word. Ask the question about the pet animals\n",
    "\n",
    "t = editor.template((\n",
    "    'Can I feed my {animal1} {food}?',\n",
    "    'Can I feed my {animal2} {food}?',\n",
    "    ),\n",
    "    animal=animals,\n",
    "    food=food,\n",
    "    remove_duplicates=True, \n",
    "    nsamples=1000)\n",
    "name = 'Different animals' \n",
    "desc = 'Ask the same question about two different pet animals, expect prediction to be 0'\n",
    "test = MFT(**t, labels=0, name=name, capability = 'Vocabulary',\n",
    "          description=desc)\n",
    "suite.add(test)"
   ]
  },
  {
   "cell_type": "markdown",
   "metadata": {},
   "source": [
    "Modifiers that don't matter"
   ]
  },
  {
   "cell_type": "code",
   "execution_count": 24,
   "metadata": {},
   "outputs": [],
   "source": [
    "# the contect of this test case meant that add the irrelevant adverb such as really, truely, actually, and others. \n",
    "# And then it has been added the place into the words.\n",
    "\n",
    "action = editor.suggest('Is that {animal} really {mask} on the couch?', animal=animals)[:30]\n",
    "\n",
    "editor.suggest('Is that {animal} {mask} {action} on the couch?', animal=animals, action=action)\n",
    "non_changing_modifier = ['really', 'truly', 'actually', 'indeed', 'in fact', 'currently', 'literally', 'somehow']\n",
    "t = editor.template((\n",
    "    'Is that {animal} {action} on the {place}?',\n",
    "    'Is that {animal} {mod2} {action} on the {place}?',\n",
    "    ),\n",
    "    action=action,\n",
    "    animal=animals,\n",
    "    mod=non_changing_modifier,\n",
    "    place =['couch','bed', 'sofa', 'table'],\n",
    "    remove_duplicates=False, \n",
    "    nsamples=1000)\n",
    "name = 'Irrelevant modifiers - animals' \n",
    "desc = 'Add modifiers that preserve question semantics (e.g. \\'really\\')'\n",
    "test = MFT(**t, labels=1, name=name, capability = 'Vocabulary',\n",
    "          description=desc)\n",
    "suite.add(test)"
   ]
  },
  {
   "cell_type": "code",
   "execution_count": 25,
   "metadata": {},
   "outputs": [],
   "source": [
    "# add the people words modifies. It changes some of the context of the sentence questions.\n",
    "# The meaning is about the action of someone to another with some adverb from above section.\n",
    "\n",
    "action = editor.suggest('Is {first_name1} {mask} to {first_name2}?')[:30]\n",
    "editor.suggest('Is {first_name1} {mask} {a} to {first_name2}?', a=action)\n",
    "non_changing_modifier = ['really', 'truly', 'actually', 'indeed', 'in fact']\n",
    "t = editor.template((\n",
    "    'Is {first_name1} {action} to {first_name2}?',\n",
    "    'Is {first_name1} {mod2} {action} to {first_name2}?',\n",
    "    ),\n",
    "    action=action,\n",
    "    mod=non_changing_modifier,\n",
    "    remove_duplicates=True, \n",
    "    nsamples=1000)\n",
    "name = 'Irrelevant modifiers - people' \n",
    "desc = 'Add modifiers that preserve question semantics (e.g. \\'really\\')'\n",
    "test = MFT(**t, labels=1, name=name, capability = 'Vocabulary',\n",
    "          description=desc)\n",
    "suite.add(test)"
   ]
  },
  {
   "cell_type": "code",
   "execution_count": 26,
   "metadata": {},
   "outputs": [],
   "source": [
    "# the context of this test case is asking about the animals in general context. \n",
    "# This test case expect to be same. Like `My pet {animal1} eats {food}` and `Is it normal for animals to eat {food}?`\n",
    "t = editor.template((\n",
    "    'My pet {animal1} eats {food}. Is it normal for animals to eat {food}?',\n",
    "    'My pet {animal2} eats {food}. Is it normal for animals to eat {food}?',\n",
    "    ),\n",
    "    animal=animals,\n",
    "    food=food,\n",
    "    remove_duplicates=True, \n",
    "    nsamples=1000)\n",
    "name = 'Irrelevant preamble with different examples.' \n",
    "desc = 'Ask questions about animals in general, but with different examples in the preamble. Expect duplicate.'\n",
    "test = MFT(**t, labels=1, name=name, capability = 'Vocabulary',\n",
    "          description=desc)\n",
    "# test.run(new_pp)\n",
    "# test.summary(n=3)\n",
    "suite.add(test)"
   ]
  },
  {
   "cell_type": "code",
   "execution_count": 31,
   "metadata": {},
   "outputs": [],
   "source": [
    "# Add noun\n",
    "nouns = ['finger', 'forearm', 'feet', 'head', 'foot', 'elbow', 'nose', 'back', 'heart', 'shoulder', 'skull', 'toe', 'hip', 'neck', 'body', 'thumb', 'rib', 'knee', 'jaw', 'heel', 'thigh', 'ankle', 'arm', 'wrist', 'eye', 'spine', 'leg', 'butt', 'teeth', 'skin', 'bone', 'hand', 'face']"
   ]
  },
  {
   "cell_type": "code",
   "execution_count": 32,
   "metadata": {},
   "outputs": [],
   "source": [
    "# This test case is about the question different injuries from playing sports\n",
    "# here the example of test case that happen: I hurt my bone last time I played football. Should I never play again?\n",
    "# This expect the test result(folllow up words) will not duplicate\n",
    "t = editor.template((\n",
    "    'I hurt my {n} last time I played {sport}. {followup}',\n",
    "    'I hurt my {n2} last time I played {sport}. {followup}',\n",
    "    ),\n",
    "    n=nouns,\n",
    "    sport=['tennis', 'golf', 'soccer', 'football'],\n",
    "    followup=['Is this going to impact my performance?',\n",
    "              'Should I never play again?',\n",
    "              'Is this a common injury?',\n",
    "             'Is it normal to hurt this part of the body?',],\n",
    "    remove_duplicates=True, \n",
    "    nsamples=1000)\n",
    "name = 'Preamble is relevant (different injuries)' \n",
    "desc = 'Question preamble mentions different injuries, which makes the questions themselves non-duplicates.'\n",
    "test = MFT(**t, labels=0, name=name, capability = 'Vocabulary',\n",
    "          description=desc)\n",
    "suite.add(test)"
   ]
  },
  {
   "cell_type": "markdown",
   "metadata": {},
   "source": [
    "### Taxonomy"
   ]
  },
  {
   "cell_type": "markdown",
   "metadata": {},
   "source": [
    "Synonyms"
   ]
  },
  {
   "cell_type": "code",
   "execution_count": 33,
   "metadata": {},
   "outputs": [
    {
     "name": "stdout",
     "output_type": "stream",
     "text": [
      "('organised', 'organized', 'direct', 'engineer'),\n",
      "('resilient', 'live'),\n",
      "('radical', 'revolutionary'),\n",
      "('knowledgeable', 'learned', 'intimate'),\n",
      "('critical', 'decisive', 'vital'),\n",
      "('mindful', 'aware'),\n",
      "('evil', 'vicious'),\n",
      "('nervous', 'anxious'),\n",
      "('aware', 'mindful'),\n",
      "('confident', 'positive'),\n",
      "('clear', 'open', 'clean', 'light', 'clearly'),\n",
      "('capable', 'able', 'open'),\n",
      "('bad', 'sorry', 'tough', 'risky', 'spoiled', 'defective'),\n",
      "('anxious', 'nervous'),\n",
      "('difficult', 'hard'),\n",
      "('ambitious', 'challenging'),\n",
      "('strict', 'rigid', 'stern'),\n",
      "('understanding', 'savvy'),\n",
      "('thankful', 'grateful'),\n",
      "('suspicious', 'wary', 'suspect'),\n",
      "('organized', 'organised', 'direct'),\n",
      "('important', 'significant', 'authoritative'),\n",
      "('alone', 'solitary', 'lonely'),\n",
      "('tolerant', 'resistant', 'liberal', 'kind'),\n",
      "('upset', 'worried', 'broken', 'confused', 'distressed', 'disturbed'),\n",
      "('disconnected', 'confused', 'fragmented'),\n",
      "('lonely', 'alone', 'solitary'),\n",
      "('kind', 'tolerant'),\n",
      "('miserable', 'poor', 'suffering', 'low', 'pathetic', 'wretched'),\n",
      "('effective', 'efficient', 'good'),\n",
      "('vain', 'futile'),\n",
      "('consistent', 'uniform', 'logical', 'coherent'),\n",
      "('emotional', 'excited'),\n",
      "('positive', 'confident'),\n",
      "('disruptive', 'troubled'),\n",
      "('innovative', 'modern', 'advanced'),\n",
      "('grateful', 'thankful'),\n",
      "('addicted', 'addict'),\n",
      "('honest', 'reliable', 'good', 'fair', 'true', 'honorable'),\n",
      "('competitive', 'militant'),\n",
      "('activist', 'militant'),\n",
      "('worried', 'upset'),\n",
      "('enlightened', 'educated', 'clear'),\n",
      "('authentic', 'reliable'),\n",
      "('independent', 'autonomous'),\n",
      "('frustrated', 'queer'),\n",
      "('dependent', 'qualified'),\n",
      "('desperate', 'heroic'),\n",
      "('humble', 'modest', 'small'),\n",
      "('hateful', 'mean'),\n",
      "('rude', 'primitive', 'crude'),\n",
      "('needy', 'impoverished'),\n",
      "('open', 'capable', 'clear', 'candid', 'receptive'),\n",
      "('unhappy', 'distressed'),\n",
      "('insecure', 'unsafe'),\n",
      "('specific', 'particular'),\n",
      "('intimidating', 'daunting'),\n",
      "('inspired', 'divine'),\n",
      "('alienated', 'alien', 'estranged'),\n",
      "('depressed', 'blue'),\n",
      "('cautious', 'conservative', 'timid'),\n",
      "('active', 'alive', 'dynamic'),\n",
      "('corrupt', 'corrupted'),\n",
      "('fit', 'set'),\n",
      "('smart', 'wise', 'chic', 'bright'),\n",
      "('me', 'ME'),\n",
      "('militant', 'competitive', 'activist'),\n",
      "('stressed', 'stress'),\n",
      "('ethical', 'honorable'),\n",
      "('religious', 'spiritual'),\n",
      "('authoritarian', 'dictator'),\n",
      "('fat', 'productive', 'rich', 'fatty'),\n",
      "('vocal', 'outspoken'),\n",
      "('intelligent', 'healthy', 'thinking', 'sound'),\n",
      "('passive', 'inactive', 'peaceful'),\n",
      "('rigid', 'strict', 'fixed', 'stiff'),\n",
      "('charitable', 'sympathetic', 'benevolent'),\n",
      "('shy', 'timid', 'unsure'),\n",
      "('conservative', 'cautious'),\n",
      "('individual', 'single', 'private', 'person', 'someone'),\n",
      "('sensitive', 'sensible'),\n",
      "('educated', 'enlightened'),\n",
      "('committed', 'attached'),\n",
      "('demanding', 'exact'),\n",
      "('healthy', 'intelligent', 'sound'),\n",
      "('thoughtful', 'attentive'),\n",
      "('scared', 'frightened'),\n",
      "('spiritual', 'religious'),\n",
      "('progressive', 'liberal', 'imperfect'),\n",
      "('hopeful', 'promising'),\n",
      "('efficient', 'effective'),\n",
      "('mean', 'hateful', 'average'),\n",
      "('hungry', 'thirsty'),\n",
      "('courageous', 'brave'),\n",
      "('so', 'then'),\n",
      "('fearful', 'terrible', 'awful', 'cowardly')\n"
     ]
    }
   ],
   "source": [
    "tmp = [] #initialize the store results\n",
    "\n",
    "x = editor.suggest('How can I become more {mask}?') # first list\n",
    "x += editor.suggest('How can I become less {mask}?') #second list\n",
    "for a in set(x):\n",
    "    e = editor.synonyms('How can I become {moreless} %s?' % a, a, moreless=['more', 'less']) # can dynamically use more or less word\n",
    "    if e:\n",
    "        tmp.append([a] + e) # append the results\n",
    "print(',\\n'.join([str(tuple(x)) for x in tmp]))"
   ]
  },
  {
   "cell_type": "code",
   "execution_count": 34,
   "metadata": {},
   "outputs": [],
   "source": [
    "# Initialize the synnonyms\n",
    "synonyms = [ ('spiritual', 'religious'), ('angry', 'furious'), ('organized', 'organised'),\n",
    "            ('vocal', 'outspoken'), ('grateful', 'thankful'), ('intelligent', 'smart'),\n",
    "            ('humble', 'modest'), ('courageous', 'brave'), ('happy', 'joyful'), ('scared', 'frightened'),\n",
    "           ]"
   ]
  },
  {
   "cell_type": "markdown",
   "metadata": {},
   "source": [
    "Antonyms"
   ]
  },
  {
   "cell_type": "code",
   "execution_count": 35,
   "metadata": {},
   "outputs": [
    {
     "name": "stdout",
     "output_type": "stream",
     "text": [
      "('powerless', 'powerful'),('evil', 'good'),('organic', 'functional'),('bad', 'good'),('uncomfortable', 'comfortable'),('negative', 'positive'),('difficult', 'easy'),('invisible', 'visible'),('stupid', 'smart', 'intelligent'),('emotional', 'intellectual'),('positive', 'negative'),('dependent', 'independent'),('humble', 'proud'),('rude', 'civil', 'polite'),('unhappy', 'happy'),('insecure', 'secure'),('specific', 'general'),('cautious', 'brave'),('pessimistic', 'optimistic'),('active', 'passive'),('corrupt', 'straight'),('smart', 'stupid'),('conspicuous', 'invisible'),('visible', 'invisible'),('fat', 'lean', 'thin'),('passive', 'active'),('impatient', 'patient'),('shy', 'confident'),('conservative', 'progressive', 'liberal'),('individual', 'common'),('irresponsible', 'responsible'),('progressive', 'conservative'),('hopeful', 'hopeless'),('hungry', 'thirsty'),('courageous', 'fearful'),('optimistic', 'pessimistic'),('defensive', 'offensive')\n"
     ]
    }
   ],
   "source": [
    "# same as above but this is opposite word instead.\n",
    "\n",
    "opps = [] #initialize the store results\n",
    "x = editor.suggest('How can I become more {mask}?')\n",
    "x += editor.suggest('How can I become less {mask}?')\n",
    "for a in set(x):\n",
    "    e = editor.antonyms('How can I become {moreless} %s?' % a, a, moreless=['more', 'less'])\n",
    "    if e:\n",
    "#         print(a, [b[0][0] for b in e] )\n",
    "        opps.append([a] + e)\n",
    "#         opps.append((a, e[0][0][0]))\n",
    "print(','.join([str(tuple(x)) for x in opps]))"
   ]
  },
  {
   "cell_type": "code",
   "execution_count": 36,
   "metadata": {},
   "outputs": [],
   "source": [
    "antonyms = [('progressive', 'conservative'),('religious', 'secular'),('positive', 'negative'),('defensive', 'offensive'),('rude',  'polite'),('optimistic', 'pessimistic'),('stupid', 'smart'),('negative', 'positive'),('unhappy', 'happy'),('active', 'passive'),('impatient', 'patient'),('powerless', 'powerful'),('visible', 'invisible'),('fat', 'thin'),('bad', 'good'),('cautious', 'brave'), ('hopeful', 'hopeless'),('insecure', 'secure'),('humble', 'proud'),('passive', 'active'),('dependent', 'independent'),('pessimistic', 'optimistic'),('irresponsible', 'responsible'),('courageous', 'fearful')]"
   ]
  },
  {
   "cell_type": "code",
   "execution_count": 37,
   "metadata": {},
   "outputs": [],
   "source": [
    "# add synonyms test cases with the different templeates\n",
    "t = editor.template([\n",
    "    (\n",
    "    'How can I become more {x[0]}?',\n",
    "    'How can I become more {x[1]}?',\n",
    "    ),\n",
    "    (\n",
    "    'How can I become more {x[1]}?',\n",
    "    'How can I become more {x[0]}?',\n",
    "    ),\n",
    "    (\n",
    "    'How can I become less {x[0]}?',\n",
    "    'How can I become less {x[1]}?',\n",
    "    ),\n",
    "    (\n",
    "    'How can I become less {x[1]}?',\n",
    "    'How can I become less {x[0]}?',\n",
    "    ),\n",
    "    (\n",
    "    'How can I become {a:x[0]} person?',\n",
    "    'How can I become {a:x[1]} person?',\n",
    "    ),\n",
    "    (\n",
    "    'How can I become {a:x[1]} person?',\n",
    "    'How can I become {a:x[0]} person?',\n",
    "    ),\n",
    "],\n",
    "    unroll=True,\n",
    "    x=synonyms,\n",
    "    remove_duplicates=True, \n",
    "    nsamples=1000)\n",
    "name = 'How can I become more {synonym}?' \n",
    "desc = 'different (simple) templates where words are replaced with their synonyms'\n",
    "test = MFT(**t, labels=1, name=name, capability = 'Taxonomy',\n",
    "          description=desc)\n",
    "# test.run(new_pp)\n",
    "# test.summary(n=3)\n",
    "suite.add(test, overwrite=True)"
   ]
  },
  {
   "cell_type": "code",
   "execution_count": 11,
   "metadata": {},
   "outputs": [],
   "source": [
    "\n",
    "import re\n",
    "# replace_paires: replace occurrences of each word in a pair with the other word, \n",
    "def replace_pairs(pairs):\n",
    "    def replace_z(text):\n",
    "        ret = []\n",
    "        for x, y in pairs:\n",
    "            t = re.sub(r'\\b%s\\b' % x, y, text )\n",
    "            if t != text:\n",
    "                ret.append(t)\n",
    "            if y == 'smart':\n",
    "                continue\n",
    "            t = re.sub(r'\\b%s\\b' % y, x, text )\n",
    "            if t != text:\n",
    "                ret.append(t)\n",
    "        return list(set(ret))\n",
    "    return replace_z\n",
    "\n",
    "# creating pairs of original and modified texts. for tracking the changes\n",
    "def apply_and_pair(fn):\n",
    "    def ret_fn(text):\n",
    "        ret = fn(text)\n",
    "        return [(text, r) for r in ret]\n",
    "    return ret_fn"
   ]
  },
  {
   "cell_type": "code",
   "execution_count": 39,
   "metadata": {},
   "outputs": [
    {
     "data": {
      "text/plain": [
       "[('spiritual', 'religious'),\n",
       " ('angry', 'furious'),\n",
       " ('organized', 'organised'),\n",
       " ('vocal', 'outspoken'),\n",
       " ('grateful', 'thankful'),\n",
       " ('intelligent', 'smart'),\n",
       " ('humble', 'modest'),\n",
       " ('courageous', 'brave'),\n",
       " ('happy', 'joyful'),\n",
       " ('scared', 'frightened')]"
      ]
     },
     "execution_count": 39,
     "metadata": {},
     "output_type": "execute_result"
    }
   ],
   "source": [
    "synonyms #show synonyms"
   ]
  },
  {
   "cell_type": "code",
   "execution_count": 40,
   "metadata": {},
   "outputs": [],
   "source": [
    "# describe test case name and description\n",
    "name = '(question, f(question)) where f(question) replaces synonyms?'  \n",
    "desc = 'Expect 1, should be easy because it\\'s individual word changes'\n",
    "\n",
    "# Invariance test function and the fine-tune the data into the test. \n",
    "t = Perturb.perturb(list(all_questions), apply_and_pair(replace_pairs(synonyms)), nsamples=1000, keep_original=False)\n",
    "test = INV(t.data, threshold=0.1, name=name, description=desc, capability='Taxonomy')\n",
    "suite.add(test, overwrite=True) # write over the old content in the suite\n"
   ]
  },
  {
   "cell_type": "code",
   "execution_count": 41,
   "metadata": {},
   "outputs": [],
   "source": [
    "def apply_to_each_and_product(fn):\n",
    "    def apply_to_one(x):\n",
    "        p = fn(x) #apply function\n",
    "        if not p:\n",
    "            p = []\n",
    "        return list(set([x] + p))\n",
    "    def ret_fn(pair):\n",
    "        #apply function to the first and second element\n",
    "        p1 = apply_to_one(pair[0])\n",
    "        p2 = apply_to_one(pair[1])\n",
    "        return [x for x in itertools.product(p1, p2) if x != pair]\n",
    "    return ret_fn"
   ]
  },
  {
   "cell_type": "code",
   "execution_count": 42,
   "metadata": {},
   "outputs": [],
   "source": [
    "# Test case for Replace synonyms in real pairs\n",
    "name = 'Replace synonyms in real pairs'\n",
    "desc = ''\n",
    "t = Perturb.perturb(qs, apply_to_each_and_product(replace_pairs(synonyms)), nsamples=1000, keep_original=True)\n",
    "test = INV(t.data, threshold=0.1, name=name, description=desc, capability='Taxonomy')\n",
    "suite.add(test, overwrite=True)"
   ]
  },
  {
   "cell_type": "code",
   "execution_count": 43,
   "metadata": {},
   "outputs": [],
   "source": [
    "# Test case that would like to compare that the meaning is not the same.\n",
    "t = editor.template([(\n",
    "    'How can I become more {x[0]}?',\n",
    "    'How can I become less {x[0]}?',\n",
    "    ),\n",
    "    (\n",
    "    'How can I become less {x[1]}?',\n",
    "    'How can I become more {x[1]}?',\n",
    "    )],\n",
    "    unroll=True,\n",
    "    x=antonyms,\n",
    "    remove_duplicates=True, \n",
    "    nsamples=1000)\n",
    "name = 'How can I become more X != How can I become less X' \n",
    "desc = ''\n",
    "test = MFT(**t, labels=0, name=name, capability = 'Vocabulary',\n",
    "          description=desc)\n",
    "# test.run(new_pp, n=500, seed=1)\n",
    "# test.summary(n=3)\n",
    "suite.add(test, overwrite=True)"
   ]
  },
  {
   "cell_type": "code",
   "execution_count": 44,
   "metadata": {},
   "outputs": [],
   "source": [
    "# Test case for the synnonyms and antonym. \n",
    "# for example, more {synonyms} = less {antonym}. the meaning will close. Assume that is equal.\n",
    "t = editor.template([(\n",
    "    \n",
    "    'How can I become more {x[0]}?',\n",
    "    'How can I become less {x[1]}?',\n",
    "    ),\n",
    "    (\n",
    "    'How can I become less {x[0]}?',\n",
    "    'How can I become more {x[1]}?',\n",
    "    )],\n",
    "    unroll=True,\n",
    "    x=antonyms,\n",
    "    remove_duplicates=True, \n",
    "    nsamples=1000)\n",
    "name = 'How can I become more X = How can I become less antonym(X)' \n",
    "desc = ''\n",
    "test = MFT(**t, labels=1, name=name, capability = 'Taxonomy',\n",
    "          description=desc)\n",
    "suite.add(test, overwrite=True)"
   ]
  },
  {
   "cell_type": "markdown",
   "metadata": {},
   "source": [
    "DIR version (kinda bad, won't add to suite)"
   ]
  },
  {
   "cell_type": "code",
   "execution_count": 45,
   "metadata": {},
   "outputs": [],
   "source": [
    "t = Perturb.perturb(list(all_questions), apply_and_pair(replace_pairs(antonyms)), nsamples=200, keep_original=False)\n",
    "test = DIR(t.data, expect=Expect.eq(0), agg_fn='all')\n",
    "# Directional Expectation test"
   ]
  },
  {
   "cell_type": "markdown",
   "metadata": {},
   "source": [
    "## Robustness"
   ]
  },
  {
   "cell_type": "code",
   "execution_count": 46,
   "metadata": {},
   "outputs": [],
   "source": [
    "def wrap_apply_to_each(fn, both=False, *args, **kwargs):\n",
    "    def new_fn(qs, *args, **kwargs):\n",
    "        q1, q2 = qs\n",
    "        ret = []\n",
    "        fnq1 = fn(q1, *args, **kwargs)\n",
    "        fnq2 = fn(q2, *args, **kwargs)\n",
    "        if type(fnq1) != list:\n",
    "            fnq1 = [fnq1]\n",
    "        if type(fnq2) != list:\n",
    "            fnq2 = [fnq2]\n",
    "        #the diff between 2 function. apply to each question\n",
    "        ret.extend([(x, str(q2)) for x in fnq1])\n",
    "        ret.extend([(str(q1), x) for x in fnq2])\n",
    "        if both:\n",
    "            ret.extend([(x, x2) for x, x2 in itertools.product(fnq1, fnq2)])\n",
    "        return [x for x in ret if x[0] and x[1]]\n",
    "    return new_fn\n",
    "def wrap_apply_to_both(fn, *args, **kwargs):\n",
    "    def new_fn(qs, *args, **kwargs):\n",
    "        q1, q2 = qs\n",
    "        ret = []\n",
    "        fnq1 = fn(q1, *args, **kwargs)\n",
    "        fnq2 = fn(q2, *args, **kwargs)\n",
    "        if type(fnq1) != list:\n",
    "            fnq1 = [fnq1]\n",
    "        if type(fnq2) != list:\n",
    "            fnq2 = [fnq2]\n",
    "        #the diff between 2 function\n",
    "        ret.extend([(x, x2) for x, x2 in itertools.product(fnq1, fnq2)])\n",
    "        return [x for x in ret if x[0] and x[1]]\n",
    "    return new_fn"
   ]
  },
  {
   "cell_type": "markdown",
   "metadata": {},
   "source": [
    "Typos"
   ]
  },
  {
   "cell_type": "code",
   "execution_count": 47,
   "metadata": {},
   "outputs": [],
   "source": [
    "# add the typo test into suite under the capability(category) Roubustness\n",
    "t = Perturb.perturb(qs, wrap_apply_to_each(Perturb.add_typos), nsamples=500) #add_type is function in the perturb\n",
    "test = INV(t.data, name='add one typo', capability='Robustness', description='')\n",
    "suite.add(test, overwrite=True)"
   ]
  },
  {
   "cell_type": "markdown",
   "metadata": {},
   "source": [
    "Contractions"
   ]
  },
  {
   "cell_type": "code",
   "execution_count": 48,
   "metadata": {},
   "outputs": [],
   "source": [
    "# add the contraction test into suite under the capability(category) Roubustness\n",
    "t = Perturb.perturb(qs, wrap_apply_to_each(Perturb.contractions, both=True), nsamples=500) #contraction is function in the perturb\n",
    "test = INV(**t, name='contrations', capability='Robustness', description='')\n",
    "suite.add(test)"
   ]
  },
  {
   "cell_type": "markdown",
   "metadata": {},
   "source": [
    "Paraphrases"
   ]
  },
  {
   "cell_type": "code",
   "execution_count": 49,
   "metadata": {},
   "outputs": [],
   "source": [
    "import itertools\n",
    "# function that change the word I->youm my->your mine->yours\n",
    "def me_to_you(text):\n",
    "    t = re.sub(r'\\bI\\b', 'you', text)\n",
    "    t = re.sub(r'\\bmy\\b', 'your', t)\n",
    "    return re.sub(r'\\bmine\\b', 'yours', t)\n",
    "\n",
    "#function that used to paraphrase\n",
    "def paraphrases(text):\n",
    "    ts = ['How do I ', 'How can I ', 'What is a good way to ', 'How should I ']\n",
    "\n",
    "    # define another phrase/template that can be paraphrase from above line\n",
    "    templates1 = ['How do I {x}?', 'How can I {x}?', 'What is a good way to {x}?', 'If I want to {x}, what should I do?',\n",
    "                'In order to {x}, what should I do?']\n",
    "    ts2 = ['Can you ', 'Can I ']#, 'Do I']\n",
    "    ts3 = ['Do I ']\n",
    "    templates2 = ['Can you {x}?', 'Can I {x}?', 'Do you think I can {x}?', 'Do you think you can {x}?',]\n",
    "    templates3 = ['Do I {x}?', 'Do you think I {x}?']\n",
    "    ret = []\n",
    "    for i, (tsz, templates) in enumerate(zip([ts, ts2, ts3], [templates1, templates2, templates3])):\n",
    "        for t in tsz:\n",
    "            if text.startswith(t):\n",
    "                x = text[len(t):].strip('?')\n",
    "                ts = editor.template(templates, x=x).data[0]\n",
    "                if i <= 1:\n",
    "                    ts = ts + [me_to_you(x) for x in ts]\n",
    "                ret += ts\n",
    "    return ret #return new paraphrase sentence\n",
    "\n",
    "#this function will return the tuple of the text that paraphrases.\n",
    "#e.g., text=hihihi this function will return like [('hihihi'),('hihihi')]\n",
    "def paraphrases_product(text):\n",
    "    pr = paraphrases(text)\n",
    "    return list(itertools.product(pr, pr))\n",
    "\n",
    "#this function will return the tuple of the text that also paraphrases into different word\n",
    "#e.g., text=hihihi this function will return like [('how can i?'),('how can i ....?')]\n",
    "def paraphrase_each(pair):\n",
    "    p1 = paraphrases(pair[0])\n",
    "    p2 = paraphrases(pair[1])\n",
    "    return list(itertools.product(p1, p2))"
   ]
  },
  {
   "cell_type": "code",
   "execution_count": 50,
   "metadata": {},
   "outputs": [],
   "source": [
    "# This test case that if paraphrase the word, it will consistent or not\n",
    "t = Perturb.perturb(list(all_questions), paraphrases_product, nsamples=200, keep_original=False)\n",
    "name = '(q, paraphrase(q))'\n",
    "desc = 'For questions that start with \"How do I X\", \"How can I X\", etc'\n",
    "test = DIR(t.data, expect=Expect.eq(1), agg_fn='all', name=name, description=desc, capability='Robustness')\n",
    "suite.add(test, overwrite=True)"
   ]
  },
  {
   "cell_type": "code",
   "execution_count": 51,
   "metadata": {},
   "outputs": [],
   "source": [
    "# This test case that if paraphrase the word, it will consistent or not, which this test case may be complex that above.\n",
    "\n",
    "t = Perturb.perturb(qs, paraphrase_each, nsamples=100, keep_original=True)\n",
    "name = 'Product of paraphrases(q1) * paraphrases(q2)'\n",
    "desc = 'For questions that start with \"How do I X\", \"How can I X\", etc'\n",
    "test = INV(t.data, name=name, description=desc, capability='Robustness')\n",
    "suite.add(test)\n"
   ]
  },
  {
   "cell_type": "markdown",
   "metadata": {},
   "source": [
    "## Ner (Name entity)"
   ]
  },
  {
   "cell_type": "markdown",
   "metadata": {},
   "source": [
    "### Change same name, number, location in both"
   ]
  },
  {
   "cell_type": "markdown",
   "metadata": {},
   "source": [
    "Names"
   ]
  },
  {
   "cell_type": "markdown",
   "metadata": {},
   "source": [
    "person1 and person2 are different by first and last name"
   ]
  },
  {
   "cell_type": "code",
   "execution_count": 52,
   "metadata": {},
   "outputs": [],
   "source": [
    "# This test case test the same adjective with the different people name. Test on the focus on basic function.\n",
    "t = editor.template((\n",
    "    'Is {first_name1} {last_name1} {adj}?',\n",
    "    'Is {first_name2} {last_name2} {adj}?',\n",
    "    ),\n",
    "    adj=adjs_without_overlap,\n",
    "    remove_duplicates=True, \n",
    "    nsamples=1000)\n",
    "test = MFT(**t, labels=0, name='same adjectives, different people', capability = 'NER',\n",
    "          description='Different first and last name, same adjectives')\n",
    "suite.add(test)"
   ]
  },
  {
   "cell_type": "markdown",
   "metadata": {},
   "source": [
    "person1 and person2 are different by first name only"
   ]
  },
  {
   "cell_type": "code",
   "execution_count": 53,
   "metadata": {},
   "outputs": [],
   "source": [
    "# This test case for only different first name\n",
    "t = editor.template((\n",
    "    'Is {first_name} {last_name} {adj}?',\n",
    "    'Is {first_name2} {last_name} {adj}?',\n",
    "    ),\n",
    "    adj=adjs_without_overlap,\n",
    "    remove_duplicates=True, \n",
    "    nsamples=1000)\n",
    "test = MFT(**t, labels=0, name='same adjectives, different people v2', capability = 'NER',\n",
    "          description='Different first name, same adjective and last name')\n",
    "suite.add(test)"
   ]
  },
  {
   "cell_type": "markdown",
   "metadata": {},
   "source": [
    "person1 and person2 are different by last name only"
   ]
  },
  {
   "cell_type": "code",
   "execution_count": 54,
   "metadata": {},
   "outputs": [],
   "source": [
    "# This test case for only different last name\n",
    "\n",
    "t = editor.template((\n",
    "    'Is {first_name} {last_name} {adj}?',\n",
    "    'Is {first_name} {last_name2} {adj}?',\n",
    "    ),\n",
    "    adj=adjs_without_overlap,\n",
    "    remove_duplicates=True, \n",
    "    nsamples=1000)\n",
    "test = MFT(**t, labels=0, name='same adjectives, different people v3', capability = 'NER',\n",
    "          description='Different last name, same adjective and first name')\n",
    "# test.run(new_pp)\n",
    "# test.summary(n=5)\n",
    "suite.add(test)"
   ]
  },
  {
   "cell_type": "code",
   "execution_count": 55,
   "metadata": {},
   "outputs": [],
   "source": [
    "# function for changing the both question. To add INV(Inveriance test)\n",
    "def change_both_wrapper(fn):\n",
    "    def change_both(qs):\n",
    "        q1, q2 = qs\n",
    "        seed = np.random.randint(100)\n",
    "        c1 = fn(q1, seed=seed, meta=True)\n",
    "        c2 = fn(q2, seed=seed, meta=True)\n",
    "        if not c1 or not c2:\n",
    "            return\n",
    "        c1, m1 = c1\n",
    "        c2, m2 = c2\n",
    "        return [(q1, q2) for q1, q2, m1, m2 in zip(c1, c2, m1, m2) if m1 == m2]\n",
    "    return change_both\n",
    "\n",
    "def change_each_wrapper(fn):\n",
    "    def change_one(qs, **kwargs):\n",
    "        q1, q2 = qs\n",
    "        seed = np.random.randint(100)\n",
    "        c1 = fn(q1, seed=seed, meta=True, **kwargs)\n",
    "        c2 = fn(q2, seed=seed, meta=True, **kwargs)\n",
    "        if not c1 or not c2:\n",
    "            return\n",
    "        c1, m1 = c1\n",
    "        c2, m2 = c2\n",
    "        ret = []\n",
    "        ret.extend([(q1_, str(q2)) for q1_, m1_ in zip(c1, m1) if m1_[0] in str(q2)])\n",
    "        ret.extend([(str(q1), q2_) for q2_, m2_ in zip(c2, m2) if m2_[0] in str(q1)])\n",
    "        return ret\n",
    "    return change_one\n",
    "\n",
    "# add the test case change the same name in the both questions\n",
    "# INV type testing which meant focus on change the name.\n",
    "t = Perturb.perturb(parsed_qs, change_both_wrapper(Perturb.change_names), nsamples=500)\n",
    "test = INV(**t, name='Change same name in both questions', capability='NER',\n",
    "          description='')\n",
    "suite.add(test)"
   ]
  },
  {
   "cell_type": "markdown",
   "metadata": {},
   "source": [
    "Locs"
   ]
  },
  {
   "cell_type": "code",
   "execution_count": 56,
   "metadata": {},
   "outputs": [],
   "source": [
    "# add the test case change the same location in the both questions\n",
    "t = Perturb.perturb(parsed_qs, change_both_wrapper(Perturb.change_location), nsamples=500)\n",
    "test = INV(**t, name='Change same location in both questions', capability='NER',\n",
    "          description='')\n",
    "# test.run(new_pp)\n",
    "# test.summary(3)\n",
    "suite.add(test)"
   ]
  },
  {
   "cell_type": "markdown",
   "metadata": {},
   "source": [
    "Numbers"
   ]
  },
  {
   "cell_type": "code",
   "execution_count": 57,
   "metadata": {},
   "outputs": [],
   "source": [
    "# add the test case change the same number in the both questions\n",
    "\n",
    "t = Perturb.perturb(parsed_qs, change_both_wrapper(Perturb.change_number), nsamples=500)\n",
    "test = INV(**t, name='Change same number in both questions', capability='NER',\n",
    "          description='')\n",
    "suite.add(test)"
   ]
  },
  {
   "cell_type": "markdown",
   "metadata": {},
   "source": [
    "### Change name, loc, number in only one where orig prediction is duplicate"
   ]
  },
  {
   "cell_type": "markdown",
   "metadata": {},
   "source": [
    "Changing only first names"
   ]
  },
  {
   "cell_type": "code",
   "execution_count": 58,
   "metadata": {},
   "outputs": [],
   "source": [
    "# add the test case change the same first_name in the only one questions\n",
    "\n",
    "\n",
    "t = Perturb.perturb(parsed_qs, change_each_wrapper(Perturb.change_names), nsamples=500, first_only=True)\n",
    "expect_fn = Expect.eq(0)\n",
    "expect_fn = Expect.slice_orig(expect_fn, lambda orig, *args: orig == 1)\n",
    "name = 'Change first name in one of the questions'\n",
    "desc = 'Take pairs that are originally predicted as duplicates, change first name in one of them and expect new prediction to be non-duplicate'\n",
    "test = DIR(**t, expect=expect_fn, name=name, description=desc, capability='NER')\n",
    "suite.add(test)\n"
   ]
  },
  {
   "cell_type": "markdown",
   "metadata": {},
   "source": [
    "Changing first and last names"
   ]
  },
  {
   "cell_type": "code",
   "execution_count": 59,
   "metadata": {},
   "outputs": [],
   "source": [
    "# add the test case change the same first_name and last_name in the only one questions\n",
    "t = Perturb.perturb(parsed_qs, change_each_wrapper(Perturb.change_names), nsamples=1500)\n",
    "name = 'Change first and last name in one of the questions'\n",
    "desc = 'Take pairs that are originally predicted as duplicates, change first and last name in one of them and expect new prediction to be non-duplicate'\n",
    "test = DIR(**t, expect=expect_fn, name=name, description=desc, capability='NER')\n",
    "# test.run(new_pp)\n",
    "# test.summary(3)\n",
    "suite.add(test)\n"
   ]
  },
  {
   "cell_type": "markdown",
   "metadata": {},
   "source": [
    "Locs"
   ]
  },
  {
   "cell_type": "code",
   "execution_count": 60,
   "metadata": {},
   "outputs": [],
   "source": [
    "# add the test case change the same location in the only one questions\n",
    "t = Perturb.perturb(parsed_qs, change_each_wrapper(Perturb.change_location), nsamples=1500)\n",
    "name = 'Change location in one of the questions'\n",
    "desc = 'Take pairs that are originally predicted as duplicates, change location in one of them and expect new prediction to be non-duplicate'\n",
    "test = DIR(**t, expect=expect_fn, name=name, description=desc, capability='NER')\n",
    "# test.run(new_pp)\n",
    "# test.summary(3)\n",
    "suite.add(test)"
   ]
  },
  {
   "cell_type": "markdown",
   "metadata": {},
   "source": [
    "numbers"
   ]
  },
  {
   "cell_type": "code",
   "execution_count": 61,
   "metadata": {},
   "outputs": [],
   "source": [
    "# add the test case change the same location in the only one questions\n",
    "t = Perturb.perturb(parsed_qs, change_each_wrapper(Perturb.change_number), nsamples=1500)\n",
    "name = 'Change numbers in one of the questions'\n",
    "desc = 'Take pairs that are originally predicted as duplicates, change number in one of them and expect new prediction to be non-duplicate'\n",
    "test = DIR(**t, expect=expect_fn, name=name, description=desc, capability='NER')\n",
    "suite.add(test, overwrite=True)"
   ]
  },
  {
   "cell_type": "markdown",
   "metadata": {},
   "source": [
    "### Keep entities, fill in with BERT gibberish"
   ]
  },
  {
   "cell_type": "code",
   "execution_count": 63,
   "metadata": {},
   "outputs": [],
   "source": [
    "# These functions below used to add the variation into the questions. \n",
    "\n",
    "def mask_gibberish(question):\n",
    "    ents = question.ents\n",
    "    if not ents:\n",
    "        return None\n",
    "    # Like the extract words\n",
    "    wp = [x.text for x in question if x.tag_ in ['WP', 'WRB', 'WDT']]\n",
    "    if not wp:\n",
    "        wp = question[0].text\n",
    "    else:\n",
    "        wp = wp[0]\n",
    "    ents = [x.text for x in ents]\n",
    "    ents[-1] = ents[-1] + '?'\n",
    "    template = ' {mask} '.join([wp] + ents)\n",
    "    gibberish = editor.template(template).data[:5]\n",
    "#     return gibberish\n",
    "    ret = [(question.text, x) for x in gibberish if question.text.lower() != x.lower() ]\n",
    "    return ret\n",
    "\n",
    "\n",
    "def gibberish_both(qs):\n",
    "    q1, q2 = qs # extract qs into q1 and q2\n",
    "    ret = []\n",
    "    x1 = mask_gibberish(q1) #add gibberish into 1st question\n",
    "    if x1:\n",
    "        ret.extend(x1)\n",
    "    x2 = mask_gibberish(q2) #add gibberish into 2nd question\n",
    "    if x2:\n",
    "        ret.extend(x2)\n",
    "    return ret"
   ]
  },
  {
   "cell_type": "code",
   "execution_count": 64,
   "metadata": {},
   "outputs": [],
   "source": [
    "# This test is about adding the gibberish. Let's say gibberish is like an extract word.\n",
    "t = Perturb.perturb(parsed_qs, gibberish_both, nsamples=500)\n",
    "expect_false = Expect.eq(0)\n",
    "name = 'Keep entitites, fill in with gibberish'\n",
    "desc = 'Fill in between entitites with BERT, expect result to not be duplicate with original questions'\n",
    "test = DIR(**t, expect=expect_false, name=name, description=desc, capability='NER')\n",
    "suite.add(test, overwrite=True)"
   ]
  },
  {
   "cell_type": "markdown",
   "metadata": {},
   "source": [
    "## Temporal"
   ]
  },
  {
   "cell_type": "markdown",
   "metadata": {},
   "source": [
    "Is != used to be"
   ]
  },
  {
   "cell_type": "code",
   "execution_count": 66,
   "metadata": {},
   "outputs": [],
   "source": [
    "# This test case for testing that `is` is not equal to `used to be` by defining in the template\n",
    "other_nouns = ['player', 'person', 'friend', 'kid', 'candidate'] # define nouns\n",
    "nouns = list(set(professions + other_nouns)) \n",
    "t = editor.template(('Is {first_name} {last_name} {a:noun}?', 'Did {first_name} {last_name} use to be {a:noun}?'),\n",
    "                noun=nouns,\n",
    "                adj=adjs,\n",
    "                remove_duplicates=True, \n",
    "                nsamples=1000)\n",
    "name = 'Is person X != Did person use to be X'\n",
    "test = MFT(**t, labels=0, name=name, description='', capability='Temporal')\n",
    "suite.add(test)"
   ]
  },
  {
   "cell_type": "markdown",
   "metadata": {},
   "source": [
    "Is != becoming"
   ]
  },
  {
   "cell_type": "code",
   "execution_count": 70,
   "metadata": {},
   "outputs": [],
   "source": [
    "# This test case for testing that `is` is not equal to `becoming` by defining in the template\n",
    "t = editor.template(('Is {first_name} {last_name} {a:noun}?', 'Is {first_name} {last_name} becoming {a:noun}?'),\n",
    "                noun=nouns,\n",
    "                adj=adjs,\n",
    "                remove_duplicates=True, \n",
    "                nsamples=1000)\n",
    "name = 'Is person X != Is person becoming X'\n",
    "test = MFT(**t, labels=0, name=name, description='', capability='Temporal')\n",
    "# test.run(new_pp)\n",
    "# test.summary(n=3)\n",
    "suite.add(test)"
   ]
  },
  {
   "cell_type": "markdown",
   "metadata": {},
   "source": [
    "Before != after"
   ]
  },
  {
   "cell_type": "code",
   "execution_count": 71,
   "metadata": {},
   "outputs": [],
   "source": [
    "# This test case for testing that `before` is not equal to `after` by defining in the template\n",
    "t = editor.template((\n",
    "    'What was {first_name} {last_name}\\'s life before becoming {a:noun}?',\n",
    "    'What was {first_name} {last_name}\\'s life after becoming {a:noun}?'\n",
    "),\n",
    "                noun=nouns,\n",
    "                adj=adjs,\n",
    "                remove_duplicates=True, \n",
    "                nsamples=1000)\n",
    "name = 'What was person\\'s life before becoming X != What was person\\'s life after becoming X'\n",
    "test = MFT(**t, labels=0, name=name, description='', capability='Temporal')\n",
    "# test.run(new_pp)\n",
    "# test.summary(n=3)\n",
    "suite.add(test)"
   ]
  },
  {
   "cell_type": "code",
   "execution_count": 72,
   "metadata": {},
   "outputs": [],
   "source": [
    "# added the word in the mask to action12. The word will depend on the context in the phrase. This will be the action words\n",
    "action12 = [x for x in editor.suggest('Do you have to {mask} your cat before {mask} it?') if 'kill' not in x[0] and 'kill' not in x[1]][:200]"
   ]
  },
  {
   "cell_type": "code",
   "execution_count": 73,
   "metadata": {},
   "outputs": [],
   "source": [
    "# this test case to test the before and after is not equal with the context about animals🐶🐈🐹\n",
    "t = editor.template((\n",
    "    'Do you have to {a[0]} your {an} before {a[1]} it?',\n",
    "    'Do you have to {a[0]} your {an} after {a[1]} it?'\n",
    "),\n",
    "    an = ['cat', 'dog', 'hamster'], #assume `an` contains cat, dog, and hamster\n",
    "    a=action12,\n",
    "    remove_duplicates=True, \n",
    "   nsamples=1000)\n",
    "name = 'Do you have to X your dog before Y it != Do you have to X your dog after Y it.'\n",
    "test = MFT(**t, labels=0, name=name, description='', capability='Temporal')\n",
    "# test.run(new_pp)\n",
    "# test.summary(n=3)\n",
    "suite.add(test)"
   ]
  },
  {
   "cell_type": "code",
   "execution_count": 74,
   "metadata": {},
   "outputs": [
    {
     "name": "stdout",
     "output_type": "stream",
     "text": [
      "illegal, OK, safe, legal, okay, ok, dangerous, acceptable, wrong, proper, possible, unhealthy, unsafe, enough, allowed, normal, appropriate, healthy, advisable, hard, permissible, right, wise, anything, safer, reasonable, alright, necessary, fine, better, rude, risky, important, lawful, best, smart, polite, difficult, unlawful, kosher, good, sensible, mandatory, fair, ethical, inappropriate, forbidden, taboo, healthier, something, unethical, time, customary, weird, cool, harder, compulsory, common, unusual, impossible, strange, easier, banned, permitted, harmful, safest, sufficient, feasible, supposed, prohibited, trendy, immoral, recommended, cheaper, moral, fun, fashionable, bad, easy, expensive, prudent, disrespectful, hot, going, food, wiser, unreasonable, suitable, sinful, what, legitimate, popular, realistic, criminal, disgusting, advised, improper, correct, tough, much, funny, unacceptable, mean, fit, odd, smarter, cheating, usual, abnormal, sick\n"
     ]
    }
   ],
   "source": [
    "# just use this line with the context mask to suggest the word that can use to apply later. \n",
    "print(', '.join(editor.suggest('Is is {mask} to eat after 10pm?'))) "
   ]
  },
  {
   "cell_type": "code",
   "execution_count": 75,
   "metadata": {},
   "outputs": [],
   "source": [
    "# select the word from above cells\n",
    "mid = ['normal', 'ok', 'safe', 'dangerous', 'acceptable', 'reasonable', 'proper', 'wrong', 'healthy', 'important']"
   ]
  },
  {
   "cell_type": "code",
   "execution_count": 76,
   "metadata": {},
   "outputs": [
    {
     "name": "stdout",
     "output_type": "stream",
     "text": [
      "sleep, work, eat, drink, leave, drive, vote, go, smoke, call, talk, stay, fish, visit, post, study, write, retire, travel, tweet, read, rise, strike, return, shop, disappear, stop, start, speak, pray, celebrate, party, live, play, continue, die, fly, watch, cook, text, wait, move, be, act, do, finish, close, exercise, ask, walk, answer, bed, dance, marry, blog, gamble, swim, enter, propose, operate, rest, quit, report, wake, check, relax, search, pee, change, think, nap, meet, run, come, feed, look, fight, dress, vanish, comment, disturb, gather, kill, arrive, chat, remain, dinner, function, protest, queue, publish, withdraw, attend, commute, linger, end, perform, worry, exist, shower, crash, cancel, cry, shave, open, resign, respond, book, paint, exit, refuse, clean, begin, kiss, awake, hunt, intervene, binge, snack, know, cycle, park, date, skate, vomit, demonstrate, panic, fire, occur, practice, phone, reply, vacuum, yawn, campaign, lie, breathe, argue, plan, happen, tip, emerge, complain, investigate, workout, vape, remember, blackout, chill, jog, join, fast, train, fart, bike, proceed, listen, poop, awaken, focus, avoid, conclude, collapse, diet, evacuate, bake, strip, debate, ski, sex, surf, speculate, survive, see, grill, order, pay, question, scream, film, buy, resume, observe, cross, launch, block, broadcast, ring, disconnect, you, depart, behave, peak, appear, learn, bar, shout, concentrate, pause, reconnect, me, Google, research, update, discuss, save, engage\n"
     ]
    }
   ],
   "source": [
    "# just use this line with the context mask to suggest the word that can use to apply later. \n",
    "print(', '.join(editor.suggest('Is is {mid} to {mask} after 10pm?', mid=mid)))"
   ]
  },
  {
   "cell_type": "code",
   "execution_count": 77,
   "metadata": {},
   "outputs": [],
   "source": [
    "# define the selected word\n",
    "activity = ['drink', 'sleep', 'drive', 'work', 'eat', 'smoke', 'walk', 'read', 'party', 'talk', 'exercise', 'celebrate', 'text', 'tweet', 'run', 'dance', 'swim', 'cook', 'pray', 'pee', 'rest']"
   ]
  },
  {
   "cell_type": "code",
   "execution_count": 78,
   "metadata": {},
   "outputs": [],
   "source": [
    "# test case for the focused functionality. I think that this test case is also to test before != after, but the author provided with the context about time.\n",
    "t = editor.template(('Is it {mid} to {activity} before {hour}{ampm}?','Is it {mid} to {activity} after {hour}{ampm}?'),\n",
    "                activity=activity,\n",
    "                mid=mid,\n",
    "                hour=[str(x) for x in range(1, 12)],\n",
    "                ampm=['am', 'pm'],\n",
    "                remove_duplicates=True, \n",
    "                nsamples=1000)\n",
    "name = 'Is it {ok, dangerous, ...} to {smoke, rest, ...} after != before'\n",
    "test = MFT(**t, labels=0, name=name, description='', capability='Temporal')\n",
    "suite.add(test)"
   ]
  },
  {
   "cell_type": "markdown",
   "metadata": {},
   "source": [
    "## Negation"
   ]
  },
  {
   "cell_type": "code",
   "execution_count": 79,
   "metadata": {},
   "outputs": [],
   "source": [
    "# Initialize `mid2` with append other adverb into `mid`\n",
    "mid2 = mid + ['legal', 'awkward', 'socially acceptable']"
   ]
  },
  {
   "cell_type": "code",
   "execution_count": 80,
   "metadata": {},
   "outputs": [
    {
     "name": "stdout",
     "output_type": "stream",
     "text": [
      "live, work, vote, drive, marry, be, travel, study, eat, fight, fly, smoke, exist, speak, pray, protest, die, stay, swim, campaign, write, meet, squat, gamble, surf, fish, hunt, shop, demonstrate, march, murder, kill, pee, visit, paint, rape, race, perform, drink, dance, strike, hide, gather, preach, gay, hate, spy, sleep, lie, worship, migrate, report, move, date, act, fire, party, remain, reside, serve, talk, cook, operate, teach, propose, experiment, settle, play, barbecue, ask, practice, breed, call, bomb, search, offend, black, arrive, discriminate, communicate, walk, survive, shoot, ski, camp, burn, queer, train, farm, sit, broadcast, blog, come, invest, sue, think, tan, shave, transgender, film\n"
     ]
    }
   ],
   "source": [
    "# suggest the verb\n",
    "print(', '.join(editor.suggest('Is it {mid} to {mask} in {country}?', mid=mid2)[:100]))"
   ]
  },
  {
   "cell_type": "code",
   "execution_count": 81,
   "metadata": {},
   "outputs": [],
   "source": [
    "# define selected words\n",
    "things = ['work', 'vote', 'travel', 'marry', 'drive', 'study', 'protest', 'campaign', 'fight', 'gamble', 'hunt', 'pray', 'smoke', 'fish', 'murder', 'invest', 'pee', 'march', 'worship', 'volunteer', 'surf', 'shoot', 'dance', 'camp', 'preach', 'spy', 'be gay', 'lie', 'divorce', 'discriminate']"
   ]
  },
  {
   "cell_type": "code",
   "execution_count": 82,
   "metadata": {},
   "outputs": [],
   "source": [
    "# This test case is used to test the negation which add the `not` to test that is not equal\n",
    "tmp = editor.suggest(('How can I become a person who is {mask}', 'How can I become a person who is not {mask}?'))\n",
    "tmp.remove('differently')\n",
    "t = editor.template((\n",
    "    'How can I become {a:x} person?',\n",
    "    'How can I become a person who is not {x}?',\n",
    "    ),\n",
    "    x=tmp,\n",
    "    remove_duplicates=True, \n",
    "    nsamples=1000)\n",
    "name = 'How can I become a X person != How can I become a person who is not X' \n",
    "desc = ''\n",
    "test = MFT(**t, labels=0, name=name, capability = 'Negation',\n",
    "          description=desc)\n",
    "suite.add(test, overwrite=True)"
   ]
  },
  {
   "cell_type": "code",
   "execution_count": 83,
   "metadata": {},
   "outputs": [],
   "source": [
    "# This test case context is also to test with the negation on the focused function. `Is it {mid} not` and `Is it {mid} ` is not equal\n",
    "t = editor.template(('Is it {mid} to {activity} in {country}?','Is it {mid} not to {activity} in {country}?'),\n",
    "                activity=things,\n",
    "                mid=mid2,\n",
    "                remove_duplicates=True, \n",
    "                nsamples=1000)\n",
    "name = 'Is it {ok, dangerous, ...} to {smoke, rest, ...} in country != Is it {ok, dangerous, ...} not to {smoke, rest, ...} in country'\n",
    "test = MFT(**t, labels=0, name=name, description='', capability='Negation')\n",
    "suite.add(test)"
   ]
  },
  {
   "cell_type": "code",
   "execution_count": 84,
   "metadata": {},
   "outputs": [],
   "source": [
    "# this test case use to test the should and should not is not equal\n",
    "t = editor.template((\n",
    "    'What are things {a:noun} should worry about?',\n",
    "    'What are things {a:noun} should not worry about?',\n",
    "),\n",
    "                noun=nouns,\n",
    "                remove_duplicates=True, \n",
    "                nsamples=1000)\n",
    "name = 'What are things a {noun} should worry about != should not worry about.'\n",
    "test = MFT(**t, labels=0, name=name, description='', capability='Negation')\n",
    "suite.add(test)"
   ]
  },
  {
   "cell_type": "code",
   "execution_count": 85,
   "metadata": {},
   "outputs": [],
   "source": [
    "# this test case is used for test the negation. \n",
    "# For example., How can I become a X person == How can I become a person who is not antonym(X)\n",
    "# For easy understanding, to compare that `synonym` == not `antonym`. This test case is a bit sama as aboveeee test case.\n",
    "t = editor.template([(\n",
    "    'How can I become {a:x[0]} person?',\n",
    "    'How can I become a person who is not {x[1]}?',\n",
    "    ),\n",
    "    (\n",
    "    'How can I become {a:x[1]} person?',\n",
    "    'How can I become a person who is not {x[0]}?',\n",
    "    ),\n",
    "],\n",
    "    unroll=True,\n",
    "    x=antonyms,\n",
    "    remove_duplicates=True, \n",
    "    nsamples=1000)\n",
    "name = 'How can I become a X person == How can I become a person who is not antonym(X)' \n",
    "desc = ''\n",
    "test = MFT(**t, labels=1, name=name, capability = 'Negation',\n",
    "          description=desc)\n",
    "suite.add(test, overwrite=True)"
   ]
  },
  {
   "cell_type": "markdown",
   "metadata": {},
   "source": [
    "## Coref\n",
    "pronoun test"
   ]
  },
  {
   "cell_type": "code",
   "execution_count": 86,
   "metadata": {},
   "outputs": [],
   "source": [
    "# this test case is to test that he and she is not the same\n",
    "t = editor.template(\n",
    "    [(\n",
    "        'If {male} and {female} were alone, do you think he would reject her?',\n",
    "        'If {male} and {female} were alone, do you think she would reject him?',\n",
    "    ),\n",
    "        (\n",
    "        'If {female} and {male} were alone, do you think he would reject her?',\n",
    "        'If {female} and {male} were alone, do you think she would reject him?',\n",
    "    )\n",
    "    ],\n",
    "    remove_duplicates=True, \n",
    "    nsamples=1000,\n",
    "    unroll=True)\n",
    "name = 'Simple coref: he and she'\n",
    "desc = '' \n",
    "test = MFT(**t, labels=0, name=name, description=desc, capability='Coref')\n",
    "# test.run(new_pp)\n",
    "# test.summary(n=3)\n",
    "suite.add(test)"
   ]
  },
  {
   "cell_type": "code",
   "execution_count": 87,
   "metadata": {},
   "outputs": [],
   "source": [
    "# this test case is to test that him and her is not the same\n",
    "t = editor.template(\n",
    "    [(\n",
    "        'If {male} and {female} were married, would his family be happy?',\n",
    "        'If {male} and {female} were married, would {female}\\'s family be happy?',\n",
    "    ),(\n",
    "        'If {male} and {female} were married, would her family be happy?',\n",
    "        'If {male} and {female} were married, would {male}\\'s family be happy?',\n",
    "    ),\n",
    "    ]\n",
    "        ,\n",
    "    unroll=True,\n",
    "    remove_duplicates=True, \n",
    "    nsamples=1000)\n",
    "name = 'Simple coref: his and her'\n",
    "desc = '' \n",
    "test = MFT(**t, labels=0, name=name, description=desc, capability='Coref')\n",
    "# test.run(new_pp)\n",
    "# test.summary(n=3)\n",
    "suite.add(test, 'Simple coref: his and her', 'Coref', 'TODO_DESCRIPTION')"
   ]
  },
  {
   "cell_type": "markdown",
   "metadata": {},
   "source": [
    "## SRL"
   ]
  },
  {
   "cell_type": "code",
   "execution_count": 88,
   "metadata": {},
   "outputs": [
    {
     "name": "stdout",
     "output_type": "stream",
     "text": [
      "boxer, footballer, player, athlete, magician, wrestler, quarterback, actor, coach, rapper, singer, cyclist, fighter, hacker, shooter, gamer, chef, goalkeeper, writer, journalist, dancer, drummer, cook, robot, trainer, goalie, photographer, musician, person, comedian, referee, man, defender, fisherman, runner, lawyer, doctor, DJ, pitcher, teacher, baker, sniper, guy, programmer, manager, football, dog, philosopher, guitarist, kicker, leader, thief, surgeon, driver, soldier, engineer, assassin, artist, QB, student, horse, striker, mathematician, team, worker, politician, vegetarian, scientist, hunter, catcher, vegan, fan, broadcaster, hitter, guard, receiver, human, businessman, diver, blogger, actress, AI, negotiator, basketball, psychologist, bomber, clown, poet, pizza, economist, judge, astronaut, pirate, salesman, pilot, accountant, linebacker, translator, spy, CEO, reporter, computer, farmer, sport, liar, goaltender, server, warrior, gun, friend\n"
     ]
    }
   ],
   "source": [
    "# suggest the word from the context provided\n",
    "print(', '.join(editor.suggest('Who is the best {mask} in the world?')))"
   ]
  },
  {
   "cell_type": "code",
   "execution_count": 89,
   "metadata": {},
   "outputs": [],
   "source": [
    "# define selected the words\n",
    "thing = ['chef', 'boxer', 'player', 'footballer', 'athlete', 'rapper', 'actor', 'singer', 'cook', 'magician', 'coach', 'cyclist', 'wrestler', 'drummer', 'musician', 'quarterback', 'hacker', 'baker', 'fighter', 'journalist', 'teacher', 'doctor', 'gamer', 'husband', 'DJ', 'person', 'man', 'woman', 'surgeon', 'comedian', 'trainer', 'programmer', 'guitarist', 'goalkeeper']"
   ]
  },
  {
   "cell_type": "code",
   "execution_count": 90,
   "metadata": {},
   "outputs": [
    {
     "name": "stdout",
     "output_type": "stream",
     "text": [
      "you, YOU, people, we, they, readers, I, fans, You, your, guys, ya, u, Americans, experts, others, scientists, voters, the, some, men, conservatives, students, folks, critics, players, Canadians, everyone, authors, historians, analysts, friends, celebrities, all, judges, respondents, women, i, most, coaches, liberals, supporters, members, audiences, viewers, journalists, researchers, Australians, many, editors, gamers, Republicans, comedians, he, artists, reporters, participants, writers, parents, atheists, U, consumers, yo, veterans, teachers, independents, millennials, commentators, kids, YOUR, pros, scholars, feminists, users, those, anyone, each, individuals, athletes, pundits, economists, ye, both, stars, philosophers, reviewers, doctors, Christians, two, yours, listeners, candidates, politicians, insiders, adults, any, leaders, Mormons, skeptics, polls, archaeologists, Democrats, teenagers, guests, teams, ladies, psychologists, investigators, contestants, legends, humans, not, wrestlers, scouts, astronomers, musicians, evangelicals, seniors, bloggers, police, sports, Muslims, chefs, fighters, agents, children, brands, libertarians, Britons, Russians, competitors, referees, strikers, activists, still, cyclists, Texans, rappers, drivers, captains, DJs, Cardinals, Cowboys, Conservatives, schools, runners, Italians, academics, physicists, teens, opponents, thee, poets, Millennials\n"
     ]
    }
   ],
   "source": [
    "# suggest the word from the context provided\n",
    "print(', '.join(editor.suggest('Who do {mask} think is the the best {thing} in the world?', thing=thing)))"
   ]
  },
  {
   "cell_type": "code",
   "execution_count": 91,
   "metadata": {},
   "outputs": [],
   "source": [
    "# define selected the words\n",
    "\n",
    "subjects = ['you', 'people', 'readers', 'guys', 'fans', 'experts', 'scientists', 'Americans', 'students', 'men', 'voters', 'authors', 'conservatives', 'women', 'Canadians', 'analysts', 'critics', 'judges', 'artists', 'researchers', 'liberals', 'historians', 'Australians', 'journalists', 'Republicans', 'coaches', 'parents', 'kids', 'economists', 'reporters', 'consumers', 'veterans', 'doctors']"
   ]
  },
  {
   "cell_type": "code",
   "execution_count": 92,
   "metadata": {},
   "outputs": [
    {
     "name": "stdout",
     "output_type": "stream",
     "text": [
      "best, greatest, worst, smartest, top, finest, strongest, toughest, biggest, fastest, deadliest, coolest, hottest, better, happiest, hardest, oldest, richest, safest, great, elite, brightest, superior, premier, ultimate, leading, Greatest, youngest, favorite, busiest, largest, BEST, highest, weakest, easiest, professional, perfect, most, newest, Best, foremost, outstanding, first, dominant, next, premiere, wealthiest, only, star, quickest\n"
     ]
    }
   ],
   "source": [
    "# suggest the word from the context provided\n",
    "print(', '.join(editor.suggest('Who do {subjects} think is the the {mask} {thing} in the world?', thing=thing, subjects=subjects)[:50]))"
   ]
  },
  {
   "cell_type": "code",
   "execution_count": 93,
   "metadata": {},
   "outputs": [],
   "source": [
    "# define selected the words\n",
    "best = ['best', 'greatest', 'worst', 'top', 'smartest', 'strongest', 'finests', 'happiest', 'coolest', 'richest', 'leading', 'brightest', 'premier', 'ultimate', 'dominant']"
   ]
  },
  {
   "cell_type": "code",
   "execution_count": 94,
   "metadata": {},
   "outputs": [],
   "source": [
    "# This test case is to test that add superlative word with noun in different location in the sentence equal or not.\n",
    "t = editor.template((\n",
    "    'Who do {subjects} think is the {best} {thing} in the world?',\n",
    "    'Who is the {best} {thing} in the world according to {subjects}?'\n",
    "),\n",
    "    subjects=subjects,\n",
    "    best=best,\n",
    "    thing=thing,\n",
    "    remove_duplicates=True, \n",
    "    nsamples=1000)\n",
    "name = 'Who do X think - Who is the ... according to X'\n",
    "desc = '' \n",
    "test = MFT(**t, labels=1, name=name, description=desc, capability='SRL')\n",
    "suite.add(test)"
   ]
  },
  {
   "cell_type": "code",
   "execution_count": 95,
   "metadata": {},
   "outputs": [
    {
     "name": "stdout",
     "output_type": "stream",
     "text": [
      "humans, cats, you, dogs, people, mice, pigs, birds, sheep, cows, rats, chickens, fish, bears, we, elephants, rabbits, lions, monkeys, they, snakes, bees, spiders, bats, puppies, dolphins, babies, kittens, children, frogs, ants, butterflies, insects, turtles, trees, ducks, whales, robots, animals, bugs, kids, crabs, carrots, dragons, mosquitoes, cars, sharks, dinosaurs, horses, tigers, wolves, primates, cattle, men, goats, chimpanzees, deer, apes, balls, reptiles, rodents, worms, mammals, flies, apples, ponies, mushrooms, plants, seals, potatoes, ticks, women, Lions, vampires, computers, stones, Pokémon, twins, things, eggs, pets, dwarves, bulls, Indians, boys, elves, calves, toys, beetles, bananas, flowers, trolls, houses, girls, burgers, beans, diamonds, guys, coins, demons\n"
     ]
    }
   ],
   "source": [
    "# suggest the word from the context provided\n",
    "print(', '.join([str(x) for x in editor.suggest('Are {mask} smaller than {a}?', a=['bananas', 'dogs', 'cars', 'cats', 'elephants'])][:100]))"
   ]
  },
  {
   "cell_type": "code",
   "execution_count": 96,
   "metadata": {},
   "outputs": [],
   "source": [
    "# define selected the words\n",
    "things = editor.suggest('Are {mask} smaller than {a}?',a=['bananas', 'dogs', 'cars', 'cats', 'elephants'] )[:100]"
   ]
  },
  {
   "cell_type": "code",
   "execution_count": 97,
   "metadata": {},
   "outputs": [
    {
     "name": "stdout",
     "output_type": "stream",
     "text": [
      "smarter, better, bigger, faster, different, worse, stronger, cooler, tougher, smaller, safer, wiser, larger, nicer, healthier, more, happier, weaker, cheaper, greater, less, slower, harder, cleaner, quicker, easier, quieter, hotter, darker, heavier, lighter, brighter, older, closer, taller, colder, higher, sharper, shorter, louder, warmer, simpler, longer, lesser, lower, younger, other, deeper, softer, thicker, richer, important, superior, fewer, clearer, stranger, broader, wider, intelligent, rather, real, finer, differently, dangerous, inferior, smoother, poorer, thinner, valuable, stupid, tighter, farther, smart, dumb, stricter, related, harsher, interesting, sooner, normal, weird, rare, equal, funny, wealthier, poisonous, bad, beautiful, anymore, wild, racist, evil, similar, good, strange, safe, crazy, true, fat, newer\n"
     ]
    }
   ],
   "source": [
    "# suggest the word from the context provided\n",
    "print(', '.join([str(x) for x in editor.suggest('Are {a} {mask} than {a2}?', a=things)][:100]))"
   ]
  },
  {
   "cell_type": "code",
   "execution_count": 98,
   "metadata": {},
   "outputs": [],
   "source": [
    "# define selected the words\n",
    "comp = ['better', 'worse', 'cheaper', 'bigger', 'louder', 'longer', 'larger', 'smaller', 'warmer', 'colder', 'thicker', 'lighter', 'heavier']"
   ]
  },
  {
   "cell_type": "markdown",
   "metadata": {},
   "source": [
    "Order doesn't matter for comparison"
   ]
  },
  {
   "cell_type": "code",
   "execution_count": 99,
   "metadata": {},
   "outputs": [],
   "source": [
    "# this test case for testing the order of word in the sentence which is not disturb the comparison context\n",
    "t = editor.template([\n",
    "    (\n",
    "    'Are {t1} {comp} than {t2}?',\n",
    "    'What is {comp}, {t2} or {t1}?'\n",
    "    ),\n",
    "    (\n",
    "    'Are {t1} {comp} than {t2}?',\n",
    "    'Are {t2} {comp} than {t1}?',\n",
    "    ),\n",
    "    (\n",
    "    'Are {t1} {comp} than {t2}?',\n",
    "    'What is {comp}, {t1} or {t2}?',\n",
    "    )\n",
    "]\n",
    "    ,\n",
    "    t = things,\n",
    "    comp = comp,\n",
    "    remove_duplicates=True, \n",
    "    nsamples=1000)\n",
    "name = 'Order does not matter for comparison'\n",
    "desc = '' \n",
    "test = MFT(**t, labels=1, name=name, description=desc, capability='SRL')\n",
    "suite.add(test)"
   ]
  },
  {
   "cell_type": "code",
   "execution_count": 101,
   "metadata": {},
   "outputs": [
    {
     "name": "stdout",
     "output_type": "stream",
     "text": [
      "married, related, close, engaged, closer, talking, attracted, lying, connected, linked, speaking, going, referring, loyal, on, writing, listening, tied, important, up, committed, proposing, responding, turning, faithful, Married, dead, similar, bound, closest, next, gay, true, returning, attached, addicted, allergic, coming, abusive, straight, crazy, hostile, indebted, mean, reacting, devoted, right, getting, good, opposed, new, nice, dangerous, back, real, friendly, attractive, trying, clinging, off, bisexual, available, happening, happy, moving, nicer, kin, drawn, Close, known, proposed, alive, entitled, superior, kind, equal, used, answering, cruel, supposed, cheating, truthful, special, relating, out, tending, written, father, unfair, headed, guilty, dedicated, lied, calling, down, cold, wed, relevant, heir, threatening\n",
      "\n",
      "or, really, and, Really, dating, still, a, with, actually, like, not, the, leaving, after, &, meeting, now, REALLY, another, from, marrying, even, for, /, becoming, against, to, his, real, taking, seeing, your, King, …, losing, behind, versus, fucking, truly, killing, an, following, replacing, getting, being, without, indeed, asking, stalking, more, my, Dating, Still, called, born, her, beating, fighting, playing, married, ..., holding, Or, Prince, Mary, James, missing, no, their, raising, vs, Daddy, Young, also, -, John, expecting, pregnant, Sue, secretly, Elizabeth, our, poisoning, kissing, Killing, biologically, cheating, keeping, that, Black, gay, just, already, grooming, into, under, Princess, Like, turning, Kate\n"
     ]
    }
   ],
   "source": [
    "# suggest the word from the context provided\n",
    "print(', '.join(editor.suggest('Is {first_name1} {mask} to {first_name2}?', remove_duplicates=True)[:100]))\n",
    "print()\n",
    "print(', '.join(editor.suggest('Is {first_name1} {mask} {first_name2}?', remove_duplicates=True)[:100]))"
   ]
  },
  {
   "cell_type": "code",
   "execution_count": 102,
   "metadata": {},
   "outputs": [],
   "source": [
    "# define selected the words `symmetric`\n",
    "symmetric = ['dating', 'married to', 'close to', 'engaged to', 'connected to', 'married to', 'friends with', 'related to', 'an acquaintance of']"
   ]
  },
  {
   "cell_type": "code",
   "execution_count": 103,
   "metadata": {},
   "outputs": [],
   "source": [
    "# Test case that test order of the symmetric relation changed, it does not matter\n",
    "t = editor.template((\n",
    "    'Is {first_name1} {s} {first_name2}?',\n",
    "    'Is {first_name2} {s} {first_name1}?',\n",
    "),\n",
    "    s = symmetric,\n",
    "    remove_duplicates=True, \n",
    "    nsamples=1000)\n",
    "name = 'Order does not matter for symmetric relations'\n",
    "desc = 'e.g. dating, married to, close to, engaged to, etc' \n",
    "test = MFT(**t, labels=1, name=name, description=desc, capability='SRL')\n",
    "suite.add(test)"
   ]
  },
  {
   "cell_type": "markdown",
   "metadata": {},
   "source": [
    "Order matters for asymetric relations"
   ]
  },
  {
   "cell_type": "code",
   "execution_count": 104,
   "metadata": {},
   "outputs": [],
   "source": [
    "# define selected the words `asymmetric`\n",
    "\n",
    "asymmetric = ['hurting', 'lying to', 'loyal to', 'faithful to', 'proposing to', 'indebted to', 'abusive to', 'using', 'expecting', 'beating', 'punching', 'raising', 'poisoning', 'protecting', 'kidnapping']"
   ]
  },
  {
   "cell_type": "code",
   "execution_count": 105,
   "metadata": {},
   "outputs": [],
   "source": [
    "# Test case that test order of the asymmetric relation changed, it does not matter\n",
    "t = editor.template((\n",
    "    'Is {first_name1} {s} {first_name2}?',\n",
    "    'Is {first_name2} {s} {first_name1}?',\n",
    "),\n",
    "    s = asymmetric,\n",
    "    remove_duplicates=True, \n",
    "    nsamples=1000)\n",
    "name = 'Order does matter for asymmetric relations'\n",
    "desc = 'e.g. hurting lying to, faithful to, etc'\n",
    "test = MFT(**t, labels=1, name=name, description=desc, capability='SRL')\n",
    "suite.add(test)"
   ]
  },
  {
   "cell_type": "markdown",
   "metadata": {},
   "source": [
    "More traditional SRL"
   ]
  },
  {
   "cell_type": "code",
   "execution_count": 106,
   "metadata": {},
   "outputs": [
    {
     "name": "stdout",
     "output_type": "stream",
     "text": [
      "house, farm, property, land, rights, ticket, stake, boat, book, company, tickets, gun, yacht, island, papers, newspaper, horse, car, ranch, phone, paper, shotgun, plot, books, estate, team, idea, contract, ship, business, plane, game, shares, franchise, painting, Bible, rifle, time, guns, tractor, building, place, horses, tract, cattle, home, stock, newspapers, beer, piece, club, ring, campaign, station, film, church, store, money, Ark, watch, dog, sword, deal, suit, title, factory, story, manuscript, rest, pizza, truck, castle, radio, seat, diamond, machine, cows, telephone, plan, letter, submarine, loan, weapons, mortgage, tapes, equipment, letters, chickens, project, election, cow, pieces, site, insurance, magazine, twins, chicken, fish, plant, paintings\n"
     ]
    }
   ],
   "source": [
    "# suggest the word from the context provided\n",
    "print(', '.join(editor.suggest('Did John buy the {mask}?', remove_duplicates=True)[:100]))"
   ]
  },
  {
   "cell_type": "code",
   "execution_count": 107,
   "metadata": {},
   "outputs": [],
   "source": [
    "# define selected the words `obj`\n",
    "obj = ['farm', 'house', 'property', 'company', 'land', 'ticket', 'newspaper', 'book', 'island', 'estate', 'ranch', 'boat', 'horse', 'paper', 'business', 'gun', 'game', 'factory', 'castle', 'painting', 'rifle', 'car', 'school', 'building']"
   ]
  },
  {
   "cell_type": "code",
   "execution_count": 108,
   "metadata": {},
   "outputs": [
    {
     "name": "stdout",
     "output_type": "stream",
     "text": [
      "buy, sell, take, get, lose, have, own, leave, see, want, use, keep, run, need, steal, win, share, miss, purchase, seize, find, receive, abandon, manage, break, inherit, control, return, recover, save, raise, drop, move, kill, enjoy, hit, tip, touch, throw, like, know, rob, fix, pull, hold, bring, handle, finish, claim, destroy, crash, flip, sign, shoot, call, grab, remember, start, wreck, burn, forget, build, rebuild, reclaim, make, join, clear, enter, lead, give, remove, name, pick, secure, split, watch, fire, play, quit, settle, carry, close, survive, donate, accept, nail, change, eat, acquire, stop, rent, complete, forfeit, borrow, retain, deliver, catch, retrieve, raid, ruin\n"
     ]
    }
   ],
   "source": [
    "# suggest the word from the context provided\n",
    "print(', '.join(editor.suggest('Did John {mask} the {obj}?', obj=obj, remove_duplicates=True)[:100]))"
   ]
  },
  {
   "cell_type": "code",
   "execution_count": 110,
   "metadata": {},
   "outputs": [
    {
     "data": {
      "text/plain": [
       "[('buy', 'bought'),\n",
       " ('purchase', 'purchased'),\n",
       " ('sell', 'sold'),\n",
       " ('leave', 'left'),\n",
       " ('own', 'owned'),\n",
       " ('take', 'taken'),\n",
       " ('keep', 'kept'),\n",
       " ('want', 'wanted'),\n",
       " ('lose', 'lost'),\n",
       " ('destroy', 'destroyed'),\n",
       " ('inherit', 'inherited'),\n",
       " ('find', 'found'),\n",
       " ('use', 'used'),\n",
       " ('need', 'needed'),\n",
       " ('receive', 'received'),\n",
       " ('return', 'returned'),\n",
       " ('like', 'liked'),\n",
       " ('enjoy', 'enjoyed'),\n",
       " ('abandon', 'abandoned'),\n",
       " ('manage', 'managed'),\n",
       " ('remember', 'remembered'),\n",
       " ('miss', 'missed'),\n",
       " ('move', 'moved'),\n",
       " ('seize', 'seized'),\n",
       " ('steal', 'stolen')]"
      ]
     },
     "execution_count": 110,
     "metadata": {},
     "output_type": "execute_result"
    }
   ],
   "source": [
    "import pattern\n",
    "# import pattern.en\n",
    "# define the selected verbs and add another verb which is past particple\n",
    "verbs = ['buy', 'purchase', 'sell', 'leave', 'own', 'take', 'keep', 'want', 'lose', 'destroy', 'inherit', 'find', 'use', 'need', 'receive', 'return', 'like', 'enjoy', 'abandon', 'manage', 'remember', 'miss', 'move', 'seize', 'steal']\n",
    "a = pattern.en.tenses('stolen')[0]\n",
    "verbs = [(v, pattern.en.conjugate(v, *a)) for v in verbs]\n",
    "verbs[3] = ('leave', 'left')\n",
    "verbs"
   ]
  },
  {
   "cell_type": "code",
   "execution_count": 111,
   "metadata": {},
   "outputs": [],
   "source": [
    "# This test case for the swapping active and passive verb. Swap the word order and word context. \n",
    "t = editor.template((\n",
    "    'Did {first_name} {verb[0]} the {obj}?',\n",
    "    'Was the {obj} {verb[1]} by {first_name}?'\n",
    "),\n",
    "    verb=verbs,\n",
    "    obj=obj,\n",
    "    remove_duplicates=True, \n",
    "    nsamples=1000)\n",
    "name = 'traditional SRL: active / passive swap'\n",
    "desc = ''\n",
    "test = MFT(**t, labels=1, name=name, description=desc, capability='SRL')\n",
    "suite.add(test)"
   ]
  },
  {
   "cell_type": "code",
   "execution_count": 112,
   "metadata": {},
   "outputs": [],
   "source": [
    "# This test case for the swapping active and passive verb. Wrong order word sentence.\n",
    "t = editor.template((\n",
    "    'Did {first_name} {verb[0]} the {obj}?',\n",
    "    'Was {first_name} {verb[1]} by the {obj}?'\n",
    "),\n",
    "    verb=verbs,\n",
    "    obj=obj,\n",
    "    remove_duplicates=True, \n",
    "    nsamples=1000)\n",
    "name = 'traditional SRL: wrong active / passive swap'\n",
    "desc = ''\n",
    "test = MFT(**t, labels=0, name=name, description=desc, capability='SRL')\n",
    "suite.add(test)"
   ]
  },
  {
   "cell_type": "markdown",
   "metadata": {},
   "source": [
    "With people"
   ]
  },
  {
   "cell_type": "code",
   "execution_count": 113,
   "metadata": {},
   "outputs": [
    {
     "name": "stdout",
     "output_type": "stream",
     "text": [
      "know, hate, love, like, want, need, kill, miss, remember, have, see, marry, blame, Know, understand, mean, trust, date, forgive, recognize, deserve, tell, get, dislike, bother, Love, find, meet, Want, hurt, beat, Remember, notice, save, believe, murder, mention, fear, leave, prefer, help, resemble, or, follow, choose, shoot, own, support, resent, use, survive, and, eat, play, attack, visit, Like, owe, despise, respect, hit, scare, call, recognise, regret, fancy, kiss, lose, hear, threaten, Hate, haunt, LIKE, ask, suspect, protect, take, touch, mind, chase, kidnap, WANT, Need, represent, accept, control, hire, affect, include, See, divorce, KILL, reject, pity, NEED, possess, influence, stalk, Kill, KNOW\n"
     ]
    }
   ],
   "source": [
    "# suggest the word from the context provided\n",
    "print(', '.join(editor.suggest('Does {first_name} {mask} {first_name2}?', remove_duplicates=True)[:100]))"
   ]
  },
  {
   "cell_type": "code",
   "execution_count": 114,
   "metadata": {},
   "outputs": [],
   "source": [
    "# define the word\n",
    "pverb = ['love', 'hate', 'like', 'remember', 'recognize', 'trust', 'deserve', 'understand', 'blame', 'dislike', 'prefer', 'follow', 'notice', 'hurt', 'bother', 'support', 'believe', 'accept', 'attack']\n",
    "a = pattern.en.tenses('stolen')[0]\n",
    "pverb = [(v, pattern.en.conjugate(v, *a)) for v in pverb]\n",
    "\n",
    "# this test case is for swap the people name and active/passive context. The meaning should be the same.\n",
    "t = editor.template((\n",
    "    'Does {first_name} {verb[0]} {first_name2}?',\n",
    "    'Is {first_name2} {verb[1]} by {first_name}?',\n",
    "),\n",
    "    verb=pverb,\n",
    "    obj=obj,\n",
    "    remove_duplicates=True, \n",
    "    nsamples=1000)\n",
    "name = 'traditional SRL: active / passive swap with people'\n",
    "desc = ''\n",
    "test = MFT(**t, labels=1, name=name, description=desc, capability='SRL')\n",
    "suite.add(test)"
   ]
  },
  {
   "cell_type": "code",
   "execution_count": 115,
   "metadata": {},
   "outputs": [],
   "source": [
    "pverb = ['love', 'hate', 'like', 'remember', 'recognize', 'trust', 'deserve', 'understand', 'blame', 'dislike', 'prefer', 'follow', 'notice', 'hurt', 'bother', 'support', 'believe', 'accept', 'attack']\n",
    "a = pattern.en.tenses('stolen')[0]\n",
    "pverb = [(v, pattern.en.conjugate(v, *a)) for v in pverb]\n",
    "\n",
    "# this test case is for swap the wrong people name order and active/passive context. \n",
    "t = editor.template((\n",
    "    'Does {first_name} {verb[0]} {first_name2}?',\n",
    "    'Is {first_name} {verb[1]} by {first_name2}?',\n",
    "),\n",
    "    verb=pverb,\n",
    "    obj=obj,\n",
    "    remove_duplicates=True, \n",
    "    nsamples=1000)\n",
    "# data = [tuple(np.random.choice(x, 2, replace=False)) for x in data]\n",
    "name = 'traditional SRL: wrong active / passive swap with people'\n",
    "desc = ''\n",
    "test = MFT(**t, labels=0, name=name, description=desc, capability='SRL')\n",
    "# test.run(new_pp)\n",
    "# test.summary(n=3)\n",
    "suite.add(test)"
   ]
  },
  {
   "cell_type": "markdown",
   "metadata": {},
   "source": [
    "## Logic"
   ]
  },
  {
   "cell_type": "code",
   "execution_count": 116,
   "metadata": {},
   "outputs": [],
   "source": [
    "# This test case to test the logic\n",
    "t = editor.template((\n",
    "    'Is {first_name} {last_name} {a:p1} ?',\n",
    "    'Is {first_name} {last_name} {a:p3}?',\n",
    "),\n",
    "    p=professions,\n",
    "    remove_duplicates=True, \n",
    "    nsamples=1000)\n",
    "test = MFT(**t, labels=0)\n"
   ]
  },
  {
   "cell_type": "code",
   "execution_count": 117,
   "metadata": {},
   "outputs": [],
   "source": [
    "# This test case is to test that `x or y` is not same as `w and z` (different parameter)\n",
    "t = editor.template((\n",
    "    'Is {first_name} {last_name} {a:p1} or {a:p2}?',\n",
    "    'Is {first_name} {last_name} simultaneously {a:p3} and {a:p4}?',\n",
    "),\n",
    "    p=professions,\n",
    "    remove_duplicates=True, \n",
    "    nsamples=1000)\n",
    "name = 'A or B is not the same as C and D'\n",
    "desc = ''\n",
    "test = MFT(**t, labels=0, name=name, description=desc, capability='Logic')\n",
    "suite.add(test)\n"
   ]
  },
  {
   "cell_type": "code",
   "execution_count": 118,
   "metadata": {},
   "outputs": [],
   "source": [
    "# This test case is to test that `x or y` is not same as `x and y` (same parameter)\n",
    "t = editor.template((\n",
    "    'Is {first_name} {last_name} {a:p1} or {a:p2}?',\n",
    "    'Is {first_name} {last_name} simultaneously {a:p1} and {a:p2}?',\n",
    "),\n",
    "    p=professions,\n",
    "    remove_duplicates=True, \n",
    "    nsamples=1000)\n",
    "name = 'A or B is not the same as A and B'\n",
    "desc = ''\n",
    "test = MFT(**t, labels=0, name=name, description=desc, capability='Logic')\n",
    "# test.run(new_pp)\n",
    "# test.summary(n=3)\n",
    "suite.add(test)"
   ]
  },
  {
   "cell_type": "code",
   "execution_count": 119,
   "metadata": {},
   "outputs": [],
   "source": [
    "# This test case is to test that A {and/or} B is the same as B {and/or} A\n",
    "# Swap the A and B\n",
    "t = editor.template((\n",
    "    'Is {first_name} {last_name} {a:p1} {andor} {a:p2}?',\n",
    "    'Is {first_name} {last_name} {a:p2} {andor} {a:p1}?',\n",
    "),\n",
    "    andor=['and', 'or'],\n",
    "    p=professions,\n",
    "    remove_duplicates=True, \n",
    "    nsamples=1000)\n",
    "name = 'A and / or B is the same as B and / or A'\n",
    "desc = ''\n",
    "test = MFT(**t, labels=1, name=name, description=desc, capability='Logic')\n",
    "suite.add(test)"
   ]
  },
  {
   "cell_type": "code",
   "execution_count": 120,
   "metadata": {},
   "outputs": [],
   "source": [
    "# This test case is for testing the nationality \n",
    "# for example; If kh lee a Thai journalist? = if kf lee a Thai and Journalist?\n",
    "# seperate adjective and profession\n",
    "t = editor.template((\n",
    "    'Is {first_name} {last_name} {a:nat} {p1}?',\n",
    "    'Is {first_name} {last_name} {a:p1} and {nat}?',\n",
    "),\n",
    "    nat=editor.lexicons['nationality'][:20],\n",
    "    p=professions,\n",
    "    remove_duplicates=True, \n",
    "    nsamples=1000)\n",
    "name = 'a {nationality} {profession} = a {profession} and {nationality}'\n",
    "desc = ''\n",
    "test = MFT(**t, labels=1, name=name, description=desc, capability='Logic')\n",
    "suite.add(test)"
   ]
  },
  {
   "cell_type": "markdown",
   "metadata": {},
   "source": [
    "Reflexivity"
   ]
  },
  {
   "cell_type": "code",
   "execution_count": 121,
   "metadata": {},
   "outputs": [],
   "source": [
    "# This test case is for test that the list tuple of question should be equal\n",
    "t = Perturb.perturb(list(all_questions), lambda x:(x, x), nsamples=1000, keep_original=False)\n",
    "name = 'Reflexivity: (q, q) should be duplicate'\n",
    "desc = ''\n",
    "test = MFT(**t, labels=1, name=name, description=desc, capability='Logic')\n",
    "suite.add(test)"
   ]
  },
  {
   "cell_type": "markdown",
   "metadata": {},
   "source": [
    "Symmetry"
   ]
  },
  {
   "cell_type": "code",
   "execution_count": 122,
   "metadata": {},
   "outputs": [],
   "source": [
    "# This test case is for test that the function f(a,b) will equal f(b,a) or not\n",
    "\n",
    "t = Perturb.perturb(qs, lambda x:(x[1], x[0]), nsamples=500, keep_original=True)\n",
    "name = 'Symmetry: f(a, b) = f(b, a)'\n",
    "desc = ''\n",
    "test = INV(t.data, name=name, description=desc, capability='Logic')\n",
    "suite.add(test)"
   ]
  },
  {
   "cell_type": "code",
   "execution_count": 125,
   "metadata": {},
   "outputs": [],
   "source": [
    "# this function extracts unknown implications from a set of pairs and corresponding labels.\n",
    "import collections\n",
    "def extract_unknown_implications(pairs, labels):\n",
    "    graph = collections.defaultdict(lambda: set())\n",
    "    ls = {}\n",
    "    for x, y in zip(pairs, labels):\n",
    "        graph[x[0]].add(x[1])\n",
    "        graph[x[1]].add(x[0])\n",
    "        t = tuple(sorted(x))\n",
    "        ls[t] = y\n",
    "\n",
    "    d = []\n",
    "    l = []\n",
    "    for x in graph:\n",
    "        if len(graph[x]) == 1:\n",
    "            continue\n",
    "        for y in graph[x]:\n",
    "            t = tuple(sorted((x, y)))\n",
    "    #         print(t, ls[t])\n",
    "        new = list(set([tuple(sorted(a)) for a in itertools.product(list(graph[x]), list(graph[x])) if a[0] != a[1]]))\n",
    "        new = [a for a in new if a not in ls]\n",
    "        for b, c in new:\n",
    "            t1 = tuple(sorted((x, b)))\n",
    "            t2 = tuple(sorted((x, c)))\n",
    "            l1 = ls[t1]\n",
    "            l2 = ls[t2]\n",
    "            if l1 + l2 == 2:\n",
    "                l3 = 1\n",
    "            elif l1 + l2 == 1:\n",
    "                l3 = 0\n",
    "            else:\n",
    "                continue\n",
    "            new_x = [(x, b), (x, c), (b, c)]\n",
    "            new_l = np.array([l1, l2, l3])\n",
    "            d.append(new_x)\n",
    "            l.append(new_l)\n",
    "    return d, l"
   ]
  },
  {
   "cell_type": "code",
   "execution_count": 126,
   "metadata": {},
   "outputs": [],
   "source": [
    "data, ls = extract_unknown_implications(qs, labels) # extract the qs array and labels that define when importing and reading the dev.tsv "
   ]
  },
  {
   "cell_type": "code",
   "execution_count": 127,
   "metadata": {},
   "outputs": [],
   "source": [
    "# not sure about this section \n",
    "# Evaluate the correctness of prediction \n",
    "def expect_triplet(xs, preds, confs, labels, meta=None):\n",
    "\n",
    "    if (preds[0] + preds[1]) == 2:\n",
    "        if preds[2] != 1:\n",
    "            return np.array([-3, -2, -1]) #expect the \n",
    "        else:\n",
    "            return np.array([True, True, True])\n",
    "    if (preds[0] + preds[1] == 1) and preds[1] != 0: #expect preds = '0' / preds = '1'\n",
    "        if preds[1] != 0: \n",
    "            return np.array([-3, -2, -1])\n",
    "        else:\n",
    "            return np.array([True, True, True])\n",
    "    return None\n",
    "\n",
    "# add the expectation of the tesing by using `expect striplet` function. saved into `expect`\n",
    "expect = Expect.testcase(expect_triplet)"
   ]
  },
  {
   "cell_type": "code",
   "execution_count": 128,
   "metadata": {},
   "outputs": [],
   "source": [
    "# Test the DIR model prediction type\n",
    "name = 'Testing implications'\n",
    "desc = 'f(x, a) = 1 and f(x, b) = 1 => f(a, b) = 1\\nf(x, a) = 1 and f(x, b) = 0 => f(a, b) = 0\\n Only used (x, a, b) such that (x, a) and (x, b) in val dataset and (a, b) is not.\\n Expectation function filters out examples where f(x, a) or f(x, b) are incorrect'\n",
    "test = DIR(data, expect, labels=ls, name=name, description=desc, capability='Logic')\n",
    "suite.add(test)"
   ]
  },
  {
   "cell_type": "code",
   "execution_count": 129,
   "metadata": {},
   "outputs": [],
   "source": [
    "path = 'qqp_suite.pkl' #define path\n",
    "suite.save(path) #save the test case into path that define"
   ]
  }
 ],
 "metadata": {
  "kernelspec": {
   "display_name": "Python 3 (ipykernel)",
   "language": "python",
   "name": "python3"
  },
  "language_info": {
   "codemirror_mode": {
    "name": "ipython",
    "version": 3
   },
   "file_extension": ".py",
   "mimetype": "text/x-python",
   "name": "python",
   "nbconvert_exporter": "python",
   "pygments_lexer": "ipython3",
   "version": "3.11.7"
  }
 },
 "nbformat": 4,
 "nbformat_minor": 4
}
